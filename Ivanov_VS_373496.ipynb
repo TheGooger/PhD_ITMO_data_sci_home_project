{
 "cells": [
  {
   "cell_type": "markdown",
   "id": "8c99d60b-bc47-412f-9b72-04848d8120c6",
   "metadata": {},
   "source": [
    "# Основы анализа данных"
   ]
  },
  {
   "cell_type": "markdown",
   "id": "560fa50e-bfbd-47a4-9247-138caf1116d2",
   "metadata": {},
   "source": [
    "## Иванов Владимир Сергеевич [373496]"
   ]
  },
  {
   "cell_type": "markdown",
   "id": "fd718808-559a-4554-957c-4e290d411a3f",
   "metadata": {},
   "source": [
    "### Цель работы: оценить влияние различных факторов на способность клиентов погасить кредит вовремя"
   ]
  },
  {
   "cell_type": "markdown",
   "id": "20bd3d57-671b-4800-b3f4-0f4f3e376005",
   "metadata": {},
   "source": [
    "#### План анализа:\n",
    "1. Предобработка данных\n",
    "   * загрузка данных\n",
    "   * очистка данных\n",
    "   * обогащение данных\n",
    "3. Исследовательский анализ и визуализация\n",
    "4. Формирование вывода и рекомендаций"
   ]
  },
  {
   "cell_type": "code",
   "execution_count": 182,
   "id": "eef1ed01-25c1-4af1-bac3-652127ac347e",
   "metadata": {
    "scrolled": true
   },
   "outputs": [
    {
     "data": {
      "text/html": [
       "<div>\n",
       "<style scoped>\n",
       "    .dataframe tbody tr th:only-of-type {\n",
       "        vertical-align: middle;\n",
       "    }\n",
       "\n",
       "    .dataframe tbody tr th {\n",
       "        vertical-align: top;\n",
       "    }\n",
       "\n",
       "    .dataframe thead th {\n",
       "        text-align: right;\n",
       "    }\n",
       "</style>\n",
       "<table border=\"1\" class=\"dataframe\">\n",
       "  <thead>\n",
       "    <tr style=\"text-align: right;\">\n",
       "      <th></th>\n",
       "      <th>children</th>\n",
       "      <th>days_employed</th>\n",
       "      <th>dob_years</th>\n",
       "      <th>education</th>\n",
       "      <th>education_id</th>\n",
       "      <th>family_status</th>\n",
       "      <th>family_status_id</th>\n",
       "      <th>gender</th>\n",
       "      <th>income_type</th>\n",
       "      <th>debt</th>\n",
       "      <th>total_income</th>\n",
       "      <th>purpose</th>\n",
       "    </tr>\n",
       "  </thead>\n",
       "  <tbody>\n",
       "    <tr>\n",
       "      <th>0</th>\n",
       "      <td>1</td>\n",
       "      <td>-8437.673028</td>\n",
       "      <td>42</td>\n",
       "      <td>высшее</td>\n",
       "      <td>0</td>\n",
       "      <td>женат / замужем</td>\n",
       "      <td>0</td>\n",
       "      <td>F</td>\n",
       "      <td>сотрудник</td>\n",
       "      <td>0</td>\n",
       "      <td>253875.639453</td>\n",
       "      <td>покупка жилья</td>\n",
       "    </tr>\n",
       "    <tr>\n",
       "      <th>1</th>\n",
       "      <td>1</td>\n",
       "      <td>-4024.803754</td>\n",
       "      <td>36</td>\n",
       "      <td>среднее</td>\n",
       "      <td>1</td>\n",
       "      <td>женат / замужем</td>\n",
       "      <td>0</td>\n",
       "      <td>F</td>\n",
       "      <td>сотрудник</td>\n",
       "      <td>0</td>\n",
       "      <td>112080.014102</td>\n",
       "      <td>приобретение автомобиля</td>\n",
       "    </tr>\n",
       "    <tr>\n",
       "      <th>2</th>\n",
       "      <td>0</td>\n",
       "      <td>-5623.422610</td>\n",
       "      <td>33</td>\n",
       "      <td>Среднее</td>\n",
       "      <td>1</td>\n",
       "      <td>женат / замужем</td>\n",
       "      <td>0</td>\n",
       "      <td>M</td>\n",
       "      <td>сотрудник</td>\n",
       "      <td>0</td>\n",
       "      <td>145885.952297</td>\n",
       "      <td>покупка жилья</td>\n",
       "    </tr>\n",
       "    <tr>\n",
       "      <th>3</th>\n",
       "      <td>3</td>\n",
       "      <td>-4124.747207</td>\n",
       "      <td>32</td>\n",
       "      <td>среднее</td>\n",
       "      <td>1</td>\n",
       "      <td>женат / замужем</td>\n",
       "      <td>0</td>\n",
       "      <td>M</td>\n",
       "      <td>сотрудник</td>\n",
       "      <td>0</td>\n",
       "      <td>267628.550329</td>\n",
       "      <td>дополнительное образование</td>\n",
       "    </tr>\n",
       "    <tr>\n",
       "      <th>4</th>\n",
       "      <td>0</td>\n",
       "      <td>340266.072047</td>\n",
       "      <td>53</td>\n",
       "      <td>среднее</td>\n",
       "      <td>1</td>\n",
       "      <td>гражданский брак</td>\n",
       "      <td>1</td>\n",
       "      <td>F</td>\n",
       "      <td>пенсионер</td>\n",
       "      <td>0</td>\n",
       "      <td>158616.077870</td>\n",
       "      <td>сыграть свадьбу</td>\n",
       "    </tr>\n",
       "    <tr>\n",
       "      <th>5</th>\n",
       "      <td>0</td>\n",
       "      <td>-926.185831</td>\n",
       "      <td>27</td>\n",
       "      <td>высшее</td>\n",
       "      <td>0</td>\n",
       "      <td>гражданский брак</td>\n",
       "      <td>1</td>\n",
       "      <td>M</td>\n",
       "      <td>компаньон</td>\n",
       "      <td>0</td>\n",
       "      <td>255763.565419</td>\n",
       "      <td>покупка жилья</td>\n",
       "    </tr>\n",
       "    <tr>\n",
       "      <th>6</th>\n",
       "      <td>0</td>\n",
       "      <td>-2879.202052</td>\n",
       "      <td>43</td>\n",
       "      <td>высшее</td>\n",
       "      <td>0</td>\n",
       "      <td>женат / замужем</td>\n",
       "      <td>0</td>\n",
       "      <td>F</td>\n",
       "      <td>компаньон</td>\n",
       "      <td>0</td>\n",
       "      <td>240525.971920</td>\n",
       "      <td>операции с жильем</td>\n",
       "    </tr>\n",
       "    <tr>\n",
       "      <th>7</th>\n",
       "      <td>0</td>\n",
       "      <td>-152.779569</td>\n",
       "      <td>50</td>\n",
       "      <td>СРЕДНЕЕ</td>\n",
       "      <td>1</td>\n",
       "      <td>женат / замужем</td>\n",
       "      <td>0</td>\n",
       "      <td>M</td>\n",
       "      <td>сотрудник</td>\n",
       "      <td>0</td>\n",
       "      <td>135823.934197</td>\n",
       "      <td>образование</td>\n",
       "    </tr>\n",
       "    <tr>\n",
       "      <th>8</th>\n",
       "      <td>2</td>\n",
       "      <td>-6929.865299</td>\n",
       "      <td>35</td>\n",
       "      <td>ВЫСШЕЕ</td>\n",
       "      <td>0</td>\n",
       "      <td>гражданский брак</td>\n",
       "      <td>1</td>\n",
       "      <td>F</td>\n",
       "      <td>сотрудник</td>\n",
       "      <td>0</td>\n",
       "      <td>95856.832424</td>\n",
       "      <td>на проведение свадьбы</td>\n",
       "    </tr>\n",
       "    <tr>\n",
       "      <th>9</th>\n",
       "      <td>0</td>\n",
       "      <td>-2188.756445</td>\n",
       "      <td>41</td>\n",
       "      <td>среднее</td>\n",
       "      <td>1</td>\n",
       "      <td>женат / замужем</td>\n",
       "      <td>0</td>\n",
       "      <td>M</td>\n",
       "      <td>сотрудник</td>\n",
       "      <td>0</td>\n",
       "      <td>144425.938277</td>\n",
       "      <td>покупка жилья для семьи</td>\n",
       "    </tr>\n",
       "    <tr>\n",
       "      <th>10</th>\n",
       "      <td>2</td>\n",
       "      <td>-4171.483647</td>\n",
       "      <td>36</td>\n",
       "      <td>высшее</td>\n",
       "      <td>0</td>\n",
       "      <td>женат / замужем</td>\n",
       "      <td>0</td>\n",
       "      <td>M</td>\n",
       "      <td>компаньон</td>\n",
       "      <td>0</td>\n",
       "      <td>113943.491460</td>\n",
       "      <td>покупка недвижимости</td>\n",
       "    </tr>\n",
       "    <tr>\n",
       "      <th>11</th>\n",
       "      <td>0</td>\n",
       "      <td>-792.701887</td>\n",
       "      <td>40</td>\n",
       "      <td>среднее</td>\n",
       "      <td>1</td>\n",
       "      <td>женат / замужем</td>\n",
       "      <td>0</td>\n",
       "      <td>F</td>\n",
       "      <td>сотрудник</td>\n",
       "      <td>0</td>\n",
       "      <td>77069.234271</td>\n",
       "      <td>покупка коммерческой недвижимости</td>\n",
       "    </tr>\n",
       "    <tr>\n",
       "      <th>12</th>\n",
       "      <td>0</td>\n",
       "      <td>NaN</td>\n",
       "      <td>65</td>\n",
       "      <td>среднее</td>\n",
       "      <td>1</td>\n",
       "      <td>гражданский брак</td>\n",
       "      <td>1</td>\n",
       "      <td>M</td>\n",
       "      <td>пенсионер</td>\n",
       "      <td>0</td>\n",
       "      <td>NaN</td>\n",
       "      <td>сыграть свадьбу</td>\n",
       "    </tr>\n",
       "    <tr>\n",
       "      <th>13</th>\n",
       "      <td>0</td>\n",
       "      <td>-1846.641941</td>\n",
       "      <td>54</td>\n",
       "      <td>неоконченное высшее</td>\n",
       "      <td>2</td>\n",
       "      <td>женат / замужем</td>\n",
       "      <td>0</td>\n",
       "      <td>F</td>\n",
       "      <td>сотрудник</td>\n",
       "      <td>0</td>\n",
       "      <td>130458.228857</td>\n",
       "      <td>приобретение автомобиля</td>\n",
       "    </tr>\n",
       "    <tr>\n",
       "      <th>14</th>\n",
       "      <td>0</td>\n",
       "      <td>-1844.956182</td>\n",
       "      <td>56</td>\n",
       "      <td>высшее</td>\n",
       "      <td>0</td>\n",
       "      <td>гражданский брак</td>\n",
       "      <td>1</td>\n",
       "      <td>F</td>\n",
       "      <td>компаньон</td>\n",
       "      <td>1</td>\n",
       "      <td>165127.911772</td>\n",
       "      <td>покупка жилой недвижимости</td>\n",
       "    </tr>\n",
       "    <tr>\n",
       "      <th>15</th>\n",
       "      <td>1</td>\n",
       "      <td>-972.364419</td>\n",
       "      <td>26</td>\n",
       "      <td>среднее</td>\n",
       "      <td>1</td>\n",
       "      <td>женат / замужем</td>\n",
       "      <td>0</td>\n",
       "      <td>F</td>\n",
       "      <td>сотрудник</td>\n",
       "      <td>0</td>\n",
       "      <td>116820.904450</td>\n",
       "      <td>строительство собственной недвижимости</td>\n",
       "    </tr>\n",
       "    <tr>\n",
       "      <th>16</th>\n",
       "      <td>0</td>\n",
       "      <td>-1719.934226</td>\n",
       "      <td>35</td>\n",
       "      <td>среднее</td>\n",
       "      <td>1</td>\n",
       "      <td>женат / замужем</td>\n",
       "      <td>0</td>\n",
       "      <td>F</td>\n",
       "      <td>сотрудник</td>\n",
       "      <td>0</td>\n",
       "      <td>289202.704229</td>\n",
       "      <td>недвижимость</td>\n",
       "    </tr>\n",
       "    <tr>\n",
       "      <th>17</th>\n",
       "      <td>0</td>\n",
       "      <td>-2369.999720</td>\n",
       "      <td>33</td>\n",
       "      <td>высшее</td>\n",
       "      <td>0</td>\n",
       "      <td>гражданский брак</td>\n",
       "      <td>1</td>\n",
       "      <td>M</td>\n",
       "      <td>сотрудник</td>\n",
       "      <td>0</td>\n",
       "      <td>90410.586745</td>\n",
       "      <td>строительство недвижимости</td>\n",
       "    </tr>\n",
       "    <tr>\n",
       "      <th>18</th>\n",
       "      <td>0</td>\n",
       "      <td>400281.136913</td>\n",
       "      <td>53</td>\n",
       "      <td>среднее</td>\n",
       "      <td>1</td>\n",
       "      <td>вдовец / вдова</td>\n",
       "      <td>2</td>\n",
       "      <td>F</td>\n",
       "      <td>пенсионер</td>\n",
       "      <td>0</td>\n",
       "      <td>56823.777243</td>\n",
       "      <td>на покупку подержанного автомобиля</td>\n",
       "    </tr>\n",
       "    <tr>\n",
       "      <th>19</th>\n",
       "      <td>0</td>\n",
       "      <td>-10038.818549</td>\n",
       "      <td>48</td>\n",
       "      <td>СРЕДНЕЕ</td>\n",
       "      <td>1</td>\n",
       "      <td>в разводе</td>\n",
       "      <td>3</td>\n",
       "      <td>F</td>\n",
       "      <td>сотрудник</td>\n",
       "      <td>0</td>\n",
       "      <td>242831.107982</td>\n",
       "      <td>на покупку своего автомобиля</td>\n",
       "    </tr>\n",
       "  </tbody>\n",
       "</table>\n",
       "</div>"
      ],
      "text/plain": [
       "    children  days_employed  dob_years            education  education_id  \\\n",
       "0          1   -8437.673028         42               высшее             0   \n",
       "1          1   -4024.803754         36              среднее             1   \n",
       "2          0   -5623.422610         33              Среднее             1   \n",
       "3          3   -4124.747207         32              среднее             1   \n",
       "4          0  340266.072047         53              среднее             1   \n",
       "5          0    -926.185831         27               высшее             0   \n",
       "6          0   -2879.202052         43               высшее             0   \n",
       "7          0    -152.779569         50              СРЕДНЕЕ             1   \n",
       "8          2   -6929.865299         35               ВЫСШЕЕ             0   \n",
       "9          0   -2188.756445         41              среднее             1   \n",
       "10         2   -4171.483647         36               высшее             0   \n",
       "11         0    -792.701887         40              среднее             1   \n",
       "12         0            NaN         65              среднее             1   \n",
       "13         0   -1846.641941         54  неоконченное высшее             2   \n",
       "14         0   -1844.956182         56               высшее             0   \n",
       "15         1    -972.364419         26              среднее             1   \n",
       "16         0   -1719.934226         35              среднее             1   \n",
       "17         0   -2369.999720         33               высшее             0   \n",
       "18         0  400281.136913         53              среднее             1   \n",
       "19         0  -10038.818549         48              СРЕДНЕЕ             1   \n",
       "\n",
       "       family_status  family_status_id gender income_type  debt  \\\n",
       "0    женат / замужем                 0      F   сотрудник     0   \n",
       "1    женат / замужем                 0      F   сотрудник     0   \n",
       "2    женат / замужем                 0      M   сотрудник     0   \n",
       "3    женат / замужем                 0      M   сотрудник     0   \n",
       "4   гражданский брак                 1      F   пенсионер     0   \n",
       "5   гражданский брак                 1      M   компаньон     0   \n",
       "6    женат / замужем                 0      F   компаньон     0   \n",
       "7    женат / замужем                 0      M   сотрудник     0   \n",
       "8   гражданский брак                 1      F   сотрудник     0   \n",
       "9    женат / замужем                 0      M   сотрудник     0   \n",
       "10   женат / замужем                 0      M   компаньон     0   \n",
       "11   женат / замужем                 0      F   сотрудник     0   \n",
       "12  гражданский брак                 1      M   пенсионер     0   \n",
       "13   женат / замужем                 0      F   сотрудник     0   \n",
       "14  гражданский брак                 1      F   компаньон     1   \n",
       "15   женат / замужем                 0      F   сотрудник     0   \n",
       "16   женат / замужем                 0      F   сотрудник     0   \n",
       "17  гражданский брак                 1      M   сотрудник     0   \n",
       "18    вдовец / вдова                 2      F   пенсионер     0   \n",
       "19         в разводе                 3      F   сотрудник     0   \n",
       "\n",
       "     total_income                                 purpose  \n",
       "0   253875.639453                           покупка жилья  \n",
       "1   112080.014102                 приобретение автомобиля  \n",
       "2   145885.952297                           покупка жилья  \n",
       "3   267628.550329              дополнительное образование  \n",
       "4   158616.077870                         сыграть свадьбу  \n",
       "5   255763.565419                           покупка жилья  \n",
       "6   240525.971920                       операции с жильем  \n",
       "7   135823.934197                             образование  \n",
       "8    95856.832424                   на проведение свадьбы  \n",
       "9   144425.938277                 покупка жилья для семьи  \n",
       "10  113943.491460                    покупка недвижимости  \n",
       "11   77069.234271       покупка коммерческой недвижимости  \n",
       "12            NaN                         сыграть свадьбу  \n",
       "13  130458.228857                 приобретение автомобиля  \n",
       "14  165127.911772              покупка жилой недвижимости  \n",
       "15  116820.904450  строительство собственной недвижимости  \n",
       "16  289202.704229                            недвижимость  \n",
       "17   90410.586745              строительство недвижимости  \n",
       "18   56823.777243      на покупку подержанного автомобиля  \n",
       "19  242831.107982            на покупку своего автомобиля  "
      ]
     },
     "execution_count": 182,
     "metadata": {},
     "output_type": "execute_result"
    }
   ],
   "source": [
    "import pandas as pd\n",
    "import numpy as np\n",
    "pd.options.mode.chained_assignment = None  # default='warn'\n",
    "\n",
    "df_original = pd.read_csv('data.csv')\n",
    "df = pd.read_csv('data.csv')\n",
    "df.head(20)"
   ]
  },
  {
   "cell_type": "code",
   "execution_count": 183,
   "id": "2d4fde14-71de-48f8-896a-f9d2926389dc",
   "metadata": {
    "scrolled": true
   },
   "outputs": [
    {
     "name": "stdout",
     "output_type": "stream",
     "text": [
      "<class 'pandas.core.frame.DataFrame'>\n",
      "RangeIndex: 21525 entries, 0 to 21524\n",
      "Data columns (total 12 columns):\n",
      " #   Column            Non-Null Count  Dtype  \n",
      "---  ------            --------------  -----  \n",
      " 0   children          21525 non-null  int64  \n",
      " 1   days_employed     19351 non-null  float64\n",
      " 2   dob_years         21525 non-null  int64  \n",
      " 3   education         21525 non-null  object \n",
      " 4   education_id      21525 non-null  int64  \n",
      " 5   family_status     21525 non-null  object \n",
      " 6   family_status_id  21525 non-null  int64  \n",
      " 7   gender            21525 non-null  object \n",
      " 8   income_type       21525 non-null  object \n",
      " 9   debt              21525 non-null  int64  \n",
      " 10  total_income      19351 non-null  float64\n",
      " 11  purpose           21525 non-null  object \n",
      "dtypes: float64(2), int64(5), object(5)\n",
      "memory usage: 2.0+ MB\n"
     ]
    }
   ],
   "source": [
    "df.info()"
   ]
  },
  {
   "cell_type": "markdown",
   "id": "64d805c4-807f-4d07-bcdb-40453c4ae44a",
   "metadata": {},
   "source": [
    "Типы данных в порядке."
   ]
  },
  {
   "cell_type": "markdown",
   "id": "062159f0-e39a-4f20-9b2d-8ef8090ff25a",
   "metadata": {},
   "source": [
    "Зафиксируем размер (количество строк) изначального набора данных."
   ]
  },
  {
   "cell_type": "code",
   "execution_count": 184,
   "id": "d90ad48d-55b2-472e-b329-0e9caef50a2b",
   "metadata": {},
   "outputs": [],
   "source": [
    "row_data_shape = df_original.shape[0]"
   ]
  },
  {
   "cell_type": "markdown",
   "id": "58abc3b8-2678-4c59-b32f-fb27a2bfe3d0",
   "metadata": {},
   "source": [
    "### Шаг 2. Предобработка данных"
   ]
  },
  {
   "cell_type": "markdown",
   "id": "1d49256d-0b0a-4dac-84cc-3d7d1915a703",
   "metadata": {},
   "source": [
    "#### 1."
   ]
  },
  {
   "cell_type": "markdown",
   "id": "54586881-aefd-470a-aef2-d72cf90ab52f",
   "metadata": {},
   "source": [
    "Методом isna() находим пропущенные значения. Метод sum() выводит количество пропущенных значений для каждого столбца."
   ]
  },
  {
   "cell_type": "code",
   "execution_count": 185,
   "id": "c2418d97-ead5-4cc5-bb3a-9638d86e45e4",
   "metadata": {},
   "outputs": [
    {
     "data": {
      "text/plain": [
       "children               0\n",
       "days_employed       2174\n",
       "dob_years              0\n",
       "education              0\n",
       "education_id           0\n",
       "family_status          0\n",
       "family_status_id       0\n",
       "gender                 0\n",
       "income_type            0\n",
       "debt                   0\n",
       "total_income        2174\n",
       "purpose                0\n",
       "dtype: int64"
      ]
     },
     "execution_count": 185,
     "metadata": {},
     "output_type": "execute_result"
    }
   ],
   "source": [
    "df.isna().sum()"
   ]
  },
  {
   "cell_type": "markdown",
   "id": "31d5b209-d886-4213-bdf7-670a9c60a097",
   "metadata": {},
   "source": [
    "В двух столбцах days_employed и total_income присутствуют пропущенные значения. По 2174 штуки в каждом."
   ]
  },
  {
   "cell_type": "markdown",
   "id": "73d3c7c8-336d-4645-82db-89fe9e061a7a",
   "metadata": {},
   "source": [
    "#### 2."
   ]
  },
  {
   "cell_type": "markdown",
   "id": "f0743877-783b-4c01-b58b-02dffeae4f3b",
   "metadata": {},
   "source": [
    "Найдем все уникальные значения в столбце income_type"
   ]
  },
  {
   "cell_type": "code",
   "execution_count": 186,
   "id": "8820f3e9-bea1-483c-add9-b7f9fa8c3799",
   "metadata": {},
   "outputs": [
    {
     "data": {
      "text/plain": [
       "array(['сотрудник', 'пенсионер', 'компаньон', 'госслужащий',\n",
       "       'безработный', 'предприниматель', 'студент', 'в декрете'],\n",
       "      dtype=object)"
      ]
     },
     "execution_count": 186,
     "metadata": {},
     "output_type": "execute_result"
    }
   ],
   "source": [
    "df['income_type'].unique()"
   ]
  },
  {
   "cell_type": "markdown",
   "id": "b216dbbf-ab3f-4544-9cd2-38b0ef4ebe7f",
   "metadata": {},
   "source": [
    "Для каждого из них посчитаем медианные значения в столбце total_income. Для этого отфильтруем исходный dataframe по значениям income_type и запишем новые для каждого."
   ]
  },
  {
   "cell_type": "code",
   "execution_count": 187,
   "id": "2d9b01c8-ac80-476c-b0d3-a3a2fd659aae",
   "metadata": {},
   "outputs": [],
   "source": [
    "filter_empl = df['income_type'] == 'сотрудник'\n",
    "filter_grand = df['income_type'] == 'пенсионер'\n",
    "filter_friend = df['income_type'] == 'компаньон'\n",
    "filter_govern = df['income_type'] == 'госслужащий'\n",
    "filter_unempl = df['income_type'] == 'безработный'\n",
    "filter_bus = df['income_type'] == 'предприниматель'\n",
    "filter_student = df['income_type'] == 'студент'\n",
    "filter_decr = df['income_type'] == 'в декрете'"
   ]
  },
  {
   "cell_type": "code",
   "execution_count": 188,
   "id": "6bb7c86c-0be3-4a91-a486-b44c5de3cc90",
   "metadata": {},
   "outputs": [],
   "source": [
    "df_empl = df.loc[filter_empl]\n",
    "df_grand = df.loc[filter_grand]\n",
    "df_friend = df.loc[filter_friend]\n",
    "df_govern = df.loc[filter_govern]\n",
    "df_unempl = df.loc[filter_unempl]\n",
    "df_bus = df.loc[filter_bus]\n",
    "df_student = df.loc[filter_student]\n",
    "df_decr = df.loc[filter_decr]"
   ]
  },
  {
   "cell_type": "markdown",
   "id": "e777ca06-0a0d-4d49-a79b-94f69d1edd55",
   "metadata": {},
   "source": [
    "Запишем в переменные значения медиан."
   ]
  },
  {
   "cell_type": "code",
   "execution_count": 189,
   "id": "8c1f1d7e-2ee4-497e-8908-b009f0c9dc85",
   "metadata": {},
   "outputs": [],
   "source": [
    "empl_med = df_empl['total_income'].median()\n",
    "grand_med = df_grand['total_income'].median()\n",
    "friend_med = df_friend['total_income'].median()\n",
    "govern_med = df_govern['total_income'].median()\n",
    "unempl_med = df_unempl['total_income'].median()\n",
    "bus_med = df_bus['total_income'].median()\n",
    "student_med = df_student['total_income'].median()\n",
    "decr_med = df_decr['total_income'].median()\n",
    "# print(empl_med, grand_med, friend_med, govern_med, unempl_med, bus_med, student_med, decr_med)"
   ]
  },
  {
   "cell_type": "markdown",
   "id": "000db665-a657-470f-b6bb-aad78a310b13",
   "metadata": {},
   "source": [
    "Теперь нужно заполнить пропуски."
   ]
  },
  {
   "cell_type": "code",
   "execution_count": 190,
   "id": "e8180036-ac97-492e-86b2-60cb5891157f",
   "metadata": {
    "scrolled": true
   },
   "outputs": [],
   "source": [
    "df_empl['total_income'] = df_empl['total_income'].fillna(empl_med)\n",
    "df_grand['total_income'] = df_grand['total_income'].fillna(grand_med)\n",
    "df_friend['total_income'] = df_friend['total_income'].fillna(friend_med)\n",
    "df_govern['total_income'] = df_govern['total_income'].fillna(govern_med)\n",
    "df_unempl['total_income'] = df_unempl['total_income'].fillna(unempl_med)\n",
    "df_bus['total_income'] = df_bus['total_income'].fillna(bus_med)\n",
    "df_student['total_income'] = df_student['total_income'].fillna(student_med)\n",
    "df_decr['total_income'] = df_decr['total_income'].fillna(decr_med)\n",
    "\n",
    "df.loc[df['income_type']=='сотрудник'] = df_empl\n",
    "df.loc[df['income_type']=='пенсионер'] = df_grand\n",
    "df.loc[df['income_type']=='компаньон'] = df_friend\n",
    "df.loc[df['income_type']=='госслужащий'] = df_govern\n",
    "df.loc[df['income_type']=='безработный'] = df_unempl\n",
    "df.loc[df['income_type']=='предприниматель'] = df_bus\n",
    "df.loc[df['income_type']=='студент'] = df_student\n",
    "df.loc[df['income_type']=='в декрете'] = df_decr"
   ]
  },
  {
   "cell_type": "markdown",
   "id": "a9cc9b11-fbd0-4a17-a944-47864043d52b",
   "metadata": {},
   "source": [
    "Проверим:"
   ]
  },
  {
   "cell_type": "code",
   "execution_count": 191,
   "id": "f192bf76-7f01-42eb-8284-1fb3d19dbc08",
   "metadata": {
    "scrolled": true
   },
   "outputs": [
    {
     "data": {
      "text/plain": [
       "children               0\n",
       "days_employed       2174\n",
       "dob_years              0\n",
       "education              0\n",
       "education_id           0\n",
       "family_status          0\n",
       "family_status_id       0\n",
       "gender                 0\n",
       "income_type            0\n",
       "debt                   0\n",
       "total_income           0\n",
       "purpose                0\n",
       "dtype: int64"
      ]
     },
     "execution_count": 191,
     "metadata": {},
     "output_type": "execute_result"
    }
   ],
   "source": [
    "df.isna().sum()"
   ]
  },
  {
   "cell_type": "markdown",
   "id": "62dbe061-3981-42e2-8f18-f2bab2c80464",
   "metadata": {},
   "source": [
    "#### 3."
   ]
  },
  {
   "cell_type": "markdown",
   "id": "d072a786-3987-4ba9-8194-2f76993150ed",
   "metadata": {},
   "source": [
    "Выведем гистограммы для числовых значений данных, чтобы проверить на наличие выбросов и аномльных значений.\n"
   ]
  },
  {
   "cell_type": "code",
   "execution_count": 192,
   "id": "a788495e-0853-4d6b-a938-3406b771a62c",
   "metadata": {
    "scrolled": true
   },
   "outputs": [
    {
     "data": {
      "image/png": "[encoded data removed]",
      "text/plain": [
       "<Figure size 1500x2000 with 9 Axes>"
      ]
     },
     "metadata": {},
     "output_type": "display_data"
    }
   ],
   "source": [
    "import matplotlib.pyplot as plt\n",
    "df.hist(figsize=(15, 20))\n",
    "plt.show()"
   ]
  },
  {
   "cell_type": "markdown",
   "id": "a14e8973-d603-42c6-a8fb-920d0ef65a00",
   "metadata": {},
   "source": [
    "Сразу бросается в глаза: у кого-то очень много детей. В столбце стаж присутствуют отрицательные значения. Есть клиенты в 0 лет."
   ]
  },
  {
   "cell_type": "markdown",
   "id": "239e8e84-8811-44e6-83cd-8221a8e94c3e",
   "metadata": {},
   "source": [
    "Проверим столбец \"дети\" на наличие аномальных значений и выбросов, построив бокс чарты."
   ]
  },
  {
   "cell_type": "code",
   "execution_count": 193,
   "id": "a98b28cd-25cb-42ef-ac2f-d660c4014524",
   "metadata": {},
   "outputs": [
    {
     "data": {
      "image/png": "[encoded data removed]",
      "text/plain": [
       "<Figure size 200x300 with 1 Axes>"
      ]
     },
     "metadata": {},
     "output_type": "display_data"
    }
   ],
   "source": [
    "df.boxplot(column=['children'], figsize=(2, 3))\n",
    "plt.show()"
   ]
  },
  {
   "cell_type": "markdown",
   "id": "5dd4563f-96f9-4d90-9f92-8d7921480718",
   "metadata": {},
   "source": [
    "Есть выбросы, а также отрицательные значения. Удалим значения, превышающие 5."
   ]
  },
  {
   "cell_type": "code",
   "execution_count": 194,
   "id": "76abcccd-1263-42b5-9866-554f0cfb36bc",
   "metadata": {},
   "outputs": [],
   "source": [
    "df.drop(df.loc[(df['children'] < 0) | (df['children'] > 6)].index, inplace=True)"
   ]
  },
  {
   "cell_type": "code",
   "execution_count": 195,
   "id": "77a936f5-4406-43d9-8ca4-ae9da2ea528b",
   "metadata": {},
   "outputs": [
    {
     "name": "stdout",
     "output_type": "stream",
     "text": [
      "\n",
      "Доля исходных данных:  0.9942857142857143\n"
     ]
    }
   ],
   "source": [
    "print('\\nДоля исходных данных: ', df.shape[0]/row_data_shape)"
   ]
  },
  {
   "cell_type": "code",
   "execution_count": 196,
   "id": "e55a4560-40cb-4e2b-8e05-675c6e2c56d8",
   "metadata": {
    "scrolled": true
   },
   "outputs": [
    {
     "data": {
      "image/png": "[encoded data removed]",
      "text/plain": [
       "<Figure size 200x300 with 1 Axes>"
      ]
     },
     "metadata": {},
     "output_type": "display_data"
    }
   ],
   "source": [
    "df.boxplot(column=['children'], figsize=(2, 3))\n",
    "plt.show()"
   ]
  },
  {
   "cell_type": "code",
   "execution_count": 197,
   "id": "d287dd65-0a41-4135-8d90-7fb059bfd08e",
   "metadata": {},
   "outputs": [],
   "source": [
    "df = df.reset_index()"
   ]
  },
  {
   "cell_type": "code",
   "execution_count": 198,
   "id": "bc364b9b-d1e3-4bcb-88ca-7521b95ebb33",
   "metadata": {},
   "outputs": [],
   "source": [
    "df = df.drop(labels='index', axis=1)"
   ]
  },
  {
   "cell_type": "markdown",
   "id": "be09bb4c-6669-49ea-8d0a-b5ea95c89abc",
   "metadata": {},
   "source": [
    "Теперь надо разобраться со значениями days_employed"
   ]
  },
  {
   "cell_type": "markdown",
   "id": "e47e87e0-69c5-4e69-a625-4d0cdc934aba",
   "metadata": {},
   "source": [
    "Поменяем отрицательные значения на положительные."
   ]
  },
  {
   "cell_type": "code",
   "execution_count": 199,
   "id": "35b9c2e6-0835-488c-a654-1a686e4dd649",
   "metadata": {},
   "outputs": [],
   "source": [
    "filter_negative_days_employed = df['days_employed'] < 0"
   ]
  },
  {
   "cell_type": "code",
   "execution_count": 200,
   "id": "33b3ebbc-e9e8-49a5-bd90-c7be5df592b1",
   "metadata": {},
   "outputs": [],
   "source": [
    "df_negative_days_employed = df.loc[filter_negative_days_employed] "
   ]
  },
  {
   "cell_type": "code",
   "execution_count": 201,
   "id": "a7faf8ba-d0d8-4ab1-8ab2-9efd12537d32",
   "metadata": {},
   "outputs": [],
   "source": [
    "df_positive_days_employed = df_negative_days_employed.copy(deep=True)"
   ]
  },
  {
   "cell_type": "code",
   "execution_count": 202,
   "id": "72892227-d627-4414-a359-357ebc0476c5",
   "metadata": {
    "scrolled": true
   },
   "outputs": [],
   "source": [
    "for i in range(df.shape[0]):\n",
    "    try:\n",
    "        df_positive_days_employed.loc[i, 'days_employed'] = df_negative_days_employed.loc[i, 'days_employed'] * -1\n",
    "    except KeyError:\n",
    "        continue"
   ]
  },
  {
   "cell_type": "markdown",
   "id": "ca53edf8-396c-4e04-b257-28e2a84b5035",
   "metadata": {},
   "source": [
    "Можно ли это сделать встроенными методами pandas? Replace не сработал..."
   ]
  },
  {
   "cell_type": "code",
   "execution_count": 203,
   "id": "1606c5b4-c67d-4711-81f3-e5cf81bfb2b7",
   "metadata": {},
   "outputs": [],
   "source": [
    "df.loc[filter_negative_days_employed] = df_positive_days_employed"
   ]
  },
  {
   "cell_type": "markdown",
   "id": "1d54c3f5-7280-440c-8856-0ff8e41b511d",
   "metadata": {},
   "source": [
    "Проверим наличие отрицательных значений:"
   ]
  },
  {
   "cell_type": "code",
   "execution_count": 204,
   "id": "c1557104-43b8-4c81-a0fc-135feeacaab9",
   "metadata": {},
   "outputs": [
    {
     "data": {
      "text/plain": [
       "count     19240.000000\n",
       "mean      67027.691459\n",
       "std      139130.846446\n",
       "min          24.141633\n",
       "25%         927.984311\n",
       "50%        2195.251592\n",
       "75%        5556.372075\n",
       "max      401755.400475\n",
       "Name: days_employed, dtype: float64"
      ]
     },
     "execution_count": 204,
     "metadata": {},
     "output_type": "execute_result"
    }
   ],
   "source": [
    "df['days_employed'].describe()"
   ]
  },
  {
   "cell_type": "markdown",
   "id": "52dba0c6-93a2-41cd-aa06-0ecb47122496",
   "metadata": {},
   "source": [
    "Таким образом, заменили все отрицательные значения days_employed на положительные."
   ]
  },
  {
   "cell_type": "markdown",
   "id": "330f3619-883e-4777-9e57-28fc42bc1344",
   "metadata": {},
   "source": [
    "Теперь удалим строки, в которых возраст клиента 0 лет."
   ]
  },
  {
   "cell_type": "code",
   "execution_count": 205,
   "id": "bcf2ef6e-2d2a-47f9-83d2-7d59a68b7248",
   "metadata": {},
   "outputs": [],
   "source": [
    "df.drop(df.loc[df['dob_years'] == 0].index, inplace=True)"
   ]
  },
  {
   "cell_type": "code",
   "execution_count": 206,
   "id": "d5f978bd-15af-439e-bf30-185ece967cf0",
   "metadata": {},
   "outputs": [],
   "source": [
    "df = df.reset_index(drop=True)"
   ]
  },
  {
   "cell_type": "code",
   "execution_count": 207,
   "id": "a930758b-1ac8-403f-baaa-9fc8504425ef",
   "metadata": {},
   "outputs": [
    {
     "data": {
      "text/plain": [
       "count    21302.000000\n",
       "mean        43.503474\n",
       "std         12.252843\n",
       "min         19.000000\n",
       "25%         33.000000\n",
       "50%         43.000000\n",
       "75%         53.000000\n",
       "max         75.000000\n",
       "Name: dob_years, dtype: float64"
      ]
     },
     "execution_count": 207,
     "metadata": {},
     "output_type": "execute_result"
    }
   ],
   "source": [
    "df['dob_years'].describe()"
   ]
  },
  {
   "cell_type": "code",
   "execution_count": 208,
   "id": "1fd0e1a7-6c0c-445f-b67d-7cd431c1873e",
   "metadata": {},
   "outputs": [
    {
     "name": "stdout",
     "output_type": "stream",
     "text": [
      "\n",
      "Доля исходных данных:  0.9896399535423925\n"
     ]
    }
   ],
   "source": [
    "print('\\nДоля исходных данных: ', df.shape[0]/row_data_shape)"
   ]
  },
  {
   "cell_type": "markdown",
   "id": "6c28ee2f-5de9-4373-94f0-a1f650b74b38",
   "metadata": {},
   "source": [
    "#### 4."
   ]
  },
  {
   "cell_type": "markdown",
   "id": "d4e5ad5a-8f2e-4b8b-8cab-855ae52590af",
   "metadata": {},
   "source": [
    "Для каждого типа занятости income_type найдем медианное значение стажа days_employed "
   ]
  },
  {
   "cell_type": "code",
   "execution_count": 209,
   "id": "23bf93be-6c56-4bb5-8e4e-e9e1afdfe15c",
   "metadata": {},
   "outputs": [],
   "source": [
    "filter_empl = df['income_type'] == 'сотрудник'\n",
    "filter_grand = df['income_type'] == 'пенсионер'\n",
    "filter_friend = df['income_type'] == 'компаньон'\n",
    "filter_govern = df['income_type'] == 'госслужащий'\n",
    "filter_unempl = df['income_type'] == 'безработный'\n",
    "filter_bus = df['income_type'] == 'предприниматель'\n",
    "filter_student = df['income_type'] == 'студент'\n",
    "filter_decr = df['income_type'] == 'в декрете'"
   ]
  },
  {
   "cell_type": "code",
   "execution_count": 210,
   "id": "73bf890d-7b13-4b52-b7c5-5cb0f7606338",
   "metadata": {},
   "outputs": [],
   "source": [
    "df_empl = df.loc[filter_empl]\n",
    "df_grand = df.loc[filter_grand]\n",
    "df_friend = df.loc[filter_friend]\n",
    "df_govern = df.loc[filter_govern]\n",
    "df_unempl = df.loc[filter_unempl]\n",
    "df_bus = df.loc[filter_bus]\n",
    "df_student = df.loc[filter_student]\n",
    "df_decr = df.loc[filter_decr]"
   ]
  },
  {
   "cell_type": "markdown",
   "id": "711941e5-fa81-46f5-a734-434ebe0582c8",
   "metadata": {},
   "source": [
    "Запишем в переменные значения медиан."
   ]
  },
  {
   "cell_type": "code",
   "execution_count": 211,
   "id": "9896339b-e9ba-4570-85df-bb27b3656b7c",
   "metadata": {},
   "outputs": [
    {
     "name": "stdout",
     "output_type": "stream",
     "text": [
      "\n",
      "Стаж клиентов:\n",
      "Сотрудник - 1573.791064067419 дней\tПенсионер - 365269.1004135723 дней\tКомпаньон - 1556.1506780603813 дней\n",
      "Госслужащий - 2672.903938918005 дней\tБезработный - 366413.65274420456 дней\tПредприниматель - 520.8480834953765 дней\n",
      "Студент - 578.7515535382181 дней\tВ декрете - 3296.7599620220594 дней\n"
     ]
    }
   ],
   "source": [
    "empl_days_med = df_empl['days_employed'].median()\n",
    "grand_days_med = df_grand['days_employed'].median()\n",
    "friend_days_med = df_friend['days_employed'].median()\n",
    "govern_days_med = df_govern['days_employed'].median()\n",
    "unempl_days_med = df_unempl['days_employed'].median()\n",
    "bus_days_med = df_bus['days_employed'].median()\n",
    "student_days_med = df_student['days_employed'].median()\n",
    "decr_days_med = df_decr['days_employed'].median()\n",
    "print(f'\\nСтаж клиентов:\\nСотрудник - {empl_days_med} дней\\tПенсионер - {grand_days_med} дней\\tКомпаньон - {friend_days_med} дней\\nГосслужащий - {govern_days_med} дней\\tБезработный - {unempl_days_med} дней\\tПредприниматель - {bus_days_med} дней\\nСтудент - {student_days_med} дней\\tВ декрете - {decr_days_med} дней')"
   ]
  },
  {
   "cell_type": "markdown",
   "id": "c2ec1fd5-6b15-4112-8080-6e336fe0a1c5",
   "metadata": {},
   "source": [
    "#### Вывод:\n",
    "У пенсионеров и безработных стаж 1000 лет. После удаления аномально больших значений стажа удалялся большой объем данных (почти 20%). Возможно ошибка в оригинальной таблице. Чтобы учесть эту ошибку, заменим значения для пенсионеров и безработных на -1."
   ]
  },
  {
   "cell_type": "code",
   "execution_count": 212,
   "id": "a4748999-8bbb-470b-8037-0070ac7c4b4c",
   "metadata": {},
   "outputs": [],
   "source": [
    "df_grand_zero = df.loc[filter_grand]\n",
    "df_unempl_zero = df.loc[filter_unempl]"
   ]
  },
  {
   "cell_type": "code",
   "execution_count": 213,
   "id": "8ecd9c72-edb0-4e9d-8949-a56c4b5b9f60",
   "metadata": {},
   "outputs": [],
   "source": [
    "df_grand_zero['days_employed'] = -1\n",
    "df_unempl_zero['days_employed'] = -1"
   ]
  },
  {
   "cell_type": "code",
   "execution_count": 214,
   "id": "5eb727d3-e83e-414f-9db4-965916a1f5b7",
   "metadata": {},
   "outputs": [],
   "source": [
    "df.loc[df['income_type']=='пенсионер'] = df_grand_zero\n",
    "df.loc[df['income_type']=='безработный'] = df_unempl_zero"
   ]
  },
  {
   "cell_type": "markdown",
   "id": "9dca4a6c-2005-4aca-b72d-c9bb06acc7d7",
   "metadata": {},
   "source": [
    "#### 5."
   ]
  },
  {
   "cell_type": "markdown",
   "id": "b7879575-7a32-4d05-b43d-968bc897f25f",
   "metadata": {},
   "source": [
    "Найдем уникальные значения столбца children. Некорректные значения были удалены ранее."
   ]
  },
  {
   "cell_type": "code",
   "execution_count": 215,
   "id": "61412910-361d-43e1-ad32-7fa7a60f5149",
   "metadata": {
    "scrolled": true
   },
   "outputs": [
    {
     "data": {
      "text/plain": [
       "array([1, 0, 3, 2, 4, 5], dtype=int64)"
      ]
     },
     "execution_count": 215,
     "metadata": {},
     "output_type": "execute_result"
    }
   ],
   "source": [
    "df['children'].unique()"
   ]
  },
  {
   "cell_type": "markdown",
   "id": "5b76f1db-3712-4f00-855e-06a8e00d0c6a",
   "metadata": {},
   "source": [
    "#### 6. "
   ]
  },
  {
   "cell_type": "markdown",
   "id": "e3747283-b7f6-41d9-9886-60a6806b8c2e",
   "metadata": {},
   "source": [
    "Заполним пропуски столбца days_employed "
   ]
  },
  {
   "cell_type": "code",
   "execution_count": 216,
   "id": "7310e34b-4872-4cc4-b2a4-20c5b9568419",
   "metadata": {},
   "outputs": [],
   "source": [
    "df_empl = df.loc[filter_empl]\n",
    "df_grand = df.loc[filter_grand]\n",
    "df_friend = df.loc[filter_friend]\n",
    "df_govern = df.loc[filter_govern]\n",
    "df_unempl = df.loc[filter_unempl]\n",
    "df_bus = df.loc[filter_bus]\n",
    "df_student = df.loc[filter_student]\n",
    "df_decr = df.loc[filter_decr]"
   ]
  },
  {
   "cell_type": "code",
   "execution_count": 217,
   "id": "defcfe11-4015-4952-8075-da5ccad4308c",
   "metadata": {
    "scrolled": true
   },
   "outputs": [],
   "source": [
    "df_empl['days_employed'] = df_empl['days_employed'].fillna(empl_days_med)\n",
    "df_grand['days_employed'] = df_grand['days_employed'].fillna(grand_days_med)\n",
    "df_friend['days_employed'] = df_friend['days_employed'].fillna(friend_days_med)\n",
    "df_govern['days_employed'] = df_govern['days_employed'].fillna(govern_days_med)\n",
    "df_unempl['days_employed'] = df_unempl['days_employed'].fillna(unempl_days_med)\n",
    "df_bus['days_employed'] = df_bus['days_employed'].fillna(bus_days_med)\n",
    "df_student['days_employed'] = df_student['days_employed'].fillna(student_days_med)\n",
    "df_decr['days_employed'] = df_decr['days_employed'].fillna(decr_days_med)"
   ]
  },
  {
   "cell_type": "code",
   "execution_count": 218,
   "id": "3039622d-0195-4d1b-9b5d-56d1403d9441",
   "metadata": {},
   "outputs": [],
   "source": [
    "df.loc[df['income_type']=='сотрудник'] = df_empl\n",
    "df.loc[df['income_type']=='пенсионер'] = df_grand\n",
    "df.loc[df['income_type']=='компаньон'] = df_friend\n",
    "df.loc[df['income_type']=='госслужащий'] = df_govern\n",
    "df.loc[df['income_type']=='безработный'] = df_unempl\n",
    "df.loc[df['income_type']=='предприниматель'] = df_bus\n",
    "df.loc[df['income_type']=='студент'] = df_student\n",
    "df.loc[df['income_type']=='в декрете'] = df_decr"
   ]
  },
  {
   "cell_type": "markdown",
   "id": "4b167b40-fcf1-4e6e-937b-eef62a59fc49",
   "metadata": {},
   "source": [
    "Проверим:"
   ]
  },
  {
   "cell_type": "code",
   "execution_count": 219,
   "id": "418f1e5b-4673-49a6-887d-7391e1e0a5c9",
   "metadata": {},
   "outputs": [
    {
     "data": {
      "text/plain": [
       "children            0\n",
       "days_employed       0\n",
       "dob_years           0\n",
       "education           0\n",
       "education_id        0\n",
       "family_status       0\n",
       "family_status_id    0\n",
       "gender              0\n",
       "income_type         0\n",
       "debt                0\n",
       "total_income        0\n",
       "purpose             0\n",
       "dtype: int64"
      ]
     },
     "execution_count": 219,
     "metadata": {},
     "output_type": "execute_result"
    }
   ],
   "source": [
    "df.isna().sum()"
   ]
  },
  {
   "cell_type": "markdown",
   "id": "a002574e-f306-4bd5-9647-f8df65100729",
   "metadata": {},
   "source": [
    "#### 7."
   ]
  },
  {
   "cell_type": "markdown",
   "id": "4710b444-511a-4ada-8885-e9fba5ccfab5",
   "metadata": {},
   "source": [
    "Приведем все значения столбца education к нижнему регистру."
   ]
  },
  {
   "cell_type": "code",
   "execution_count": 220,
   "id": "86b40150-e58c-4e98-a4e5-91b239e13166",
   "metadata": {
    "scrolled": true
   },
   "outputs": [],
   "source": [
    "df['education'] = df['education'].str.lower()"
   ]
  },
  {
   "cell_type": "code",
   "execution_count": 221,
   "id": "84619f62-44ee-434f-8320-922ec4b7f849",
   "metadata": {
    "scrolled": true
   },
   "outputs": [
    {
     "data": {
      "text/html": [
       "<div>\n",
       "<style scoped>\n",
       "    .dataframe tbody tr th:only-of-type {\n",
       "        vertical-align: middle;\n",
       "    }\n",
       "\n",
       "    .dataframe tbody tr th {\n",
       "        vertical-align: top;\n",
       "    }\n",
       "\n",
       "    .dataframe thead th {\n",
       "        text-align: right;\n",
       "    }\n",
       "</style>\n",
       "<table border=\"1\" class=\"dataframe\">\n",
       "  <thead>\n",
       "    <tr style=\"text-align: right;\">\n",
       "      <th></th>\n",
       "      <th>children</th>\n",
       "      <th>days_employed</th>\n",
       "      <th>dob_years</th>\n",
       "      <th>education</th>\n",
       "      <th>education_id</th>\n",
       "      <th>family_status</th>\n",
       "      <th>family_status_id</th>\n",
       "      <th>gender</th>\n",
       "      <th>income_type</th>\n",
       "      <th>debt</th>\n",
       "      <th>total_income</th>\n",
       "      <th>purpose</th>\n",
       "    </tr>\n",
       "  </thead>\n",
       "  <tbody>\n",
       "    <tr>\n",
       "      <th>0</th>\n",
       "      <td>1</td>\n",
       "      <td>8437.673028</td>\n",
       "      <td>42</td>\n",
       "      <td>высшее</td>\n",
       "      <td>0</td>\n",
       "      <td>женат / замужем</td>\n",
       "      <td>0</td>\n",
       "      <td>F</td>\n",
       "      <td>сотрудник</td>\n",
       "      <td>0</td>\n",
       "      <td>253875.639453</td>\n",
       "      <td>покупка жилья</td>\n",
       "    </tr>\n",
       "    <tr>\n",
       "      <th>1</th>\n",
       "      <td>1</td>\n",
       "      <td>4024.803754</td>\n",
       "      <td>36</td>\n",
       "      <td>среднее</td>\n",
       "      <td>1</td>\n",
       "      <td>женат / замужем</td>\n",
       "      <td>0</td>\n",
       "      <td>F</td>\n",
       "      <td>сотрудник</td>\n",
       "      <td>0</td>\n",
       "      <td>112080.014102</td>\n",
       "      <td>приобретение автомобиля</td>\n",
       "    </tr>\n",
       "    <tr>\n",
       "      <th>2</th>\n",
       "      <td>0</td>\n",
       "      <td>5623.422610</td>\n",
       "      <td>33</td>\n",
       "      <td>среднее</td>\n",
       "      <td>1</td>\n",
       "      <td>женат / замужем</td>\n",
       "      <td>0</td>\n",
       "      <td>M</td>\n",
       "      <td>сотрудник</td>\n",
       "      <td>0</td>\n",
       "      <td>145885.952297</td>\n",
       "      <td>покупка жилья</td>\n",
       "    </tr>\n",
       "    <tr>\n",
       "      <th>3</th>\n",
       "      <td>3</td>\n",
       "      <td>4124.747207</td>\n",
       "      <td>32</td>\n",
       "      <td>среднее</td>\n",
       "      <td>1</td>\n",
       "      <td>женат / замужем</td>\n",
       "      <td>0</td>\n",
       "      <td>M</td>\n",
       "      <td>сотрудник</td>\n",
       "      <td>0</td>\n",
       "      <td>267628.550329</td>\n",
       "      <td>дополнительное образование</td>\n",
       "    </tr>\n",
       "    <tr>\n",
       "      <th>4</th>\n",
       "      <td>0</td>\n",
       "      <td>-1.000000</td>\n",
       "      <td>53</td>\n",
       "      <td>среднее</td>\n",
       "      <td>1</td>\n",
       "      <td>гражданский брак</td>\n",
       "      <td>1</td>\n",
       "      <td>F</td>\n",
       "      <td>пенсионер</td>\n",
       "      <td>0</td>\n",
       "      <td>158616.077870</td>\n",
       "      <td>сыграть свадьбу</td>\n",
       "    </tr>\n",
       "  </tbody>\n",
       "</table>\n",
       "</div>"
      ],
      "text/plain": [
       "   children  days_employed  dob_years education  education_id  \\\n",
       "0         1    8437.673028         42    высшее             0   \n",
       "1         1    4024.803754         36   среднее             1   \n",
       "2         0    5623.422610         33   среднее             1   \n",
       "3         3    4124.747207         32   среднее             1   \n",
       "4         0      -1.000000         53   среднее             1   \n",
       "\n",
       "      family_status  family_status_id gender income_type  debt   total_income  \\\n",
       "0   женат / замужем                 0      F   сотрудник     0  253875.639453   \n",
       "1   женат / замужем                 0      F   сотрудник     0  112080.014102   \n",
       "2   женат / замужем                 0      M   сотрудник     0  145885.952297   \n",
       "3   женат / замужем                 0      M   сотрудник     0  267628.550329   \n",
       "4  гражданский брак                 1      F   пенсионер     0  158616.077870   \n",
       "\n",
       "                      purpose  \n",
       "0               покупка жилья  \n",
       "1     приобретение автомобиля  \n",
       "2               покупка жилья  \n",
       "3  дополнительное образование  \n",
       "4             сыграть свадьбу  "
      ]
     },
     "execution_count": 221,
     "metadata": {},
     "output_type": "execute_result"
    }
   ],
   "source": [
    "df.head()"
   ]
  },
  {
   "cell_type": "code",
   "execution_count": 222,
   "id": "62e114b1-19e9-4c33-aeec-014b67aa2b07",
   "metadata": {
    "scrolled": true
   },
   "outputs": [
    {
     "data": {
      "text/plain": [
       "array(['высшее', 'среднее', 'неоконченное высшее', 'начальное',\n",
       "       'ученая степень'], dtype=object)"
      ]
     },
     "execution_count": 222,
     "metadata": {},
     "output_type": "execute_result"
    }
   ],
   "source": [
    "df['education'].unique()"
   ]
  },
  {
   "cell_type": "markdown",
   "id": "ec48bc80-a5be-4afa-8546-8859f84ef843",
   "metadata": {},
   "source": [
    "Если уровень образования \"начальное\" соответствует начальной школе, а других вариантов я не вижу, то это явно ошибка, такие люде не могут быть клиентами банка. Удалим эти строчки"
   ]
  },
  {
   "cell_type": "code",
   "execution_count": 223,
   "id": "a49a708c-786e-4491-9e84-706b7b32f686",
   "metadata": {},
   "outputs": [],
   "source": [
    "df.drop(df.loc[df['education'] == 'начальное'].index, inplace=True)"
   ]
  },
  {
   "cell_type": "code",
   "execution_count": 224,
   "id": "dc89a3d9-bc91-4d53-ac59-69001e5562a5",
   "metadata": {
    "scrolled": true
   },
   "outputs": [
    {
     "name": "stdout",
     "output_type": "stream",
     "text": [
      "\n",
      "Доля исходных данных:  0.9765389082462254\n"
     ]
    }
   ],
   "source": [
    "print('\\nДоля исходных данных: ', df.shape[0]/row_data_shape)"
   ]
  },
  {
   "cell_type": "code",
   "execution_count": 225,
   "id": "f8ed756a-05fc-4ee9-80c9-4a812b3eebd6",
   "metadata": {},
   "outputs": [
    {
     "data": {
      "text/plain": [
       "array(['высшее', 'среднее', 'неоконченное высшее', 'ученая степень'],\n",
       "      dtype=object)"
      ]
     },
     "execution_count": 225,
     "metadata": {},
     "output_type": "execute_result"
    }
   ],
   "source": [
    "df['education'].unique()"
   ]
  },
  {
   "cell_type": "markdown",
   "id": "fe8d45cd-7341-47b1-bb62-d44551c7dbb2",
   "metadata": {},
   "source": [
    "#### 8."
   ]
  },
  {
   "cell_type": "markdown",
   "id": "de3393b5-0a94-47b5-8118-277573c1039c",
   "metadata": {},
   "source": [
    "Выведем количество строк дубликатов данных."
   ]
  },
  {
   "cell_type": "code",
   "execution_count": 226,
   "id": "564a280a-9a3e-4c25-8050-7d53ad00f17c",
   "metadata": {},
   "outputs": [
    {
     "name": "stdout",
     "output_type": "stream",
     "text": [
      "\n",
      "Количество строк-дубликатов данных: 71\n"
     ]
    }
   ],
   "source": [
    "print(f'\\nКоличество строк-дубликатов данных: {df.duplicated().sum()}')"
   ]
  },
  {
   "cell_type": "markdown",
   "id": "c223ff9d-f5b0-4b81-9b78-99cd1cff8300",
   "metadata": {},
   "source": [
    "Удалим эти строки."
   ]
  },
  {
   "cell_type": "code",
   "execution_count": 227,
   "id": "973da573-ef0b-483c-a8b4-6d01af25c291",
   "metadata": {},
   "outputs": [],
   "source": [
    "df.drop(df.loc[df.duplicated()].index, inplace=True)"
   ]
  },
  {
   "cell_type": "code",
   "execution_count": 228,
   "id": "5390a787-672a-4132-bb20-7955dcc8e196",
   "metadata": {},
   "outputs": [],
   "source": [
    "df = df.reset_index(drop=True)"
   ]
  },
  {
   "cell_type": "markdown",
   "id": "171b47b4-7a33-4888-b918-f0af500cc776",
   "metadata": {},
   "source": [
    "Проверим:"
   ]
  },
  {
   "cell_type": "code",
   "execution_count": 229,
   "id": "4f934f70-0181-4b74-811e-1c9f250d215f",
   "metadata": {},
   "outputs": [
    {
     "name": "stdout",
     "output_type": "stream",
     "text": [
      "\n",
      "Количество строк-дубликатов данных: 0\n"
     ]
    }
   ],
   "source": [
    "print(f'\\nКоличество строк-дубликатов данных: {df.duplicated().sum()}')"
   ]
  },
  {
   "cell_type": "code",
   "execution_count": 230,
   "id": "4f7ce34b-f186-4dc4-a74a-9e88822e81d1",
   "metadata": {
    "scrolled": true
   },
   "outputs": [
    {
     "name": "stdout",
     "output_type": "stream",
     "text": [
      "\n",
      "Доля исходных данных:  0.9732404181184668\n"
     ]
    }
   ],
   "source": [
    "print('\\nДоля исходных данных: ', df.shape[0]/row_data_shape)"
   ]
  },
  {
   "cell_type": "markdown",
   "id": "0ad9d3c1-e597-41e1-b442-6d97432f1c72",
   "metadata": {},
   "source": [
    "Создадим столбец total_income_category на основании следующих диапазонов:\n",
    "* 0 - 30000 = E\n",
    "* 30001 - 50000 = D\n",
    "* 50001 - 200000 = C\n",
    "* 200001 - 1000000 = B\n",
    "* 1000001 и выше = A\n"
   ]
  },
  {
   "cell_type": "code",
   "execution_count": 231,
   "id": "7adccbce-b9e8-4cf1-b57e-a69919b28c39",
   "metadata": {},
   "outputs": [],
   "source": [
    "df['total_income_category'] = 'A'"
   ]
  },
  {
   "cell_type": "code",
   "execution_count": 232,
   "id": "3e839832-c45e-47b1-af95-f86054eb8f4c",
   "metadata": {
    "scrolled": true
   },
   "outputs": [],
   "source": [
    "for i in range(df.shape[0]):\n",
    "    value = ''\n",
    "    if df.loc[i, 'total_income'] <= 30000:\n",
    "        value = 'E'\n",
    "    elif df.loc[i, 'total_income'] > 30000 and df.loc[i, 'total_income'] <= 50000:\n",
    "        value = 'D'\n",
    "    elif df.loc[i, 'total_income'] > 50000 and df.loc[i, 'total_income'] <= 200000:\n",
    "        value = 'C'\n",
    "    elif df.loc[i, 'total_income'] > 200000 and df.loc[i, 'total_income'] <= 1000000:\n",
    "        value = 'B'\n",
    "    elif df.loc[i, 'total_income'] > 1000000:\n",
    "        value = 'A'\n",
    "    df.loc[i, 'total_income_category'] = value"
   ]
  },
  {
   "cell_type": "code",
   "execution_count": 233,
   "id": "7b4b841f-82f6-46fc-bfa1-49055623ef16",
   "metadata": {},
   "outputs": [
    {
     "data": {
      "text/html": [
       "<div>\n",
       "<style scoped>\n",
       "    .dataframe tbody tr th:only-of-type {\n",
       "        vertical-align: middle;\n",
       "    }\n",
       "\n",
       "    .dataframe tbody tr th {\n",
       "        vertical-align: top;\n",
       "    }\n",
       "\n",
       "    .dataframe thead th {\n",
       "        text-align: right;\n",
       "    }\n",
       "</style>\n",
       "<table border=\"1\" class=\"dataframe\">\n",
       "  <thead>\n",
       "    <tr style=\"text-align: right;\">\n",
       "      <th></th>\n",
       "      <th>children</th>\n",
       "      <th>days_employed</th>\n",
       "      <th>dob_years</th>\n",
       "      <th>education</th>\n",
       "      <th>education_id</th>\n",
       "      <th>family_status</th>\n",
       "      <th>family_status_id</th>\n",
       "      <th>gender</th>\n",
       "      <th>income_type</th>\n",
       "      <th>debt</th>\n",
       "      <th>total_income</th>\n",
       "      <th>purpose</th>\n",
       "      <th>total_income_category</th>\n",
       "    </tr>\n",
       "  </thead>\n",
       "  <tbody>\n",
       "    <tr>\n",
       "      <th>16359</th>\n",
       "      <td>1</td>\n",
       "      <td>2584.846129</td>\n",
       "      <td>32</td>\n",
       "      <td>высшее</td>\n",
       "      <td>0</td>\n",
       "      <td>женат / замужем</td>\n",
       "      <td>0</td>\n",
       "      <td>F</td>\n",
       "      <td>госслужащий</td>\n",
       "      <td>0</td>\n",
       "      <td>165641.870376</td>\n",
       "      <td>заняться высшим образованием</td>\n",
       "      <td>C</td>\n",
       "    </tr>\n",
       "    <tr>\n",
       "      <th>16078</th>\n",
       "      <td>1</td>\n",
       "      <td>1874.350804</td>\n",
       "      <td>32</td>\n",
       "      <td>среднее</td>\n",
       "      <td>1</td>\n",
       "      <td>женат / замужем</td>\n",
       "      <td>0</td>\n",
       "      <td>F</td>\n",
       "      <td>компаньон</td>\n",
       "      <td>0</td>\n",
       "      <td>91785.307739</td>\n",
       "      <td>автомобили</td>\n",
       "      <td>C</td>\n",
       "    </tr>\n",
       "    <tr>\n",
       "      <th>19379</th>\n",
       "      <td>0</td>\n",
       "      <td>13702.636708</td>\n",
       "      <td>55</td>\n",
       "      <td>среднее</td>\n",
       "      <td>1</td>\n",
       "      <td>женат / замужем</td>\n",
       "      <td>0</td>\n",
       "      <td>F</td>\n",
       "      <td>сотрудник</td>\n",
       "      <td>0</td>\n",
       "      <td>121931.971838</td>\n",
       "      <td>строительство собственной недвижимости</td>\n",
       "      <td>C</td>\n",
       "    </tr>\n",
       "    <tr>\n",
       "      <th>18345</th>\n",
       "      <td>1</td>\n",
       "      <td>1544.761257</td>\n",
       "      <td>46</td>\n",
       "      <td>высшее</td>\n",
       "      <td>0</td>\n",
       "      <td>в разводе</td>\n",
       "      <td>3</td>\n",
       "      <td>F</td>\n",
       "      <td>компаньон</td>\n",
       "      <td>0</td>\n",
       "      <td>128039.303833</td>\n",
       "      <td>образование</td>\n",
       "      <td>C</td>\n",
       "    </tr>\n",
       "    <tr>\n",
       "      <th>17630</th>\n",
       "      <td>1</td>\n",
       "      <td>-1.000000</td>\n",
       "      <td>67</td>\n",
       "      <td>среднее</td>\n",
       "      <td>1</td>\n",
       "      <td>женат / замужем</td>\n",
       "      <td>0</td>\n",
       "      <td>F</td>\n",
       "      <td>пенсионер</td>\n",
       "      <td>0</td>\n",
       "      <td>93093.261296</td>\n",
       "      <td>покупка жилья для сдачи</td>\n",
       "      <td>C</td>\n",
       "    </tr>\n",
       "    <tr>\n",
       "      <th>6287</th>\n",
       "      <td>0</td>\n",
       "      <td>-1.000000</td>\n",
       "      <td>53</td>\n",
       "      <td>среднее</td>\n",
       "      <td>1</td>\n",
       "      <td>женат / замужем</td>\n",
       "      <td>0</td>\n",
       "      <td>F</td>\n",
       "      <td>пенсионер</td>\n",
       "      <td>0</td>\n",
       "      <td>276389.736167</td>\n",
       "      <td>заняться высшим образованием</td>\n",
       "      <td>B</td>\n",
       "    </tr>\n",
       "    <tr>\n",
       "      <th>20131</th>\n",
       "      <td>0</td>\n",
       "      <td>2303.811188</td>\n",
       "      <td>25</td>\n",
       "      <td>высшее</td>\n",
       "      <td>0</td>\n",
       "      <td>Не женат / не замужем</td>\n",
       "      <td>4</td>\n",
       "      <td>M</td>\n",
       "      <td>сотрудник</td>\n",
       "      <td>1</td>\n",
       "      <td>273216.758912</td>\n",
       "      <td>заняться образованием</td>\n",
       "      <td>B</td>\n",
       "    </tr>\n",
       "    <tr>\n",
       "      <th>5421</th>\n",
       "      <td>0</td>\n",
       "      <td>-1.000000</td>\n",
       "      <td>60</td>\n",
       "      <td>среднее</td>\n",
       "      <td>1</td>\n",
       "      <td>женат / замужем</td>\n",
       "      <td>0</td>\n",
       "      <td>F</td>\n",
       "      <td>пенсионер</td>\n",
       "      <td>0</td>\n",
       "      <td>90649.637787</td>\n",
       "      <td>сделка с автомобилем</td>\n",
       "      <td>C</td>\n",
       "    </tr>\n",
       "    <tr>\n",
       "      <th>16735</th>\n",
       "      <td>0</td>\n",
       "      <td>3384.526917</td>\n",
       "      <td>39</td>\n",
       "      <td>среднее</td>\n",
       "      <td>1</td>\n",
       "      <td>гражданский брак</td>\n",
       "      <td>1</td>\n",
       "      <td>F</td>\n",
       "      <td>сотрудник</td>\n",
       "      <td>1</td>\n",
       "      <td>138947.522758</td>\n",
       "      <td>свадьба</td>\n",
       "      <td>C</td>\n",
       "    </tr>\n",
       "    <tr>\n",
       "      <th>12117</th>\n",
       "      <td>0</td>\n",
       "      <td>1573.791064</td>\n",
       "      <td>25</td>\n",
       "      <td>среднее</td>\n",
       "      <td>1</td>\n",
       "      <td>гражданский брак</td>\n",
       "      <td>1</td>\n",
       "      <td>M</td>\n",
       "      <td>сотрудник</td>\n",
       "      <td>0</td>\n",
       "      <td>142594.396847</td>\n",
       "      <td>ремонт жилью</td>\n",
       "      <td>C</td>\n",
       "    </tr>\n",
       "  </tbody>\n",
       "</table>\n",
       "</div>"
      ],
      "text/plain": [
       "       children  days_employed  dob_years education  education_id  \\\n",
       "16359         1    2584.846129         32    высшее             0   \n",
       "16078         1    1874.350804         32   среднее             1   \n",
       "19379         0   13702.636708         55   среднее             1   \n",
       "18345         1    1544.761257         46    высшее             0   \n",
       "17630         1      -1.000000         67   среднее             1   \n",
       "6287          0      -1.000000         53   среднее             1   \n",
       "20131         0    2303.811188         25    высшее             0   \n",
       "5421          0      -1.000000         60   среднее             1   \n",
       "16735         0    3384.526917         39   среднее             1   \n",
       "12117         0    1573.791064         25   среднее             1   \n",
       "\n",
       "               family_status  family_status_id gender  income_type  debt  \\\n",
       "16359        женат / замужем                 0      F  госслужащий     0   \n",
       "16078        женат / замужем                 0      F    компаньон     0   \n",
       "19379        женат / замужем                 0      F    сотрудник     0   \n",
       "18345              в разводе                 3      F    компаньон     0   \n",
       "17630        женат / замужем                 0      F    пенсионер     0   \n",
       "6287         женат / замужем                 0      F    пенсионер     0   \n",
       "20131  Не женат / не замужем                 4      M    сотрудник     1   \n",
       "5421         женат / замужем                 0      F    пенсионер     0   \n",
       "16735       гражданский брак                 1      F    сотрудник     1   \n",
       "12117       гражданский брак                 1      M    сотрудник     0   \n",
       "\n",
       "        total_income                                 purpose  \\\n",
       "16359  165641.870376            заняться высшим образованием   \n",
       "16078   91785.307739                              автомобили   \n",
       "19379  121931.971838  строительство собственной недвижимости   \n",
       "18345  128039.303833                             образование   \n",
       "17630   93093.261296                 покупка жилья для сдачи   \n",
       "6287   276389.736167            заняться высшим образованием   \n",
       "20131  273216.758912                   заняться образованием   \n",
       "5421    90649.637787                    сделка с автомобилем   \n",
       "16735  138947.522758                                 свадьба   \n",
       "12117  142594.396847                            ремонт жилью   \n",
       "\n",
       "      total_income_category  \n",
       "16359                     C  \n",
       "16078                     C  \n",
       "19379                     C  \n",
       "18345                     C  \n",
       "17630                     C  \n",
       "6287                      B  \n",
       "20131                     B  \n",
       "5421                      C  \n",
       "16735                     C  \n",
       "12117                     C  "
      ]
     },
     "execution_count": 233,
     "metadata": {},
     "output_type": "execute_result"
    }
   ],
   "source": [
    "df.sample(10)"
   ]
  },
  {
   "cell_type": "markdown",
   "id": "05a65203-f1f7-4708-b009-62ba1be3d360",
   "metadata": {},
   "source": [
    "#### 9."
   ]
  },
  {
   "cell_type": "markdown",
   "id": "419a417d-8d1d-4e87-b1e9-31fa3be0093e",
   "metadata": {},
   "source": [
    "Разобьем уникальные цели взятия кредита на категории:\n",
    "* операции с автомобилем\n",
    "* операции с недвижимостью\n",
    "* проведение свадьбы\n",
    "* получение образования"
   ]
  },
  {
   "cell_type": "markdown",
   "id": "8b4d74e8-055e-421d-bf24-fe181cf12dec",
   "metadata": {},
   "source": [
    "Найдем уникальные значения столбца purpose:"
   ]
  },
  {
   "cell_type": "code",
   "execution_count": 234,
   "id": "dd5f659b-c560-4caa-bf2a-02014823d7b9",
   "metadata": {},
   "outputs": [],
   "source": [
    "uniq_pur = df['purpose'].unique()"
   ]
  },
  {
   "cell_type": "code",
   "execution_count": 235,
   "id": "9a0c65a7-9e60-4808-99de-fc5652501746",
   "metadata": {},
   "outputs": [
    {
     "name": "stdout",
     "output_type": "stream",
     "text": [
      "['покупка жилья' 'приобретение автомобиля' 'дополнительное образование'\n",
      " 'сыграть свадьбу' 'операции с жильем' 'образование'\n",
      " 'на проведение свадьбы' 'покупка жилья для семьи' 'покупка недвижимости'\n",
      " 'покупка коммерческой недвижимости' 'покупка жилой недвижимости'\n",
      " 'строительство собственной недвижимости' 'недвижимость'\n",
      " 'строительство недвижимости' 'на покупку подержанного автомобиля'\n",
      " 'на покупку своего автомобиля' 'операции с коммерческой недвижимостью'\n",
      " 'строительство жилой недвижимости' 'операции со своей недвижимостью'\n",
      " 'автомобили' 'заняться образованием' 'сделка с подержанным автомобилем'\n",
      " 'получение образования' 'автомобиль' 'свадьба'\n",
      " 'получение дополнительного образования' 'покупка своего жилья'\n",
      " 'операции с недвижимостью' 'получение высшего образования'\n",
      " 'свой автомобиль' 'сделка с автомобилем' 'профильное образование' 'жилье'\n",
      " 'высшее образование' 'покупка жилья для сдачи' 'на покупку автомобиля'\n",
      " 'ремонт жилью' 'заняться высшим образованием']\n"
     ]
    }
   ],
   "source": [
    "print(uniq_pur)"
   ]
  },
  {
   "cell_type": "markdown",
   "id": "467cb821-b70e-408d-acca-6045c906386c",
   "metadata": {},
   "source": [
    "Соберем 4 листа с уникальными значениями по категориям. Будем использовать ключевые слова (можно ли это сделать эффективнее?)"
   ]
  },
  {
   "cell_type": "code",
   "execution_count": 236,
   "id": "e553f30e-223f-4a8d-a9fa-63137d481800",
   "metadata": {},
   "outputs": [],
   "source": [
    "car_pur = []\n",
    "prop_pur = []\n",
    "wed_pur = []\n",
    "educ_pur = []"
   ]
  },
  {
   "cell_type": "code",
   "execution_count": 237,
   "id": "4c018bb7-020c-41e0-a110-2c099669ddea",
   "metadata": {},
   "outputs": [],
   "source": [
    "for i in uniq_pur:\n",
    "    if 'автомобил' in i:\n",
    "        car_pur.append(i)\n",
    "    elif 'жиль' in i or 'недвижим' in i:\n",
    "        prop_pur.append(i)\n",
    "    elif 'свадь' in i:\n",
    "        wed_pur.append(i)\n",
    "    elif 'образов' in i:\n",
    "        educ_pur.append(i)"
   ]
  },
  {
   "cell_type": "code",
   "execution_count": 238,
   "id": "c772eb7c-bac8-4c3a-a963-3d4ed1583965",
   "metadata": {},
   "outputs": [
    {
     "data": {
      "text/plain": [
       "True"
      ]
     },
     "execution_count": 238,
     "metadata": {},
     "output_type": "execute_result"
    }
   ],
   "source": [
    "len(uniq_pur) == len(car_pur) + len(prop_pur) + len(wed_pur) + len(educ_pur)"
   ]
  },
  {
   "cell_type": "markdown",
   "id": "37aad169-e043-4cf5-ab5b-6e077f01534e",
   "metadata": {},
   "source": [
    "Создадим новый столбец в таблице и заполним его значениями."
   ]
  },
  {
   "cell_type": "code",
   "execution_count": 239,
   "id": "7943df1c-844e-4974-a99d-b5c94bd3c6d8",
   "metadata": {},
   "outputs": [],
   "source": [
    "df['purpose_category'] = 'A'"
   ]
  },
  {
   "cell_type": "code",
   "execution_count": 240,
   "id": "8af37822-dc6d-4f2b-b56b-43a01c7f6e89",
   "metadata": {
    "scrolled": true
   },
   "outputs": [],
   "source": [
    "for i in range(df.shape[0]):\n",
    "    if df['purpose'][i] in car_pur:\n",
    "        df.loc[i, 'purpose_category'] = 'операции с автомобилем'\n",
    "    elif df['purpose'][i] in prop_pur:\n",
    "        df.loc[i, 'purpose_category'] = 'операции с недвижимостью'\n",
    "    elif df['purpose'][i] in wed_pur:\n",
    "        df.loc[i, 'purpose_category'] = 'проведение свадьбы'\n",
    "    elif df['purpose'][i] in educ_pur:\n",
    "        df.loc[i, 'purpose_category'] = 'получение образования'"
   ]
  },
  {
   "cell_type": "code",
   "execution_count": 241,
   "id": "51906a04-39d5-44da-a8f5-604423fa2f00",
   "metadata": {},
   "outputs": [
    {
     "data": {
      "text/html": [
       "<div>\n",
       "<style scoped>\n",
       "    .dataframe tbody tr th:only-of-type {\n",
       "        vertical-align: middle;\n",
       "    }\n",
       "\n",
       "    .dataframe tbody tr th {\n",
       "        vertical-align: top;\n",
       "    }\n",
       "\n",
       "    .dataframe thead th {\n",
       "        text-align: right;\n",
       "    }\n",
       "</style>\n",
       "<table border=\"1\" class=\"dataframe\">\n",
       "  <thead>\n",
       "    <tr style=\"text-align: right;\">\n",
       "      <th></th>\n",
       "      <th>children</th>\n",
       "      <th>days_employed</th>\n",
       "      <th>dob_years</th>\n",
       "      <th>education</th>\n",
       "      <th>education_id</th>\n",
       "      <th>family_status</th>\n",
       "      <th>family_status_id</th>\n",
       "      <th>gender</th>\n",
       "      <th>income_type</th>\n",
       "      <th>debt</th>\n",
       "      <th>total_income</th>\n",
       "      <th>purpose</th>\n",
       "      <th>total_income_category</th>\n",
       "      <th>purpose_category</th>\n",
       "    </tr>\n",
       "  </thead>\n",
       "  <tbody>\n",
       "    <tr>\n",
       "      <th>10568</th>\n",
       "      <td>0</td>\n",
       "      <td>2124.946354</td>\n",
       "      <td>27</td>\n",
       "      <td>высшее</td>\n",
       "      <td>0</td>\n",
       "      <td>женат / замужем</td>\n",
       "      <td>0</td>\n",
       "      <td>M</td>\n",
       "      <td>сотрудник</td>\n",
       "      <td>0</td>\n",
       "      <td>179652.712804</td>\n",
       "      <td>покупка жилья для семьи</td>\n",
       "      <td>C</td>\n",
       "      <td>операции с недвижимостью</td>\n",
       "    </tr>\n",
       "    <tr>\n",
       "      <th>5270</th>\n",
       "      <td>0</td>\n",
       "      <td>-1.000000</td>\n",
       "      <td>58</td>\n",
       "      <td>среднее</td>\n",
       "      <td>1</td>\n",
       "      <td>женат / замужем</td>\n",
       "      <td>0</td>\n",
       "      <td>F</td>\n",
       "      <td>пенсионер</td>\n",
       "      <td>0</td>\n",
       "      <td>111492.182791</td>\n",
       "      <td>жилье</td>\n",
       "      <td>C</td>\n",
       "      <td>операции с недвижимостью</td>\n",
       "    </tr>\n",
       "    <tr>\n",
       "      <th>10496</th>\n",
       "      <td>2</td>\n",
       "      <td>88.813603</td>\n",
       "      <td>31</td>\n",
       "      <td>среднее</td>\n",
       "      <td>1</td>\n",
       "      <td>женат / замужем</td>\n",
       "      <td>0</td>\n",
       "      <td>M</td>\n",
       "      <td>сотрудник</td>\n",
       "      <td>0</td>\n",
       "      <td>229730.875703</td>\n",
       "      <td>автомобиль</td>\n",
       "      <td>B</td>\n",
       "      <td>операции с автомобилем</td>\n",
       "    </tr>\n",
       "    <tr>\n",
       "      <th>5771</th>\n",
       "      <td>0</td>\n",
       "      <td>3252.664084</td>\n",
       "      <td>48</td>\n",
       "      <td>среднее</td>\n",
       "      <td>1</td>\n",
       "      <td>женат / замужем</td>\n",
       "      <td>0</td>\n",
       "      <td>F</td>\n",
       "      <td>госслужащий</td>\n",
       "      <td>1</td>\n",
       "      <td>266925.821698</td>\n",
       "      <td>операции с недвижимостью</td>\n",
       "      <td>B</td>\n",
       "      <td>операции с недвижимостью</td>\n",
       "    </tr>\n",
       "    <tr>\n",
       "      <th>11648</th>\n",
       "      <td>1</td>\n",
       "      <td>2972.469162</td>\n",
       "      <td>55</td>\n",
       "      <td>среднее</td>\n",
       "      <td>1</td>\n",
       "      <td>женат / замужем</td>\n",
       "      <td>0</td>\n",
       "      <td>F</td>\n",
       "      <td>сотрудник</td>\n",
       "      <td>0</td>\n",
       "      <td>102023.942163</td>\n",
       "      <td>покупка жилой недвижимости</td>\n",
       "      <td>C</td>\n",
       "      <td>операции с недвижимостью</td>\n",
       "    </tr>\n",
       "  </tbody>\n",
       "</table>\n",
       "</div>"
      ],
      "text/plain": [
       "       children  days_employed  dob_years education  education_id  \\\n",
       "10568         0    2124.946354         27    высшее             0   \n",
       "5270          0      -1.000000         58   среднее             1   \n",
       "10496         2      88.813603         31   среднее             1   \n",
       "5771          0    3252.664084         48   среднее             1   \n",
       "11648         1    2972.469162         55   среднее             1   \n",
       "\n",
       "         family_status  family_status_id gender  income_type  debt  \\\n",
       "10568  женат / замужем                 0      M    сотрудник     0   \n",
       "5270   женат / замужем                 0      F    пенсионер     0   \n",
       "10496  женат / замужем                 0      M    сотрудник     0   \n",
       "5771   женат / замужем                 0      F  госслужащий     1   \n",
       "11648  женат / замужем                 0      F    сотрудник     0   \n",
       "\n",
       "        total_income                     purpose total_income_category  \\\n",
       "10568  179652.712804     покупка жилья для семьи                     C   \n",
       "5270   111492.182791                       жилье                     C   \n",
       "10496  229730.875703                  автомобиль                     B   \n",
       "5771   266925.821698    операции с недвижимостью                     B   \n",
       "11648  102023.942163  покупка жилой недвижимости                     C   \n",
       "\n",
       "               purpose_category  \n",
       "10568  операции с недвижимостью  \n",
       "5270   операции с недвижимостью  \n",
       "10496    операции с автомобилем  \n",
       "5771   операции с недвижимостью  \n",
       "11648  операции с недвижимостью  "
      ]
     },
     "execution_count": 241,
     "metadata": {},
     "output_type": "execute_result"
    }
   ],
   "source": [
    "df.sample(5)"
   ]
  },
  {
   "cell_type": "markdown",
   "id": "cba5bb4a-df8b-436b-a9c4-afe729e686ec",
   "metadata": {},
   "source": [
    "### Шаг 3. Исследовательский анализ и визуализация"
   ]
  },
  {
   "cell_type": "markdown",
   "id": "83f6b2f1-253a-4b6a-bacb-caf8bb30f9a8",
   "metadata": {},
   "source": [
    "Для анализа зависимостей параметров будем пользоваться методами визуализации: графики, таблицы, а также функция df['A'].corr('B'). Корреляция (по Пирсону) считается:\n",
    "* слабой (< 0.3)\n",
    "* средней (0.3 - 0.7)\n",
    "* сильной (> 0.7)"
   ]
  },
  {
   "cell_type": "markdown",
   "id": "e0a4fb77-5e58-492b-bc63-f0d283801eeb",
   "metadata": {},
   "source": [
    "#### 1."
   ]
  },
  {
   "cell_type": "markdown",
   "id": "c41c42b9-3637-47b3-a1d3-a8810a4ba444",
   "metadata": {},
   "source": [
    "Проверим, есть ли зависимость между количеством детей и уровнем дохода."
   ]
  },
  {
   "cell_type": "code",
   "execution_count": 242,
   "id": "7de0a969-f58e-4319-a172-d055200d7ada",
   "metadata": {
    "scrolled": true
   },
   "outputs": [
    {
     "data": {
      "text/html": [
       "<div>\n",
       "<style scoped>\n",
       "    .dataframe tbody tr th:only-of-type {\n",
       "        vertical-align: middle;\n",
       "    }\n",
       "\n",
       "    .dataframe tbody tr th {\n",
       "        vertical-align: top;\n",
       "    }\n",
       "\n",
       "    .dataframe thead th {\n",
       "        text-align: right;\n",
       "    }\n",
       "</style>\n",
       "<table border=\"1\" class=\"dataframe\">\n",
       "  <thead>\n",
       "    <tr style=\"text-align: right;\">\n",
       "      <th></th>\n",
       "      <th>children</th>\n",
       "      <th>days_employed</th>\n",
       "      <th>dob_years</th>\n",
       "      <th>education</th>\n",
       "      <th>education_id</th>\n",
       "      <th>family_status</th>\n",
       "      <th>family_status_id</th>\n",
       "      <th>gender</th>\n",
       "      <th>income_type</th>\n",
       "      <th>debt</th>\n",
       "      <th>total_income</th>\n",
       "      <th>purpose</th>\n",
       "      <th>total_income_category</th>\n",
       "      <th>purpose_category</th>\n",
       "    </tr>\n",
       "  </thead>\n",
       "  <tbody>\n",
       "    <tr>\n",
       "      <th>0</th>\n",
       "      <td>1</td>\n",
       "      <td>8437.673028</td>\n",
       "      <td>42</td>\n",
       "      <td>высшее</td>\n",
       "      <td>0</td>\n",
       "      <td>женат / замужем</td>\n",
       "      <td>0</td>\n",
       "      <td>F</td>\n",
       "      <td>сотрудник</td>\n",
       "      <td>0</td>\n",
       "      <td>253875.639453</td>\n",
       "      <td>покупка жилья</td>\n",
       "      <td>B</td>\n",
       "      <td>операции с недвижимостью</td>\n",
       "    </tr>\n",
       "    <tr>\n",
       "      <th>1</th>\n",
       "      <td>1</td>\n",
       "      <td>4024.803754</td>\n",
       "      <td>36</td>\n",
       "      <td>среднее</td>\n",
       "      <td>1</td>\n",
       "      <td>женат / замужем</td>\n",
       "      <td>0</td>\n",
       "      <td>F</td>\n",
       "      <td>сотрудник</td>\n",
       "      <td>0</td>\n",
       "      <td>112080.014102</td>\n",
       "      <td>приобретение автомобиля</td>\n",
       "      <td>C</td>\n",
       "      <td>операции с автомобилем</td>\n",
       "    </tr>\n",
       "    <tr>\n",
       "      <th>2</th>\n",
       "      <td>0</td>\n",
       "      <td>5623.422610</td>\n",
       "      <td>33</td>\n",
       "      <td>среднее</td>\n",
       "      <td>1</td>\n",
       "      <td>женат / замужем</td>\n",
       "      <td>0</td>\n",
       "      <td>M</td>\n",
       "      <td>сотрудник</td>\n",
       "      <td>0</td>\n",
       "      <td>145885.952297</td>\n",
       "      <td>покупка жилья</td>\n",
       "      <td>C</td>\n",
       "      <td>операции с недвижимостью</td>\n",
       "    </tr>\n",
       "    <tr>\n",
       "      <th>3</th>\n",
       "      <td>3</td>\n",
       "      <td>4124.747207</td>\n",
       "      <td>32</td>\n",
       "      <td>среднее</td>\n",
       "      <td>1</td>\n",
       "      <td>женат / замужем</td>\n",
       "      <td>0</td>\n",
       "      <td>M</td>\n",
       "      <td>сотрудник</td>\n",
       "      <td>0</td>\n",
       "      <td>267628.550329</td>\n",
       "      <td>дополнительное образование</td>\n",
       "      <td>B</td>\n",
       "      <td>получение образования</td>\n",
       "    </tr>\n",
       "    <tr>\n",
       "      <th>4</th>\n",
       "      <td>0</td>\n",
       "      <td>-1.000000</td>\n",
       "      <td>53</td>\n",
       "      <td>среднее</td>\n",
       "      <td>1</td>\n",
       "      <td>гражданский брак</td>\n",
       "      <td>1</td>\n",
       "      <td>F</td>\n",
       "      <td>пенсионер</td>\n",
       "      <td>0</td>\n",
       "      <td>158616.077870</td>\n",
       "      <td>сыграть свадьбу</td>\n",
       "      <td>C</td>\n",
       "      <td>проведение свадьбы</td>\n",
       "    </tr>\n",
       "  </tbody>\n",
       "</table>\n",
       "</div>"
      ],
      "text/plain": [
       "   children  days_employed  dob_years education  education_id  \\\n",
       "0         1    8437.673028         42    высшее             0   \n",
       "1         1    4024.803754         36   среднее             1   \n",
       "2         0    5623.422610         33   среднее             1   \n",
       "3         3    4124.747207         32   среднее             1   \n",
       "4         0      -1.000000         53   среднее             1   \n",
       "\n",
       "      family_status  family_status_id gender income_type  debt   total_income  \\\n",
       "0   женат / замужем                 0      F   сотрудник     0  253875.639453   \n",
       "1   женат / замужем                 0      F   сотрудник     0  112080.014102   \n",
       "2   женат / замужем                 0      M   сотрудник     0  145885.952297   \n",
       "3   женат / замужем                 0      M   сотрудник     0  267628.550329   \n",
       "4  гражданский брак                 1      F   пенсионер     0  158616.077870   \n",
       "\n",
       "                      purpose total_income_category          purpose_category  \n",
       "0               покупка жилья                     B  операции с недвижимостью  \n",
       "1     приобретение автомобиля                     C    операции с автомобилем  \n",
       "2               покупка жилья                     C  операции с недвижимостью  \n",
       "3  дополнительное образование                     B     получение образования  \n",
       "4             сыграть свадьбу                     C        проведение свадьбы  "
      ]
     },
     "execution_count": 242,
     "metadata": {},
     "output_type": "execute_result"
    }
   ],
   "source": [
    "df.head()"
   ]
  },
  {
   "cell_type": "code",
   "execution_count": 243,
   "id": "c767e1bb-f099-401d-9ac1-4c0b6e770882",
   "metadata": {
    "scrolled": true
   },
   "outputs": [
    {
     "data": {
      "text/plain": [
       "<AxesSubplot:xlabel='children'>"
      ]
     },
     "execution_count": 243,
     "metadata": {},
     "output_type": "execute_result"
    },
    {
     "data": {
      "image/png": "[encoded data removed]",
      "text/plain": [
       "<Figure size 640x480 with 1 Axes>"
      ]
     },
     "metadata": {},
     "output_type": "display_data"
    }
   ],
   "source": [
    "pd.pivot_table(df, \n",
    "              index='children',\n",
    "              values='total_income',\n",
    "              aggfunc='mean').plot.bar()"
   ]
  },
  {
   "cell_type": "markdown",
   "id": "f108f709-a2cc-4ee3-9f46-0cef2d8ed209",
   "metadata": {},
   "source": [
    "Часть кода для проверки."
   ]
  },
  {
   "cell_type": "code",
   "execution_count": 244,
   "id": "588abd94-2d37-4505-a10f-6638cb6228c3",
   "metadata": {},
   "outputs": [
    {
     "name": "stdout",
     "output_type": "stream",
     "text": [
      "Mean value for 0 children: 163540.9750983924\n"
     ]
    }
   ],
   "source": [
    "count = 0\n",
    "income = 0\n",
    "for i in range(df.shape[0]):\n",
    "    if df.loc[i, 'children'] == 0:\n",
    "        income += df.loc[i, 'total_income']\n",
    "        count += 1\n",
    "print(f'Mean value for 0 children: {income/count}')"
   ]
  },
  {
   "cell_type": "code",
   "execution_count": 245,
   "id": "12eacd09-b17e-4d70-92b7-e1ad8a58e540",
   "metadata": {},
   "outputs": [
    {
     "data": {
      "text/plain": [
       "<AxesSubplot:xlabel='children'>"
      ]
     },
     "execution_count": 245,
     "metadata": {},
     "output_type": "execute_result"
    },
    {
     "data": {
      "image/png": "[encoded data removed]",
      "text/plain": [
       "<Figure size 640x480 with 1 Axes>"
      ]
     },
     "metadata": {},
     "output_type": "display_data"
    }
   ],
   "source": [
    "pd.pivot_table(df, \n",
    "              index='children',\n",
    "              values='total_income',\n",
    "              aggfunc='median').plot.bar()"
   ]
  },
  {
   "cell_type": "markdown",
   "id": "8d2d7a9e-5845-4a92-afcd-8f5ea130d85a",
   "metadata": {},
   "source": [
    "Среднее и медианное значения общего дохода очень слабо зависят от количества детей в семье."
   ]
  },
  {
   "cell_type": "code",
   "execution_count": 246,
   "id": "3c94ee46-b7ab-4273-8eab-1fde716746de",
   "metadata": {
    "scrolled": true
   },
   "outputs": [
    {
     "data": {
      "text/plain": [
       "<AxesSubplot:xlabel='children'>"
      ]
     },
     "execution_count": 246,
     "metadata": {},
     "output_type": "execute_result"
    },
    {
     "data": {
      "image/png": "[encoded data removed]",
      "text/plain": [
       "<Figure size 640x480 with 1 Axes>"
      ]
     },
     "metadata": {},
     "output_type": "display_data"
    }
   ],
   "source": [
    "pd.pivot_table(df, \n",
    "              index='children',\n",
    "              values='total_income',\n",
    "              aggfunc='max').plot.bar()"
   ]
  },
  {
   "cell_type": "code",
   "execution_count": 247,
   "id": "bdf6a67f-bf2f-422f-8d4d-992b7bb3f7d6",
   "metadata": {},
   "outputs": [
    {
     "data": {
      "text/plain": [
       "<AxesSubplot:xlabel='children'>"
      ]
     },
     "execution_count": 247,
     "metadata": {},
     "output_type": "execute_result"
    },
    {
     "data": {
      "image/png": "[encoded data removed]",
      "text/plain": [
       "<Figure size 640x480 with 1 Axes>"
      ]
     },
     "metadata": {},
     "output_type": "display_data"
    }
   ],
   "source": [
    "pd.pivot_table(df, \n",
    "              index='children',\n",
    "              values='total_income',\n",
    "              aggfunc='min').plot.bar()"
   ]
  },
  {
   "cell_type": "markdown",
   "id": "88877ac2-0359-4cc6-af88-89508105fe8f",
   "metadata": {},
   "source": [
    "Анализ минимального и максимального значений дохода показывает, что максимальный заработок больше в семьях без детей или 1 ребенком. Для 2-3 детей это значение падает, для 4 и 5 - еще сильнее падает. При этом минимальный заработок выше у семей с большим количеством детей. Это может быть связано с дополнительными выплатами от государства для многодетных семей."
   ]
  },
  {
   "cell_type": "markdown",
   "id": "5e51c03f-49a1-4bac-aab6-0018c1db32b0",
   "metadata": {},
   "source": [
    "#### 2."
   ]
  },
  {
   "cell_type": "markdown",
   "id": "d5c8dfa1-ff7d-469b-9c29-c8476973b468",
   "metadata": {},
   "source": [
    "Рассмотрим количество детей и возврат кредита в срок (1 в debt соответствует тому, что задолженность была)."
   ]
  },
  {
   "cell_type": "markdown",
   "id": "3b2393c1-1f78-4655-8b01-4c04020cb53b",
   "metadata": {},
   "source": [
    "Создадим сводную таблицу. Добавим в нее следующие столбцы: количество детей, всего кредитополучателей, всего должников, доля должников."
   ]
  },
  {
   "cell_type": "markdown",
   "id": "87467eb6-011f-478c-b993-bed8f40759d0",
   "metadata": {},
   "source": [
    "Создадим новую таблицу с интересующими нас столбцами."
   ]
  },
  {
   "cell_type": "code",
   "execution_count": 248,
   "id": "a7f262be-ee33-4c4e-9096-6b8efc9ffae9",
   "metadata": {},
   "outputs": [],
   "source": [
    "df_children = pd.DataFrame()"
   ]
  },
  {
   "cell_type": "code",
   "execution_count": 249,
   "id": "a1ca6302-6ae0-422a-85cc-d288923b58e5",
   "metadata": {},
   "outputs": [],
   "source": [
    "df_children = df[['children', 'debt']]"
   ]
  },
  {
   "cell_type": "code",
   "execution_count": 250,
   "id": "8f5f55ea-abd5-4020-8332-dabfb45079c4",
   "metadata": {},
   "outputs": [
    {
     "data": {
      "text/html": [
       "<div>\n",
       "<style scoped>\n",
       "    .dataframe tbody tr th:only-of-type {\n",
       "        vertical-align: middle;\n",
       "    }\n",
       "\n",
       "    .dataframe tbody tr th {\n",
       "        vertical-align: top;\n",
       "    }\n",
       "\n",
       "    .dataframe thead th {\n",
       "        text-align: right;\n",
       "    }\n",
       "</style>\n",
       "<table border=\"1\" class=\"dataframe\">\n",
       "  <thead>\n",
       "    <tr style=\"text-align: right;\">\n",
       "      <th></th>\n",
       "      <th>children</th>\n",
       "      <th>debt</th>\n",
       "    </tr>\n",
       "  </thead>\n",
       "  <tbody>\n",
       "    <tr>\n",
       "      <th>0</th>\n",
       "      <td>1</td>\n",
       "      <td>0</td>\n",
       "    </tr>\n",
       "    <tr>\n",
       "      <th>1</th>\n",
       "      <td>1</td>\n",
       "      <td>0</td>\n",
       "    </tr>\n",
       "    <tr>\n",
       "      <th>2</th>\n",
       "      <td>0</td>\n",
       "      <td>0</td>\n",
       "    </tr>\n",
       "    <tr>\n",
       "      <th>3</th>\n",
       "      <td>3</td>\n",
       "      <td>0</td>\n",
       "    </tr>\n",
       "    <tr>\n",
       "      <th>4</th>\n",
       "      <td>0</td>\n",
       "      <td>0</td>\n",
       "    </tr>\n",
       "  </tbody>\n",
       "</table>\n",
       "</div>"
      ],
      "text/plain": [
       "   children  debt\n",
       "0         1     0\n",
       "1         1     0\n",
       "2         0     0\n",
       "3         3     0\n",
       "4         0     0"
      ]
     },
     "execution_count": 250,
     "metadata": {},
     "output_type": "execute_result"
    }
   ],
   "source": [
    "df_children.head()"
   ]
  },
  {
   "cell_type": "markdown",
   "id": "ebbda97e-feb2-4df9-90a1-fd404fd37c25",
   "metadata": {},
   "source": [
    "Всего кредитополучателей с определенным количеством детей:"
   ]
  },
  {
   "cell_type": "code",
   "execution_count": 251,
   "id": "e0f132e7-6736-4145-a88d-f7d141c8c7f6",
   "metadata": {
    "scrolled": true
   },
   "outputs": [],
   "source": [
    "df_people = df_children.groupby(by=['children']).size().reset_index().set_index('children')"
   ]
  },
  {
   "cell_type": "code",
   "execution_count": 252,
   "id": "d9b479aa-eb96-4aef-befc-7167dbd2d727",
   "metadata": {},
   "outputs": [],
   "source": [
    "df_people.columns = ['people']"
   ]
  },
  {
   "cell_type": "code",
   "execution_count": 253,
   "id": "6217c08c-616e-4d50-8c90-4237aefcf9a1",
   "metadata": {},
   "outputs": [
    {
     "data": {
      "text/html": [
       "<div>\n",
       "<style scoped>\n",
       "    .dataframe tbody tr th:only-of-type {\n",
       "        vertical-align: middle;\n",
       "    }\n",
       "\n",
       "    .dataframe tbody tr th {\n",
       "        vertical-align: top;\n",
       "    }\n",
       "\n",
       "    .dataframe thead th {\n",
       "        text-align: right;\n",
       "    }\n",
       "</style>\n",
       "<table border=\"1\" class=\"dataframe\">\n",
       "  <thead>\n",
       "    <tr style=\"text-align: right;\">\n",
       "      <th></th>\n",
       "      <th>people</th>\n",
       "    </tr>\n",
       "    <tr>\n",
       "      <th>children</th>\n",
       "      <th></th>\n",
       "    </tr>\n",
       "  </thead>\n",
       "  <tbody>\n",
       "    <tr>\n",
       "      <th>0</th>\n",
       "      <td>13833</td>\n",
       "    </tr>\n",
       "    <tr>\n",
       "      <th>1</th>\n",
       "      <td>4732</td>\n",
       "    </tr>\n",
       "    <tr>\n",
       "      <th>2</th>\n",
       "      <td>2014</td>\n",
       "    </tr>\n",
       "    <tr>\n",
       "      <th>3</th>\n",
       "      <td>321</td>\n",
       "    </tr>\n",
       "    <tr>\n",
       "      <th>4</th>\n",
       "      <td>41</td>\n",
       "    </tr>\n",
       "    <tr>\n",
       "      <th>5</th>\n",
       "      <td>8</td>\n",
       "    </tr>\n",
       "  </tbody>\n",
       "</table>\n",
       "</div>"
      ],
      "text/plain": [
       "          people\n",
       "children        \n",
       "0          13833\n",
       "1           4732\n",
       "2           2014\n",
       "3            321\n",
       "4             41\n",
       "5              8"
      ]
     },
     "execution_count": 253,
     "metadata": {},
     "output_type": "execute_result"
    }
   ],
   "source": [
    "df_people"
   ]
  },
  {
   "cell_type": "markdown",
   "id": "a9af606d-7149-4ac7-bea0-0112aac3ed58",
   "metadata": {},
   "source": [
    "Количество кредитополучателей с определенным количеством детей и долгом:"
   ]
  },
  {
   "cell_type": "code",
   "execution_count": 254,
   "id": "7320971b-36c9-4c8b-bea5-8d1d0603bacc",
   "metadata": {},
   "outputs": [],
   "source": [
    "df_people_debt = df_children.groupby(by=['children']).sum()"
   ]
  },
  {
   "cell_type": "code",
   "execution_count": 255,
   "id": "3a7db317-a1b0-465a-991c-88e73863ec70",
   "metadata": {},
   "outputs": [
    {
     "data": {
      "text/html": [
       "<div>\n",
       "<style scoped>\n",
       "    .dataframe tbody tr th:only-of-type {\n",
       "        vertical-align: middle;\n",
       "    }\n",
       "\n",
       "    .dataframe tbody tr th {\n",
       "        vertical-align: top;\n",
       "    }\n",
       "\n",
       "    .dataframe thead th {\n",
       "        text-align: right;\n",
       "    }\n",
       "</style>\n",
       "<table border=\"1\" class=\"dataframe\">\n",
       "  <thead>\n",
       "    <tr style=\"text-align: right;\">\n",
       "      <th></th>\n",
       "      <th>debt</th>\n",
       "    </tr>\n",
       "    <tr>\n",
       "      <th>children</th>\n",
       "      <th></th>\n",
       "    </tr>\n",
       "  </thead>\n",
       "  <tbody>\n",
       "    <tr>\n",
       "      <th>0</th>\n",
       "      <td>1043</td>\n",
       "    </tr>\n",
       "    <tr>\n",
       "      <th>1</th>\n",
       "      <td>431</td>\n",
       "    </tr>\n",
       "    <tr>\n",
       "      <th>2</th>\n",
       "      <td>188</td>\n",
       "    </tr>\n",
       "    <tr>\n",
       "      <th>3</th>\n",
       "      <td>27</td>\n",
       "    </tr>\n",
       "    <tr>\n",
       "      <th>4</th>\n",
       "      <td>4</td>\n",
       "    </tr>\n",
       "    <tr>\n",
       "      <th>5</th>\n",
       "      <td>0</td>\n",
       "    </tr>\n",
       "  </tbody>\n",
       "</table>\n",
       "</div>"
      ],
      "text/plain": [
       "          debt\n",
       "children      \n",
       "0         1043\n",
       "1          431\n",
       "2          188\n",
       "3           27\n",
       "4            4\n",
       "5            0"
      ]
     },
     "execution_count": 255,
     "metadata": {},
     "output_type": "execute_result"
    }
   ],
   "source": [
    "df_people_debt"
   ]
  },
  {
   "cell_type": "markdown",
   "id": "783436e2-bda6-4b3e-83c9-f5f31b1006a9",
   "metadata": {},
   "source": [
    "Соберем все в одну таблицу"
   ]
  },
  {
   "cell_type": "code",
   "execution_count": 256,
   "id": "bd40842e-0c43-49bb-a06b-80d62fd3e0ef",
   "metadata": {},
   "outputs": [],
   "source": [
    "df_children_debt = pd.concat([\n",
    "    df_people,\n",
    "    df_people_debt\n",
    "], axis=1)"
   ]
  },
  {
   "cell_type": "code",
   "execution_count": 257,
   "id": "04d9a473-e775-4098-85d9-dfadabef99e4",
   "metadata": {
    "scrolled": true
   },
   "outputs": [
    {
     "data": {
      "text/html": [
       "<div>\n",
       "<style scoped>\n",
       "    .dataframe tbody tr th:only-of-type {\n",
       "        vertical-align: middle;\n",
       "    }\n",
       "\n",
       "    .dataframe tbody tr th {\n",
       "        vertical-align: top;\n",
       "    }\n",
       "\n",
       "    .dataframe thead th {\n",
       "        text-align: right;\n",
       "    }\n",
       "</style>\n",
       "<table border=\"1\" class=\"dataframe\">\n",
       "  <thead>\n",
       "    <tr style=\"text-align: right;\">\n",
       "      <th></th>\n",
       "      <th>people</th>\n",
       "      <th>debt</th>\n",
       "    </tr>\n",
       "    <tr>\n",
       "      <th>children</th>\n",
       "      <th></th>\n",
       "      <th></th>\n",
       "    </tr>\n",
       "  </thead>\n",
       "  <tbody>\n",
       "    <tr>\n",
       "      <th>0</th>\n",
       "      <td>13833</td>\n",
       "      <td>1043</td>\n",
       "    </tr>\n",
       "    <tr>\n",
       "      <th>1</th>\n",
       "      <td>4732</td>\n",
       "      <td>431</td>\n",
       "    </tr>\n",
       "    <tr>\n",
       "      <th>2</th>\n",
       "      <td>2014</td>\n",
       "      <td>188</td>\n",
       "    </tr>\n",
       "    <tr>\n",
       "      <th>3</th>\n",
       "      <td>321</td>\n",
       "      <td>27</td>\n",
       "    </tr>\n",
       "    <tr>\n",
       "      <th>4</th>\n",
       "      <td>41</td>\n",
       "      <td>4</td>\n",
       "    </tr>\n",
       "    <tr>\n",
       "      <th>5</th>\n",
       "      <td>8</td>\n",
       "      <td>0</td>\n",
       "    </tr>\n",
       "  </tbody>\n",
       "</table>\n",
       "</div>"
      ],
      "text/plain": [
       "          people  debt\n",
       "children              \n",
       "0          13833  1043\n",
       "1           4732   431\n",
       "2           2014   188\n",
       "3            321    27\n",
       "4             41     4\n",
       "5              8     0"
      ]
     },
     "execution_count": 257,
     "metadata": {},
     "output_type": "execute_result"
    }
   ],
   "source": [
    "df_children_debt"
   ]
  },
  {
   "cell_type": "markdown",
   "id": "ff220100-cb96-4fd8-a201-e30504dfafd6",
   "metadata": {},
   "source": [
    "Посчитаем долю должников:"
   ]
  },
  {
   "cell_type": "code",
   "execution_count": 258,
   "id": "b9ce4c5c-ab2b-4584-a587-c33da79a861c",
   "metadata": {},
   "outputs": [],
   "source": [
    "df_children_debt['debt_perc'] = df_children_debt['debt'] / df_children_debt['people'] * 100"
   ]
  },
  {
   "cell_type": "code",
   "execution_count": 259,
   "id": "613a6516-eca1-4115-aea8-df8d1a8dcc24",
   "metadata": {},
   "outputs": [
    {
     "data": {
      "text/html": [
       "<div>\n",
       "<style scoped>\n",
       "    .dataframe tbody tr th:only-of-type {\n",
       "        vertical-align: middle;\n",
       "    }\n",
       "\n",
       "    .dataframe tbody tr th {\n",
       "        vertical-align: top;\n",
       "    }\n",
       "\n",
       "    .dataframe thead th {\n",
       "        text-align: right;\n",
       "    }\n",
       "</style>\n",
       "<table border=\"1\" class=\"dataframe\">\n",
       "  <thead>\n",
       "    <tr style=\"text-align: right;\">\n",
       "      <th></th>\n",
       "      <th>people</th>\n",
       "      <th>debt</th>\n",
       "      <th>debt_perc</th>\n",
       "    </tr>\n",
       "    <tr>\n",
       "      <th>children</th>\n",
       "      <th></th>\n",
       "      <th></th>\n",
       "      <th></th>\n",
       "    </tr>\n",
       "  </thead>\n",
       "  <tbody>\n",
       "    <tr>\n",
       "      <th>0</th>\n",
       "      <td>13833</td>\n",
       "      <td>1043</td>\n",
       "      <td>7.54</td>\n",
       "    </tr>\n",
       "    <tr>\n",
       "      <th>1</th>\n",
       "      <td>4732</td>\n",
       "      <td>431</td>\n",
       "      <td>9.11</td>\n",
       "    </tr>\n",
       "    <tr>\n",
       "      <th>2</th>\n",
       "      <td>2014</td>\n",
       "      <td>188</td>\n",
       "      <td>9.33</td>\n",
       "    </tr>\n",
       "    <tr>\n",
       "      <th>3</th>\n",
       "      <td>321</td>\n",
       "      <td>27</td>\n",
       "      <td>8.41</td>\n",
       "    </tr>\n",
       "    <tr>\n",
       "      <th>4</th>\n",
       "      <td>41</td>\n",
       "      <td>4</td>\n",
       "      <td>9.76</td>\n",
       "    </tr>\n",
       "    <tr>\n",
       "      <th>5</th>\n",
       "      <td>8</td>\n",
       "      <td>0</td>\n",
       "      <td>0.00</td>\n",
       "    </tr>\n",
       "  </tbody>\n",
       "</table>\n",
       "</div>"
      ],
      "text/plain": [
       "          people  debt  debt_perc\n",
       "children                         \n",
       "0          13833  1043       7.54\n",
       "1           4732   431       9.11\n",
       "2           2014   188       9.33\n",
       "3            321    27       8.41\n",
       "4             41     4       9.76\n",
       "5              8     0       0.00"
      ]
     },
     "execution_count": 259,
     "metadata": {},
     "output_type": "execute_result"
    }
   ],
   "source": [
    "df_children_debt = df_children_debt.round(2)\n",
    "df_children_debt"
   ]
  },
  {
   "cell_type": "markdown",
   "id": "c0fd09c1-0269-468f-9ef4-961e40da0696",
   "metadata": {},
   "source": [
    "Введем категории пол количеству детей:\n",
    "* бездетные A\n",
    "* малодетные (1-2) B\n",
    "* многодетные C"
   ]
  },
  {
   "cell_type": "code",
   "execution_count": 260,
   "id": "f8bc205f-44a9-424c-9604-c6a9a09bed68",
   "metadata": {},
   "outputs": [],
   "source": [
    "df_children_debt['children_category'] = 'B'"
   ]
  },
  {
   "cell_type": "code",
   "execution_count": 261,
   "id": "79d0a15f-e347-427f-9fe3-740918af954e",
   "metadata": {},
   "outputs": [],
   "source": [
    "for i in range(6):\n",
    "    if i == 0:\n",
    "        df_children_debt.loc[i, \"children_category\"] = 'A'\n",
    "    if i > 2:\n",
    "        df_children_debt.loc[i, \"children_category\"] = 'C'"
   ]
  },
  {
   "cell_type": "code",
   "execution_count": 262,
   "id": "57360a28-4930-4ea2-9aa4-4d5bc816fd12",
   "metadata": {
    "scrolled": true
   },
   "outputs": [
    {
     "data": {
      "text/html": [
       "<div>\n",
       "<style scoped>\n",
       "    .dataframe tbody tr th:only-of-type {\n",
       "        vertical-align: middle;\n",
       "    }\n",
       "\n",
       "    .dataframe tbody tr th {\n",
       "        vertical-align: top;\n",
       "    }\n",
       "\n",
       "    .dataframe thead th {\n",
       "        text-align: right;\n",
       "    }\n",
       "</style>\n",
       "<table border=\"1\" class=\"dataframe\">\n",
       "  <thead>\n",
       "    <tr style=\"text-align: right;\">\n",
       "      <th></th>\n",
       "      <th>people</th>\n",
       "      <th>debt</th>\n",
       "      <th>debt_perc</th>\n",
       "      <th>children_category</th>\n",
       "    </tr>\n",
       "    <tr>\n",
       "      <th>children</th>\n",
       "      <th></th>\n",
       "      <th></th>\n",
       "      <th></th>\n",
       "      <th></th>\n",
       "    </tr>\n",
       "  </thead>\n",
       "  <tbody>\n",
       "    <tr>\n",
       "      <th>0</th>\n",
       "      <td>13833</td>\n",
       "      <td>1043</td>\n",
       "      <td>7.54</td>\n",
       "      <td>A</td>\n",
       "    </tr>\n",
       "    <tr>\n",
       "      <th>1</th>\n",
       "      <td>4732</td>\n",
       "      <td>431</td>\n",
       "      <td>9.11</td>\n",
       "      <td>B</td>\n",
       "    </tr>\n",
       "    <tr>\n",
       "      <th>2</th>\n",
       "      <td>2014</td>\n",
       "      <td>188</td>\n",
       "      <td>9.33</td>\n",
       "      <td>B</td>\n",
       "    </tr>\n",
       "    <tr>\n",
       "      <th>3</th>\n",
       "      <td>321</td>\n",
       "      <td>27</td>\n",
       "      <td>8.41</td>\n",
       "      <td>C</td>\n",
       "    </tr>\n",
       "    <tr>\n",
       "      <th>4</th>\n",
       "      <td>41</td>\n",
       "      <td>4</td>\n",
       "      <td>9.76</td>\n",
       "      <td>C</td>\n",
       "    </tr>\n",
       "    <tr>\n",
       "      <th>5</th>\n",
       "      <td>8</td>\n",
       "      <td>0</td>\n",
       "      <td>0.00</td>\n",
       "      <td>C</td>\n",
       "    </tr>\n",
       "  </tbody>\n",
       "</table>\n",
       "</div>"
      ],
      "text/plain": [
       "          people  debt  debt_perc children_category\n",
       "children                                           \n",
       "0          13833  1043       7.54                 A\n",
       "1           4732   431       9.11                 B\n",
       "2           2014   188       9.33                 B\n",
       "3            321    27       8.41                 C\n",
       "4             41     4       9.76                 C\n",
       "5              8     0       0.00                 C"
      ]
     },
     "execution_count": 262,
     "metadata": {},
     "output_type": "execute_result"
    }
   ],
   "source": [
    "df_children_debt"
   ]
  },
  {
   "cell_type": "markdown",
   "id": "3ba14b49-c3ce-43a8-9919-df65a0a454b9",
   "metadata": {},
   "source": [
    "Для каждой категории посчитаем процент должников."
   ]
  },
  {
   "cell_type": "code",
   "execution_count": 263,
   "id": "20162865-2844-4347-a55c-3bab21354fcf",
   "metadata": {},
   "outputs": [],
   "source": [
    "debt_A = df_children_debt.loc[0, 'debt_perc']\n",
    "debt_B = 100 * (df_children_debt.loc[1, 'debt'] + df_children_debt.loc[2, 'debt']) / (df_children_debt.loc[1, 'people'] + df_children_debt.loc[2, 'people'])\n",
    "debt_C = 100 * (df_children_debt.loc[3, 'debt'] + df_children_debt.loc[4, 'debt'] + df_children_debt.loc[5, 'debt']) / (df_children_debt.loc[3, 'people'] + df_children_debt.loc[4, 'people'] + df_children_debt.loc[5, 'people'])"
   ]
  },
  {
   "cell_type": "code",
   "execution_count": 264,
   "id": "46fa786c-f362-4ad6-874c-314f06e225ac",
   "metadata": {},
   "outputs": [
    {
     "name": "stdout",
     "output_type": "stream",
     "text": [
      "\n",
      "Процент должников среди семей без детей (категория А): 7.54\n",
      "Процент должников сред семей категории B: 9.17580788615476\n",
      "Процент должников сред семей категории C: 8.378378378378379\n"
     ]
    }
   ],
   "source": [
    "print(f'\\nПроцент должников среди семей без детей (категория А): {debt_A}\\nПроцент должников сред семей категории B: {debt_B}\\nПроцент должников сред семей категории C: {debt_C}')"
   ]
  },
  {
   "cell_type": "code",
   "execution_count": 265,
   "id": "71ec6c4f-30fd-4bb4-8994-63b520bfb32d",
   "metadata": {},
   "outputs": [
    {
     "data": {
      "text/plain": [
       "(array([0, 1, 2, 3, 4, 5]),\n",
       " [Text(0, 0, '0'),\n",
       "  Text(1, 0, '1'),\n",
       "  Text(2, 0, '2'),\n",
       "  Text(3, 0, '3'),\n",
       "  Text(4, 0, '4'),\n",
       "  Text(5, 0, '5')])"
      ]
     },
     "execution_count": 265,
     "metadata": {},
     "output_type": "execute_result"
    },
    {
     "data": {
      "image/png": "[encoded data removed]",
      "text/plain": [
       "<Figure size 640x480 with 1 Axes>"
      ]
     },
     "metadata": {},
     "output_type": "display_data"
    }
   ],
   "source": [
    "df_children_debt['debt_perc'].plot.bar(xlabel='Количество детей', ylabel='Процент должников')\n",
    "plt.xticks(rotation=0)"
   ]
  },
  {
   "cell_type": "markdown",
   "id": "f8e9993d-8cf3-4bff-b6dd-af5f9caf3ab3",
   "metadata": {},
   "source": [
    "Зависимости между количеством детей в семье и фактом наличия задолженности не наблюдается. Процент должников крайне мал в каждом из случаев (для семей с 5 детьми их нет, но таких семей в принципе мало). Разбитие по категориям также не показало наличие зависимости."
   ]
  },
  {
   "cell_type": "markdown",
   "id": "fcb15b53-1738-4795-ab33-63cf2169f9c8",
   "metadata": {},
   "source": [
    "#### 3."
   ]
  },
  {
   "cell_type": "markdown",
   "id": "59b681be-2891-49f7-a698-7ebb548be626",
   "metadata": {},
   "source": [
    "Рассмотрим теперь, есть ли зависимость между семейным положением и возвратом кредита в срок."
   ]
  },
  {
   "cell_type": "code",
   "execution_count": 266,
   "id": "7ee87170-c274-4bf3-bf67-e36e321f80e5",
   "metadata": {},
   "outputs": [
    {
     "data": {
      "text/html": [
       "<div>\n",
       "<style scoped>\n",
       "    .dataframe tbody tr th:only-of-type {\n",
       "        vertical-align: middle;\n",
       "    }\n",
       "\n",
       "    .dataframe tbody tr th {\n",
       "        vertical-align: top;\n",
       "    }\n",
       "\n",
       "    .dataframe thead th {\n",
       "        text-align: right;\n",
       "    }\n",
       "</style>\n",
       "<table border=\"1\" class=\"dataframe\">\n",
       "  <thead>\n",
       "    <tr style=\"text-align: right;\">\n",
       "      <th></th>\n",
       "      <th>children</th>\n",
       "      <th>days_employed</th>\n",
       "      <th>dob_years</th>\n",
       "      <th>education</th>\n",
       "      <th>education_id</th>\n",
       "      <th>family_status</th>\n",
       "      <th>family_status_id</th>\n",
       "      <th>gender</th>\n",
       "      <th>income_type</th>\n",
       "      <th>debt</th>\n",
       "      <th>total_income</th>\n",
       "      <th>purpose</th>\n",
       "      <th>total_income_category</th>\n",
       "      <th>purpose_category</th>\n",
       "    </tr>\n",
       "  </thead>\n",
       "  <tbody>\n",
       "    <tr>\n",
       "      <th>0</th>\n",
       "      <td>1</td>\n",
       "      <td>8437.673028</td>\n",
       "      <td>42</td>\n",
       "      <td>высшее</td>\n",
       "      <td>0</td>\n",
       "      <td>женат / замужем</td>\n",
       "      <td>0</td>\n",
       "      <td>F</td>\n",
       "      <td>сотрудник</td>\n",
       "      <td>0</td>\n",
       "      <td>253875.639453</td>\n",
       "      <td>покупка жилья</td>\n",
       "      <td>B</td>\n",
       "      <td>операции с недвижимостью</td>\n",
       "    </tr>\n",
       "    <tr>\n",
       "      <th>1</th>\n",
       "      <td>1</td>\n",
       "      <td>4024.803754</td>\n",
       "      <td>36</td>\n",
       "      <td>среднее</td>\n",
       "      <td>1</td>\n",
       "      <td>женат / замужем</td>\n",
       "      <td>0</td>\n",
       "      <td>F</td>\n",
       "      <td>сотрудник</td>\n",
       "      <td>0</td>\n",
       "      <td>112080.014102</td>\n",
       "      <td>приобретение автомобиля</td>\n",
       "      <td>C</td>\n",
       "      <td>операции с автомобилем</td>\n",
       "    </tr>\n",
       "    <tr>\n",
       "      <th>2</th>\n",
       "      <td>0</td>\n",
       "      <td>5623.422610</td>\n",
       "      <td>33</td>\n",
       "      <td>среднее</td>\n",
       "      <td>1</td>\n",
       "      <td>женат / замужем</td>\n",
       "      <td>0</td>\n",
       "      <td>M</td>\n",
       "      <td>сотрудник</td>\n",
       "      <td>0</td>\n",
       "      <td>145885.952297</td>\n",
       "      <td>покупка жилья</td>\n",
       "      <td>C</td>\n",
       "      <td>операции с недвижимостью</td>\n",
       "    </tr>\n",
       "    <tr>\n",
       "      <th>3</th>\n",
       "      <td>3</td>\n",
       "      <td>4124.747207</td>\n",
       "      <td>32</td>\n",
       "      <td>среднее</td>\n",
       "      <td>1</td>\n",
       "      <td>женат / замужем</td>\n",
       "      <td>0</td>\n",
       "      <td>M</td>\n",
       "      <td>сотрудник</td>\n",
       "      <td>0</td>\n",
       "      <td>267628.550329</td>\n",
       "      <td>дополнительное образование</td>\n",
       "      <td>B</td>\n",
       "      <td>получение образования</td>\n",
       "    </tr>\n",
       "    <tr>\n",
       "      <th>4</th>\n",
       "      <td>0</td>\n",
       "      <td>-1.000000</td>\n",
       "      <td>53</td>\n",
       "      <td>среднее</td>\n",
       "      <td>1</td>\n",
       "      <td>гражданский брак</td>\n",
       "      <td>1</td>\n",
       "      <td>F</td>\n",
       "      <td>пенсионер</td>\n",
       "      <td>0</td>\n",
       "      <td>158616.077870</td>\n",
       "      <td>сыграть свадьбу</td>\n",
       "      <td>C</td>\n",
       "      <td>проведение свадьбы</td>\n",
       "    </tr>\n",
       "  </tbody>\n",
       "</table>\n",
       "</div>"
      ],
      "text/plain": [
       "   children  days_employed  dob_years education  education_id  \\\n",
       "0         1    8437.673028         42    высшее             0   \n",
       "1         1    4024.803754         36   среднее             1   \n",
       "2         0    5623.422610         33   среднее             1   \n",
       "3         3    4124.747207         32   среднее             1   \n",
       "4         0      -1.000000         53   среднее             1   \n",
       "\n",
       "      family_status  family_status_id gender income_type  debt   total_income  \\\n",
       "0   женат / замужем                 0      F   сотрудник     0  253875.639453   \n",
       "1   женат / замужем                 0      F   сотрудник     0  112080.014102   \n",
       "2   женат / замужем                 0      M   сотрудник     0  145885.952297   \n",
       "3   женат / замужем                 0      M   сотрудник     0  267628.550329   \n",
       "4  гражданский брак                 1      F   пенсионер     0  158616.077870   \n",
       "\n",
       "                      purpose total_income_category          purpose_category  \n",
       "0               покупка жилья                     B  операции с недвижимостью  \n",
       "1     приобретение автомобиля                     C    операции с автомобилем  \n",
       "2               покупка жилья                     C  операции с недвижимостью  \n",
       "3  дополнительное образование                     B     получение образования  \n",
       "4             сыграть свадьбу                     C        проведение свадьбы  "
      ]
     },
     "execution_count": 266,
     "metadata": {},
     "output_type": "execute_result"
    }
   ],
   "source": [
    "df.head()"
   ]
  },
  {
   "cell_type": "markdown",
   "id": "3b0cfcf0-43b3-461b-b33f-cf89cdb1541c",
   "metadata": {},
   "source": [
    "Вспомним, какие в таблице есть семейные положения."
   ]
  },
  {
   "cell_type": "code",
   "execution_count": 267,
   "id": "deeeed1a-01a1-4514-ac79-44520a634413",
   "metadata": {},
   "outputs": [
    {
     "data": {
      "text/plain": [
       "array(['женат / замужем', 'гражданский брак', 'вдовец / вдова',\n",
       "       'в разводе', 'Не женат / не замужем'], dtype=object)"
      ]
     },
     "execution_count": 267,
     "metadata": {},
     "output_type": "execute_result"
    }
   ],
   "source": [
    "df['family_status'].unique()"
   ]
  },
  {
   "cell_type": "markdown",
   "id": "55b048db-47c5-4150-bfce-169db96e937e",
   "metadata": {},
   "source": [
    "Составим сводную таблицу:"
   ]
  },
  {
   "cell_type": "code",
   "execution_count": 268,
   "id": "ffe01099-d836-44ce-a0a2-74b504a2df6f",
   "metadata": {},
   "outputs": [],
   "source": [
    "df_status_debt = pd.pivot_table(df,\n",
    "              index='family_status',\n",
    "              values='debt',\n",
    "              aggfunc='sum')"
   ]
  },
  {
   "cell_type": "code",
   "execution_count": 269,
   "id": "6dc887d2-fa45-4386-b490-9f28e51d1c7e",
   "metadata": {},
   "outputs": [
    {
     "data": {
      "text/html": [
       "<div>\n",
       "<style scoped>\n",
       "    .dataframe tbody tr th:only-of-type {\n",
       "        vertical-align: middle;\n",
       "    }\n",
       "\n",
       "    .dataframe tbody tr th {\n",
       "        vertical-align: top;\n",
       "    }\n",
       "\n",
       "    .dataframe thead th {\n",
       "        text-align: right;\n",
       "    }\n",
       "</style>\n",
       "<table border=\"1\" class=\"dataframe\">\n",
       "  <thead>\n",
       "    <tr style=\"text-align: right;\">\n",
       "      <th></th>\n",
       "      <th>debt</th>\n",
       "    </tr>\n",
       "    <tr>\n",
       "      <th>family_status</th>\n",
       "      <th></th>\n",
       "    </tr>\n",
       "  </thead>\n",
       "  <tbody>\n",
       "    <tr>\n",
       "      <th>Не женат / не замужем</th>\n",
       "      <td>269</td>\n",
       "    </tr>\n",
       "    <tr>\n",
       "      <th>в разводе</th>\n",
       "      <td>82</td>\n",
       "    </tr>\n",
       "    <tr>\n",
       "      <th>вдовец / вдова</th>\n",
       "      <td>62</td>\n",
       "    </tr>\n",
       "    <tr>\n",
       "      <th>гражданский брак</th>\n",
       "      <td>372</td>\n",
       "    </tr>\n",
       "    <tr>\n",
       "      <th>женат / замужем</th>\n",
       "      <td>908</td>\n",
       "    </tr>\n",
       "  </tbody>\n",
       "</table>\n",
       "</div>"
      ],
      "text/plain": [
       "                       debt\n",
       "family_status              \n",
       "Не женат / не замужем   269\n",
       "в разводе                82\n",
       "вдовец / вдова           62\n",
       "гражданский брак        372\n",
       "женат / замужем         908"
      ]
     },
     "execution_count": 269,
     "metadata": {},
     "output_type": "execute_result"
    }
   ],
   "source": [
    "df_status_debt"
   ]
  },
  {
   "cell_type": "markdown",
   "id": "01ca354c-1356-4da7-b4bf-3a1b7b7e6337",
   "metadata": {},
   "source": [
    "На первый взгляд, среди людей в браке явно большое количество должников. Надо проверить не количество, а процент:"
   ]
  },
  {
   "cell_type": "code",
   "execution_count": 270,
   "id": "eaedc9a3-2776-4a1c-a0a2-bdf8c15ffbcf",
   "metadata": {},
   "outputs": [
    {
     "data": {
      "text/html": [
       "<div>\n",
       "<style scoped>\n",
       "    .dataframe tbody tr th:only-of-type {\n",
       "        vertical-align: middle;\n",
       "    }\n",
       "\n",
       "    .dataframe tbody tr th {\n",
       "        vertical-align: top;\n",
       "    }\n",
       "\n",
       "    .dataframe thead th {\n",
       "        text-align: right;\n",
       "    }\n",
       "</style>\n",
       "<table border=\"1\" class=\"dataframe\">\n",
       "  <thead>\n",
       "    <tr style=\"text-align: right;\">\n",
       "      <th></th>\n",
       "      <th>people</th>\n",
       "    </tr>\n",
       "    <tr>\n",
       "      <th>family_status</th>\n",
       "      <th></th>\n",
       "    </tr>\n",
       "  </thead>\n",
       "  <tbody>\n",
       "    <tr>\n",
       "      <th>Не женат / не замужем</th>\n",
       "      <td>2746</td>\n",
       "    </tr>\n",
       "    <tr>\n",
       "      <th>в разводе</th>\n",
       "      <td>1159</td>\n",
       "    </tr>\n",
       "    <tr>\n",
       "      <th>вдовец / вдова</th>\n",
       "      <td>915</td>\n",
       "    </tr>\n",
       "    <tr>\n",
       "      <th>гражданский брак</th>\n",
       "      <td>4057</td>\n",
       "    </tr>\n",
       "    <tr>\n",
       "      <th>женат / замужем</th>\n",
       "      <td>12072</td>\n",
       "    </tr>\n",
       "  </tbody>\n",
       "</table>\n",
       "</div>"
      ],
      "text/plain": [
       "                       people\n",
       "family_status                \n",
       "Не женат / не замужем    2746\n",
       "в разводе                1159\n",
       "вдовец / вдова            915\n",
       "гражданский брак         4057\n",
       "женат / замужем         12072"
      ]
     },
     "execution_count": 270,
     "metadata": {},
     "output_type": "execute_result"
    }
   ],
   "source": [
    "df_people_status = df.groupby(by=['family_status']).size().reset_index().set_index('family_status')\n",
    "df_people_status.columns = ['people']\n",
    "df_people_status"
   ]
  },
  {
   "cell_type": "code",
   "execution_count": 271,
   "id": "9c491740-60fb-4f4d-a19a-76e4a6602709",
   "metadata": {},
   "outputs": [
    {
     "data": {
      "text/html": [
       "<div>\n",
       "<style scoped>\n",
       "    .dataframe tbody tr th:only-of-type {\n",
       "        vertical-align: middle;\n",
       "    }\n",
       "\n",
       "    .dataframe tbody tr th {\n",
       "        vertical-align: top;\n",
       "    }\n",
       "\n",
       "    .dataframe thead th {\n",
       "        text-align: right;\n",
       "    }\n",
       "</style>\n",
       "<table border=\"1\" class=\"dataframe\">\n",
       "  <thead>\n",
       "    <tr style=\"text-align: right;\">\n",
       "      <th></th>\n",
       "      <th>people</th>\n",
       "      <th>debt</th>\n",
       "    </tr>\n",
       "    <tr>\n",
       "      <th>family_status</th>\n",
       "      <th></th>\n",
       "      <th></th>\n",
       "    </tr>\n",
       "  </thead>\n",
       "  <tbody>\n",
       "    <tr>\n",
       "      <th>Не женат / не замужем</th>\n",
       "      <td>2746</td>\n",
       "      <td>269</td>\n",
       "    </tr>\n",
       "    <tr>\n",
       "      <th>в разводе</th>\n",
       "      <td>1159</td>\n",
       "      <td>82</td>\n",
       "    </tr>\n",
       "    <tr>\n",
       "      <th>вдовец / вдова</th>\n",
       "      <td>915</td>\n",
       "      <td>62</td>\n",
       "    </tr>\n",
       "    <tr>\n",
       "      <th>гражданский брак</th>\n",
       "      <td>4057</td>\n",
       "      <td>372</td>\n",
       "    </tr>\n",
       "    <tr>\n",
       "      <th>женат / замужем</th>\n",
       "      <td>12072</td>\n",
       "      <td>908</td>\n",
       "    </tr>\n",
       "  </tbody>\n",
       "</table>\n",
       "</div>"
      ],
      "text/plain": [
       "                       people  debt\n",
       "family_status                      \n",
       "Не женат / не замужем    2746   269\n",
       "в разводе                1159    82\n",
       "вдовец / вдова            915    62\n",
       "гражданский брак         4057   372\n",
       "женат / замужем         12072   908"
      ]
     },
     "execution_count": 271,
     "metadata": {},
     "output_type": "execute_result"
    }
   ],
   "source": [
    "df_status = pd.concat([\n",
    "    df_people_status,\n",
    "    df_status_debt\n",
    "], axis=1)\n",
    "df_status.head()"
   ]
  },
  {
   "cell_type": "code",
   "execution_count": 272,
   "id": "63462243-58ee-495a-baf6-c7b6c1a737f5",
   "metadata": {},
   "outputs": [
    {
     "data": {
      "text/html": [
       "<div>\n",
       "<style scoped>\n",
       "    .dataframe tbody tr th:only-of-type {\n",
       "        vertical-align: middle;\n",
       "    }\n",
       "\n",
       "    .dataframe tbody tr th {\n",
       "        vertical-align: top;\n",
       "    }\n",
       "\n",
       "    .dataframe thead th {\n",
       "        text-align: right;\n",
       "    }\n",
       "</style>\n",
       "<table border=\"1\" class=\"dataframe\">\n",
       "  <thead>\n",
       "    <tr style=\"text-align: right;\">\n",
       "      <th></th>\n",
       "      <th>people</th>\n",
       "      <th>debt</th>\n",
       "      <th>debt_perc</th>\n",
       "    </tr>\n",
       "    <tr>\n",
       "      <th>family_status</th>\n",
       "      <th></th>\n",
       "      <th></th>\n",
       "      <th></th>\n",
       "    </tr>\n",
       "  </thead>\n",
       "  <tbody>\n",
       "    <tr>\n",
       "      <th>Не женат / не замужем</th>\n",
       "      <td>2746</td>\n",
       "      <td>269</td>\n",
       "      <td>9.80</td>\n",
       "    </tr>\n",
       "    <tr>\n",
       "      <th>в разводе</th>\n",
       "      <td>1159</td>\n",
       "      <td>82</td>\n",
       "      <td>7.08</td>\n",
       "    </tr>\n",
       "    <tr>\n",
       "      <th>вдовец / вдова</th>\n",
       "      <td>915</td>\n",
       "      <td>62</td>\n",
       "      <td>6.78</td>\n",
       "    </tr>\n",
       "    <tr>\n",
       "      <th>гражданский брак</th>\n",
       "      <td>4057</td>\n",
       "      <td>372</td>\n",
       "      <td>9.17</td>\n",
       "    </tr>\n",
       "    <tr>\n",
       "      <th>женат / замужем</th>\n",
       "      <td>12072</td>\n",
       "      <td>908</td>\n",
       "      <td>7.52</td>\n",
       "    </tr>\n",
       "  </tbody>\n",
       "</table>\n",
       "</div>"
      ],
      "text/plain": [
       "                       people  debt  debt_perc\n",
       "family_status                                 \n",
       "Не женат / не замужем    2746   269       9.80\n",
       "в разводе                1159    82       7.08\n",
       "вдовец / вдова            915    62       6.78\n",
       "гражданский брак         4057   372       9.17\n",
       "женат / замужем         12072   908       7.52"
      ]
     },
     "execution_count": 272,
     "metadata": {},
     "output_type": "execute_result"
    }
   ],
   "source": [
    "df_status['debt_perc'] = df_status['debt'] / df_status['people'] * 100\n",
    "df_status = df_status.round(2)\n",
    "df_status"
   ]
  },
  {
   "cell_type": "code",
   "execution_count": 317,
   "id": "89198848-32fa-47a3-bc2b-eb3c57d31d67",
   "metadata": {},
   "outputs": [
    {
     "data": {
      "text/plain": [
       "(array([0, 1, 2, 3, 4]),\n",
       " [Text(0, 0, 'Не женат / не замужем'),\n",
       "  Text(1, 0, 'в разводе'),\n",
       "  Text(2, 0, 'вдовец / вдова'),\n",
       "  Text(3, 0, 'гражданский брак'),\n",
       "  Text(4, 0, 'женат / замужем')])"
      ]
     },
     "execution_count": 317,
     "metadata": {},
     "output_type": "execute_result"
    },
    {
     "data": {
      "image/png": "[encoded data removed]",
      "text/plain": [
       "<Figure size 640x480 with 1 Axes>"
      ]
     },
     "metadata": {},
     "output_type": "display_data"
    }
   ],
   "source": [
    "df_status['debt_perc'].plot.bar(xlabel='Семейное положение', ylabel='Процент должников')\n",
    "plt.xticks(rotation=30)"
   ]
  },
  {
   "cell_type": "markdown",
   "id": "29278b1a-c6b3-4d1e-9f78-e4ada003c5fa",
   "metadata": {},
   "source": [
    "Доля должников среди людей с разным семейным положением почти одинаковая."
   ]
  },
  {
   "cell_type": "markdown",
   "id": "59af33cb-a459-4a89-b7d3-28028b6262c1",
   "metadata": {},
   "source": [
    "#### 4."
   ]
  },
  {
   "cell_type": "markdown",
   "id": "be2d97f5-ad38-4160-b9ac-5621a0d7a193",
   "metadata": {},
   "source": [
    "Рассмотрим, есть ли зависимость между уровнем дохода и возвратом кредита."
   ]
  },
  {
   "cell_type": "code",
   "execution_count": 274,
   "id": "b268f3fa-ecd6-4842-8920-4f340e145dfa",
   "metadata": {},
   "outputs": [
    {
     "data": {
      "text/html": [
       "<div>\n",
       "<style scoped>\n",
       "    .dataframe tbody tr th:only-of-type {\n",
       "        vertical-align: middle;\n",
       "    }\n",
       "\n",
       "    .dataframe tbody tr th {\n",
       "        vertical-align: top;\n",
       "    }\n",
       "\n",
       "    .dataframe thead th {\n",
       "        text-align: right;\n",
       "    }\n",
       "</style>\n",
       "<table border=\"1\" class=\"dataframe\">\n",
       "  <thead>\n",
       "    <tr style=\"text-align: right;\">\n",
       "      <th></th>\n",
       "      <th>children</th>\n",
       "      <th>days_employed</th>\n",
       "      <th>dob_years</th>\n",
       "      <th>education</th>\n",
       "      <th>education_id</th>\n",
       "      <th>family_status</th>\n",
       "      <th>family_status_id</th>\n",
       "      <th>gender</th>\n",
       "      <th>income_type</th>\n",
       "      <th>debt</th>\n",
       "      <th>total_income</th>\n",
       "      <th>purpose</th>\n",
       "      <th>total_income_category</th>\n",
       "      <th>purpose_category</th>\n",
       "    </tr>\n",
       "  </thead>\n",
       "  <tbody>\n",
       "    <tr>\n",
       "      <th>0</th>\n",
       "      <td>1</td>\n",
       "      <td>8437.673028</td>\n",
       "      <td>42</td>\n",
       "      <td>высшее</td>\n",
       "      <td>0</td>\n",
       "      <td>женат / замужем</td>\n",
       "      <td>0</td>\n",
       "      <td>F</td>\n",
       "      <td>сотрудник</td>\n",
       "      <td>0</td>\n",
       "      <td>253875.639453</td>\n",
       "      <td>покупка жилья</td>\n",
       "      <td>B</td>\n",
       "      <td>операции с недвижимостью</td>\n",
       "    </tr>\n",
       "    <tr>\n",
       "      <th>1</th>\n",
       "      <td>1</td>\n",
       "      <td>4024.803754</td>\n",
       "      <td>36</td>\n",
       "      <td>среднее</td>\n",
       "      <td>1</td>\n",
       "      <td>женат / замужем</td>\n",
       "      <td>0</td>\n",
       "      <td>F</td>\n",
       "      <td>сотрудник</td>\n",
       "      <td>0</td>\n",
       "      <td>112080.014102</td>\n",
       "      <td>приобретение автомобиля</td>\n",
       "      <td>C</td>\n",
       "      <td>операции с автомобилем</td>\n",
       "    </tr>\n",
       "    <tr>\n",
       "      <th>2</th>\n",
       "      <td>0</td>\n",
       "      <td>5623.422610</td>\n",
       "      <td>33</td>\n",
       "      <td>среднее</td>\n",
       "      <td>1</td>\n",
       "      <td>женат / замужем</td>\n",
       "      <td>0</td>\n",
       "      <td>M</td>\n",
       "      <td>сотрудник</td>\n",
       "      <td>0</td>\n",
       "      <td>145885.952297</td>\n",
       "      <td>покупка жилья</td>\n",
       "      <td>C</td>\n",
       "      <td>операции с недвижимостью</td>\n",
       "    </tr>\n",
       "    <tr>\n",
       "      <th>3</th>\n",
       "      <td>3</td>\n",
       "      <td>4124.747207</td>\n",
       "      <td>32</td>\n",
       "      <td>среднее</td>\n",
       "      <td>1</td>\n",
       "      <td>женат / замужем</td>\n",
       "      <td>0</td>\n",
       "      <td>M</td>\n",
       "      <td>сотрудник</td>\n",
       "      <td>0</td>\n",
       "      <td>267628.550329</td>\n",
       "      <td>дополнительное образование</td>\n",
       "      <td>B</td>\n",
       "      <td>получение образования</td>\n",
       "    </tr>\n",
       "    <tr>\n",
       "      <th>4</th>\n",
       "      <td>0</td>\n",
       "      <td>-1.000000</td>\n",
       "      <td>53</td>\n",
       "      <td>среднее</td>\n",
       "      <td>1</td>\n",
       "      <td>гражданский брак</td>\n",
       "      <td>1</td>\n",
       "      <td>F</td>\n",
       "      <td>пенсионер</td>\n",
       "      <td>0</td>\n",
       "      <td>158616.077870</td>\n",
       "      <td>сыграть свадьбу</td>\n",
       "      <td>C</td>\n",
       "      <td>проведение свадьбы</td>\n",
       "    </tr>\n",
       "  </tbody>\n",
       "</table>\n",
       "</div>"
      ],
      "text/plain": [
       "   children  days_employed  dob_years education  education_id  \\\n",
       "0         1    8437.673028         42    высшее             0   \n",
       "1         1    4024.803754         36   среднее             1   \n",
       "2         0    5623.422610         33   среднее             1   \n",
       "3         3    4124.747207         32   среднее             1   \n",
       "4         0      -1.000000         53   среднее             1   \n",
       "\n",
       "      family_status  family_status_id gender income_type  debt   total_income  \\\n",
       "0   женат / замужем                 0      F   сотрудник     0  253875.639453   \n",
       "1   женат / замужем                 0      F   сотрудник     0  112080.014102   \n",
       "2   женат / замужем                 0      M   сотрудник     0  145885.952297   \n",
       "3   женат / замужем                 0      M   сотрудник     0  267628.550329   \n",
       "4  гражданский брак                 1      F   пенсионер     0  158616.077870   \n",
       "\n",
       "                      purpose total_income_category          purpose_category  \n",
       "0               покупка жилья                     B  операции с недвижимостью  \n",
       "1     приобретение автомобиля                     C    операции с автомобилем  \n",
       "2               покупка жилья                     C  операции с недвижимостью  \n",
       "3  дополнительное образование                     B     получение образования  \n",
       "4             сыграть свадьбу                     C        проведение свадьбы  "
      ]
     },
     "execution_count": 274,
     "metadata": {},
     "output_type": "execute_result"
    }
   ],
   "source": [
    "df.head()"
   ]
  },
  {
   "cell_type": "markdown",
   "id": "ef4dd970-e9ef-40e0-8c82-84ac8c3fc27b",
   "metadata": {},
   "source": [
    "Посчитаю ради интереса средний заработок по категориям:"
   ]
  },
  {
   "cell_type": "code",
   "execution_count": 275,
   "id": "e3898022-54bf-4b49-b3cf-300a7a05c3d8",
   "metadata": {},
   "outputs": [
    {
     "data": {
      "text/html": [
       "<div>\n",
       "<style scoped>\n",
       "    .dataframe tbody tr th:only-of-type {\n",
       "        vertical-align: middle;\n",
       "    }\n",
       "\n",
       "    .dataframe tbody tr th {\n",
       "        vertical-align: top;\n",
       "    }\n",
       "\n",
       "    .dataframe thead th {\n",
       "        text-align: right;\n",
       "    }\n",
       "</style>\n",
       "<table border=\"1\" class=\"dataframe\">\n",
       "  <thead>\n",
       "    <tr style=\"text-align: right;\">\n",
       "      <th>total_income_category</th>\n",
       "      <th>A</th>\n",
       "      <th>B</th>\n",
       "      <th>C</th>\n",
       "      <th>D</th>\n",
       "      <th>E</th>\n",
       "    </tr>\n",
       "  </thead>\n",
       "  <tbody>\n",
       "    <tr>\n",
       "      <th>total_income</th>\n",
       "      <td>1.339118e+06</td>\n",
       "      <td>287086.516655</td>\n",
       "      <td>128350.530663</td>\n",
       "      <td>42974.252491</td>\n",
       "      <td>25818.571078</td>\n",
       "    </tr>\n",
       "  </tbody>\n",
       "</table>\n",
       "</div>"
      ],
      "text/plain": [
       "total_income_category             A              B              C  \\\n",
       "total_income           1.339118e+06  287086.516655  128350.530663   \n",
       "\n",
       "total_income_category             D             E  \n",
       "total_income           42974.252491  25818.571078  "
      ]
     },
     "execution_count": 275,
     "metadata": {},
     "output_type": "execute_result"
    }
   ],
   "source": [
    "pd.pivot_table(df,\n",
    "              values='total_income',\n",
    "               columns='total_income_category',\n",
    "              aggfunc='mean')"
   ]
  },
  {
   "cell_type": "markdown",
   "id": "d5121f96-d6e1-45a3-8b96-c32a16c205c0",
   "metadata": {},
   "source": [
    "Воспользуемся введенными раньше категориями дохода и составим таблицу:"
   ]
  },
  {
   "cell_type": "code",
   "execution_count": 276,
   "id": "50c85b5f-f34b-4679-bca9-b0a5fb327e0c",
   "metadata": {
    "scrolled": true
   },
   "outputs": [],
   "source": [
    "df_inc_cat_people = df.groupby(by=['total_income_category']).size().reset_index().set_index('total_income_category')\n",
    "df_inc_cat_people.columns = ['people']"
   ]
  },
  {
   "cell_type": "code",
   "execution_count": 277,
   "id": "772c6e0f-197b-48ca-9f13-bae94c3f8ba0",
   "metadata": {},
   "outputs": [],
   "source": [
    "df_inc_cat_debt = pd.pivot_table(df,\n",
    "                                index='total_income_category',\n",
    "                                values='debt',\n",
    "                                aggfunc='sum')"
   ]
  },
  {
   "cell_type": "code",
   "execution_count": 278,
   "id": "9d7d09b4-1c24-4e51-be30-38c7f264f95e",
   "metadata": {},
   "outputs": [],
   "source": [
    "df_inc_cat = pd.concat([\n",
    "    df_inc_cat_people,\n",
    "    df_inc_cat_debt\n",
    "], axis=1)"
   ]
  },
  {
   "cell_type": "code",
   "execution_count": 279,
   "id": "aa4535e5-5a92-4372-b59f-dd82622f36ee",
   "metadata": {},
   "outputs": [],
   "source": [
    "df_inc_cat['debt_perc'] = df_inc_cat['debt'] / df_inc_cat['people'] *100"
   ]
  },
  {
   "cell_type": "code",
   "execution_count": 280,
   "id": "8db9be30-bd90-4737-b398-04ef3eeb90c0",
   "metadata": {
    "scrolled": true
   },
   "outputs": [
    {
     "data": {
      "text/html": [
       "<div>\n",
       "<style scoped>\n",
       "    .dataframe tbody tr th:only-of-type {\n",
       "        vertical-align: middle;\n",
       "    }\n",
       "\n",
       "    .dataframe tbody tr th {\n",
       "        vertical-align: top;\n",
       "    }\n",
       "\n",
       "    .dataframe thead th {\n",
       "        text-align: right;\n",
       "    }\n",
       "</style>\n",
       "<table border=\"1\" class=\"dataframe\">\n",
       "  <thead>\n",
       "    <tr style=\"text-align: right;\">\n",
       "      <th></th>\n",
       "      <th>people</th>\n",
       "      <th>debt</th>\n",
       "      <th>debt_perc</th>\n",
       "    </tr>\n",
       "    <tr>\n",
       "      <th>total_income_category</th>\n",
       "      <th></th>\n",
       "      <th></th>\n",
       "      <th></th>\n",
       "    </tr>\n",
       "  </thead>\n",
       "  <tbody>\n",
       "    <tr>\n",
       "      <th>A</th>\n",
       "      <td>25</td>\n",
       "      <td>2</td>\n",
       "      <td>8.00</td>\n",
       "    </tr>\n",
       "    <tr>\n",
       "      <th>B</th>\n",
       "      <td>4948</td>\n",
       "      <td>349</td>\n",
       "      <td>7.05</td>\n",
       "    </tr>\n",
       "    <tr>\n",
       "      <th>C</th>\n",
       "      <td>15622</td>\n",
       "      <td>1319</td>\n",
       "      <td>8.44</td>\n",
       "    </tr>\n",
       "    <tr>\n",
       "      <th>D</th>\n",
       "      <td>333</td>\n",
       "      <td>21</td>\n",
       "      <td>6.31</td>\n",
       "    </tr>\n",
       "    <tr>\n",
       "      <th>E</th>\n",
       "      <td>21</td>\n",
       "      <td>2</td>\n",
       "      <td>9.52</td>\n",
       "    </tr>\n",
       "  </tbody>\n",
       "</table>\n",
       "</div>"
      ],
      "text/plain": [
       "                       people  debt  debt_perc\n",
       "total_income_category                         \n",
       "A                          25     2       8.00\n",
       "B                        4948   349       7.05\n",
       "C                       15622  1319       8.44\n",
       "D                         333    21       6.31\n",
       "E                          21     2       9.52"
      ]
     },
     "execution_count": 280,
     "metadata": {},
     "output_type": "execute_result"
    }
   ],
   "source": [
    "df_inc_cat = df_inc_cat.round(2)\n",
    "df_inc_cat"
   ]
  },
  {
   "cell_type": "code",
   "execution_count": 320,
   "id": "97b3eaf4-9eaf-4aa5-8f98-d16eb06cfe9a",
   "metadata": {},
   "outputs": [
    {
     "data": {
      "text/plain": [
       "(array([0, 1, 2, 3, 4]),\n",
       " [Text(0, 0, 'A'),\n",
       "  Text(1, 0, 'B'),\n",
       "  Text(2, 0, 'C'),\n",
       "  Text(3, 0, 'D'),\n",
       "  Text(4, 0, 'E')])"
      ]
     },
     "execution_count": 320,
     "metadata": {},
     "output_type": "execute_result"
    },
    {
     "data": {
      "image/png": "[encoded data removed]",
      "text/plain": [
       "<Figure size 640x480 with 1 Axes>"
      ]
     },
     "metadata": {},
     "output_type": "display_data"
    }
   ],
   "source": [
    "df_inc_cat['debt_perc'].plot.bar(xlabel='Категория дохода', ylabel='Процент должников')\n",
    "plt.xticks(rotation=0)"
   ]
  },
  {
   "cell_type": "markdown",
   "id": "1248be0e-08a0-4eae-9f69-acd450439dcc",
   "metadata": {},
   "source": [
    "Среди людей с наименьшим доходом количество должников чуть больше, но эта разница незначительна. "
   ]
  },
  {
   "cell_type": "markdown",
   "id": "75cf16d3-c49a-4c81-ba92-9de16985521a",
   "metadata": {},
   "source": [
    "#### 5."
   ]
  },
  {
   "cell_type": "markdown",
   "id": "c380a191-1dfb-416d-91e9-42282bae1ef8",
   "metadata": {},
   "source": [
    "Рассмотрим, есть ли зависимость между уровнем образования и уровнем дохода, а также уровнем образования и возвратом кредита в срок."
   ]
  },
  {
   "cell_type": "code",
   "execution_count": 282,
   "id": "ae0afd95-769b-4c5d-bc2b-51d9638703e0",
   "metadata": {},
   "outputs": [
    {
     "data": {
      "text/html": [
       "<div>\n",
       "<style scoped>\n",
       "    .dataframe tbody tr th:only-of-type {\n",
       "        vertical-align: middle;\n",
       "    }\n",
       "\n",
       "    .dataframe tbody tr th {\n",
       "        vertical-align: top;\n",
       "    }\n",
       "\n",
       "    .dataframe thead th {\n",
       "        text-align: right;\n",
       "    }\n",
       "</style>\n",
       "<table border=\"1\" class=\"dataframe\">\n",
       "  <thead>\n",
       "    <tr style=\"text-align: right;\">\n",
       "      <th></th>\n",
       "      <th>children</th>\n",
       "      <th>days_employed</th>\n",
       "      <th>dob_years</th>\n",
       "      <th>education</th>\n",
       "      <th>education_id</th>\n",
       "      <th>family_status</th>\n",
       "      <th>family_status_id</th>\n",
       "      <th>gender</th>\n",
       "      <th>income_type</th>\n",
       "      <th>debt</th>\n",
       "      <th>total_income</th>\n",
       "      <th>purpose</th>\n",
       "      <th>total_income_category</th>\n",
       "      <th>purpose_category</th>\n",
       "    </tr>\n",
       "  </thead>\n",
       "  <tbody>\n",
       "    <tr>\n",
       "      <th>0</th>\n",
       "      <td>1</td>\n",
       "      <td>8437.673028</td>\n",
       "      <td>42</td>\n",
       "      <td>высшее</td>\n",
       "      <td>0</td>\n",
       "      <td>женат / замужем</td>\n",
       "      <td>0</td>\n",
       "      <td>F</td>\n",
       "      <td>сотрудник</td>\n",
       "      <td>0</td>\n",
       "      <td>253875.639453</td>\n",
       "      <td>покупка жилья</td>\n",
       "      <td>B</td>\n",
       "      <td>операции с недвижимостью</td>\n",
       "    </tr>\n",
       "    <tr>\n",
       "      <th>1</th>\n",
       "      <td>1</td>\n",
       "      <td>4024.803754</td>\n",
       "      <td>36</td>\n",
       "      <td>среднее</td>\n",
       "      <td>1</td>\n",
       "      <td>женат / замужем</td>\n",
       "      <td>0</td>\n",
       "      <td>F</td>\n",
       "      <td>сотрудник</td>\n",
       "      <td>0</td>\n",
       "      <td>112080.014102</td>\n",
       "      <td>приобретение автомобиля</td>\n",
       "      <td>C</td>\n",
       "      <td>операции с автомобилем</td>\n",
       "    </tr>\n",
       "    <tr>\n",
       "      <th>2</th>\n",
       "      <td>0</td>\n",
       "      <td>5623.422610</td>\n",
       "      <td>33</td>\n",
       "      <td>среднее</td>\n",
       "      <td>1</td>\n",
       "      <td>женат / замужем</td>\n",
       "      <td>0</td>\n",
       "      <td>M</td>\n",
       "      <td>сотрудник</td>\n",
       "      <td>0</td>\n",
       "      <td>145885.952297</td>\n",
       "      <td>покупка жилья</td>\n",
       "      <td>C</td>\n",
       "      <td>операции с недвижимостью</td>\n",
       "    </tr>\n",
       "    <tr>\n",
       "      <th>3</th>\n",
       "      <td>3</td>\n",
       "      <td>4124.747207</td>\n",
       "      <td>32</td>\n",
       "      <td>среднее</td>\n",
       "      <td>1</td>\n",
       "      <td>женат / замужем</td>\n",
       "      <td>0</td>\n",
       "      <td>M</td>\n",
       "      <td>сотрудник</td>\n",
       "      <td>0</td>\n",
       "      <td>267628.550329</td>\n",
       "      <td>дополнительное образование</td>\n",
       "      <td>B</td>\n",
       "      <td>получение образования</td>\n",
       "    </tr>\n",
       "    <tr>\n",
       "      <th>4</th>\n",
       "      <td>0</td>\n",
       "      <td>-1.000000</td>\n",
       "      <td>53</td>\n",
       "      <td>среднее</td>\n",
       "      <td>1</td>\n",
       "      <td>гражданский брак</td>\n",
       "      <td>1</td>\n",
       "      <td>F</td>\n",
       "      <td>пенсионер</td>\n",
       "      <td>0</td>\n",
       "      <td>158616.077870</td>\n",
       "      <td>сыграть свадьбу</td>\n",
       "      <td>C</td>\n",
       "      <td>проведение свадьбы</td>\n",
       "    </tr>\n",
       "  </tbody>\n",
       "</table>\n",
       "</div>"
      ],
      "text/plain": [
       "   children  days_employed  dob_years education  education_id  \\\n",
       "0         1    8437.673028         42    высшее             0   \n",
       "1         1    4024.803754         36   среднее             1   \n",
       "2         0    5623.422610         33   среднее             1   \n",
       "3         3    4124.747207         32   среднее             1   \n",
       "4         0      -1.000000         53   среднее             1   \n",
       "\n",
       "      family_status  family_status_id gender income_type  debt   total_income  \\\n",
       "0   женат / замужем                 0      F   сотрудник     0  253875.639453   \n",
       "1   женат / замужем                 0      F   сотрудник     0  112080.014102   \n",
       "2   женат / замужем                 0      M   сотрудник     0  145885.952297   \n",
       "3   женат / замужем                 0      M   сотрудник     0  267628.550329   \n",
       "4  гражданский брак                 1      F   пенсионер     0  158616.077870   \n",
       "\n",
       "                      purpose total_income_category          purpose_category  \n",
       "0               покупка жилья                     B  операции с недвижимостью  \n",
       "1     приобретение автомобиля                     C    операции с автомобилем  \n",
       "2               покупка жилья                     C  операции с недвижимостью  \n",
       "3  дополнительное образование                     B     получение образования  \n",
       "4             сыграть свадьбу                     C        проведение свадьбы  "
      ]
     },
     "execution_count": 282,
     "metadata": {},
     "output_type": "execute_result"
    }
   ],
   "source": [
    "df.head()"
   ]
  },
  {
   "cell_type": "markdown",
   "id": "8e83cff8-9197-4f79-b07e-66c2495525b0",
   "metadata": {},
   "source": [
    "Для начала узнаем, какой id какому образованию соответствует:"
   ]
  },
  {
   "cell_type": "code",
   "execution_count": 283,
   "id": "6d7da042-ab43-4591-bc83-5c06297bfe32",
   "metadata": {},
   "outputs": [
    {
     "name": "stdout",
     "output_type": "stream",
     "text": [
      "Уровень образования \"высшее\" соответствует id 0\n",
      "Уровень образования \"среднее\" соответствует id 1\n",
      "Уровень образования \"неоконченное высшее\" соответствует id 2\n",
      "Уровень образования \"ученая степень\" соответствует id 4\n"
     ]
    }
   ],
   "source": [
    "for i in df['education'].unique():\n",
    "    education_id_mean = int(df.loc[df['education'] == i, 'education_id'].mean())\n",
    "    print(f'Уровень образования \"{i}\" соответствует id {education_id_mean}')"
   ]
  },
  {
   "cell_type": "code",
   "execution_count": 284,
   "id": "d9b83536-27af-4495-8006-660c57429c20",
   "metadata": {},
   "outputs": [
    {
     "data": {
      "text/plain": [
       "(array([0, 1, 2, 3]),\n",
       " [Text(0, 0, 'высшее'),\n",
       "  Text(1, 0, 'неоконченное высшее'),\n",
       "  Text(2, 0, 'среднее'),\n",
       "  Text(3, 0, 'ученая степень')])"
      ]
     },
     "execution_count": 284,
     "metadata": {},
     "output_type": "execute_result"
    },
    {
     "data": {
      "image/png": "[encoded data removed]",
      "text/plain": [
       "<Figure size 640x480 with 1 Axes>"
      ]
     },
     "metadata": {},
     "output_type": "display_data"
    }
   ],
   "source": [
    "pd.pivot_table(df,\n",
    "              index='education',\n",
    "              values='total_income',\n",
    "              aggfunc='median').plot.bar(xlabel='Уровень образования', ylabel='Средний доход')\n",
    "plt.xticks(rotation=0)"
   ]
  },
  {
   "cell_type": "markdown",
   "id": "9d7acb62-5b87-4913-a574-af73dbb21170",
   "metadata": {},
   "source": [
    "Средний доход выше всего у людей с высшим образованием, ниже - у людей со средним. Однако, разница небольшая. Посчитаем, сколько в процентах людей с различными уровнями образования обладают доходом A, B, C, D и E категорий."
   ]
  },
  {
   "cell_type": "markdown",
   "id": "b48f533e-e90e-4073-b5a0-580f06ff729a",
   "metadata": {},
   "source": [
    "Построим сводную таблицу с количеством людей с определенным образованием и уровнем дохода. Для начала делаем копию датафрейма с интересующими нас столбцами."
   ]
  },
  {
   "cell_type": "code",
   "execution_count": 285,
   "id": "aea188bf-5bd5-4f66-b162-774f24993eae",
   "metadata": {},
   "outputs": [],
   "source": [
    "df_education_income = df[['education', 'total_income_category']].copy()"
   ]
  },
  {
   "cell_type": "code",
   "execution_count": 286,
   "id": "63337d58-9763-4111-aebc-0f80448ce306",
   "metadata": {
    "scrolled": true
   },
   "outputs": [],
   "source": [
    "df_education_income['freq'] = 1"
   ]
  },
  {
   "cell_type": "code",
   "execution_count": 287,
   "id": "05decca9-d5f8-433f-90dd-dc845f28bf5b",
   "metadata": {
    "scrolled": true
   },
   "outputs": [],
   "source": [
    "df_education_income = df_education_income.pivot_table(index='education', columns='total_income_category', values='freq', aggfunc='count')"
   ]
  },
  {
   "cell_type": "code",
   "execution_count": 288,
   "id": "79567ed6-d480-4e9e-9871-c23a01ca55b7",
   "metadata": {},
   "outputs": [
    {
     "data": {
      "text/html": [
       "<div>\n",
       "<style scoped>\n",
       "    .dataframe tbody tr th:only-of-type {\n",
       "        vertical-align: middle;\n",
       "    }\n",
       "\n",
       "    .dataframe tbody tr th {\n",
       "        vertical-align: top;\n",
       "    }\n",
       "\n",
       "    .dataframe thead th {\n",
       "        text-align: right;\n",
       "    }\n",
       "</style>\n",
       "<table border=\"1\" class=\"dataframe\">\n",
       "  <thead>\n",
       "    <tr style=\"text-align: right;\">\n",
       "      <th>total_income_category</th>\n",
       "      <th>A</th>\n",
       "      <th>B</th>\n",
       "      <th>C</th>\n",
       "      <th>D</th>\n",
       "      <th>E</th>\n",
       "    </tr>\n",
       "    <tr>\n",
       "      <th>education</th>\n",
       "      <th></th>\n",
       "      <th></th>\n",
       "      <th></th>\n",
       "      <th></th>\n",
       "      <th></th>\n",
       "    </tr>\n",
       "  </thead>\n",
       "  <tbody>\n",
       "    <tr>\n",
       "      <th>высшее</th>\n",
       "      <td>18.0</td>\n",
       "      <td>1840.0</td>\n",
       "      <td>3303.0</td>\n",
       "      <td>31.0</td>\n",
       "      <td>NaN</td>\n",
       "    </tr>\n",
       "    <tr>\n",
       "      <th>неоконченное высшее</th>\n",
       "      <td>NaN</td>\n",
       "      <td>216.0</td>\n",
       "      <td>520.0</td>\n",
       "      <td>3.0</td>\n",
       "      <td>NaN</td>\n",
       "    </tr>\n",
       "    <tr>\n",
       "      <th>среднее</th>\n",
       "      <td>7.0</td>\n",
       "      <td>2890.0</td>\n",
       "      <td>11795.0</td>\n",
       "      <td>299.0</td>\n",
       "      <td>21.0</td>\n",
       "    </tr>\n",
       "    <tr>\n",
       "      <th>ученая степень</th>\n",
       "      <td>NaN</td>\n",
       "      <td>2.0</td>\n",
       "      <td>4.0</td>\n",
       "      <td>NaN</td>\n",
       "      <td>NaN</td>\n",
       "    </tr>\n",
       "  </tbody>\n",
       "</table>\n",
       "</div>"
      ],
      "text/plain": [
       "total_income_category     A       B        C      D     E\n",
       "education                                                \n",
       "высшее                 18.0  1840.0   3303.0   31.0   NaN\n",
       "неоконченное высшее     NaN   216.0    520.0    3.0   NaN\n",
       "среднее                 7.0  2890.0  11795.0  299.0  21.0\n",
       "ученая степень          NaN     2.0      4.0    NaN   NaN"
      ]
     },
     "execution_count": 288,
     "metadata": {},
     "output_type": "execute_result"
    }
   ],
   "source": [
    "df_education_income"
   ]
  },
  {
   "cell_type": "markdown",
   "id": "ea46123b-2ea7-4405-9b4f-cc12ab37be87",
   "metadata": {},
   "source": [
    "Количество людей с определенным уровнем образования:"
   ]
  },
  {
   "cell_type": "code",
   "execution_count": 289,
   "id": "a3874916-1e9c-42bd-a110-fde4ae69ac68",
   "metadata": {
    "scrolled": true
   },
   "outputs": [
    {
     "data": {
      "text/plain": [
       "education\n",
       "высшее                  5192\n",
       "неоконченное высшее      739\n",
       "среднее                15012\n",
       "ученая степень             6\n",
       "dtype: int64"
      ]
     },
     "execution_count": 289,
     "metadata": {},
     "output_type": "execute_result"
    }
   ],
   "source": [
    "df.groupby(by='education').size()"
   ]
  },
  {
   "cell_type": "markdown",
   "id": "a4ab09a0-641d-41de-aa51-58a3109c49d9",
   "metadata": {},
   "source": [
    "Тогда в процентах:"
   ]
  },
  {
   "cell_type": "code",
   "execution_count": 290,
   "id": "647edf35-2329-4265-ab80-49d5b2773324",
   "metadata": {},
   "outputs": [],
   "source": [
    "for i in df_education_income.index:\n",
    "    for j in df_education_income.columns:\n",
    "        df_education_income.loc[i, j] = df_education_income.loc[i, j] / df.groupby(by='education').size()[i]\n",
    "        df_education_income.loc[i, j] *= 100\n",
    "df_education_income = df_education_income.fillna(0)\n",
    "df_education_income = df_education_income.round(2)"
   ]
  },
  {
   "cell_type": "code",
   "execution_count": 291,
   "id": "24f662b9-53cd-4946-a7db-4287e7b88710",
   "metadata": {},
   "outputs": [
    {
     "data": {
      "text/html": [
       "<div>\n",
       "<style scoped>\n",
       "    .dataframe tbody tr th:only-of-type {\n",
       "        vertical-align: middle;\n",
       "    }\n",
       "\n",
       "    .dataframe tbody tr th {\n",
       "        vertical-align: top;\n",
       "    }\n",
       "\n",
       "    .dataframe thead th {\n",
       "        text-align: right;\n",
       "    }\n",
       "</style>\n",
       "<table border=\"1\" class=\"dataframe\">\n",
       "  <thead>\n",
       "    <tr style=\"text-align: right;\">\n",
       "      <th>total_income_category</th>\n",
       "      <th>A</th>\n",
       "      <th>B</th>\n",
       "      <th>C</th>\n",
       "      <th>D</th>\n",
       "      <th>E</th>\n",
       "    </tr>\n",
       "    <tr>\n",
       "      <th>education</th>\n",
       "      <th></th>\n",
       "      <th></th>\n",
       "      <th></th>\n",
       "      <th></th>\n",
       "      <th></th>\n",
       "    </tr>\n",
       "  </thead>\n",
       "  <tbody>\n",
       "    <tr>\n",
       "      <th>высшее</th>\n",
       "      <td>0.35</td>\n",
       "      <td>35.44</td>\n",
       "      <td>63.62</td>\n",
       "      <td>0.60</td>\n",
       "      <td>0.00</td>\n",
       "    </tr>\n",
       "    <tr>\n",
       "      <th>неоконченное высшее</th>\n",
       "      <td>0.00</td>\n",
       "      <td>29.23</td>\n",
       "      <td>70.37</td>\n",
       "      <td>0.41</td>\n",
       "      <td>0.00</td>\n",
       "    </tr>\n",
       "    <tr>\n",
       "      <th>среднее</th>\n",
       "      <td>0.05</td>\n",
       "      <td>19.25</td>\n",
       "      <td>78.57</td>\n",
       "      <td>1.99</td>\n",
       "      <td>0.14</td>\n",
       "    </tr>\n",
       "    <tr>\n",
       "      <th>ученая степень</th>\n",
       "      <td>0.00</td>\n",
       "      <td>33.33</td>\n",
       "      <td>66.67</td>\n",
       "      <td>0.00</td>\n",
       "      <td>0.00</td>\n",
       "    </tr>\n",
       "  </tbody>\n",
       "</table>\n",
       "</div>"
      ],
      "text/plain": [
       "total_income_category     A      B      C     D     E\n",
       "education                                            \n",
       "высшее                 0.35  35.44  63.62  0.60  0.00\n",
       "неоконченное высшее    0.00  29.23  70.37  0.41  0.00\n",
       "среднее                0.05  19.25  78.57  1.99  0.14\n",
       "ученая степень         0.00  33.33  66.67  0.00  0.00"
      ]
     },
     "execution_count": 291,
     "metadata": {},
     "output_type": "execute_result"
    }
   ],
   "source": [
    "df_education_income"
   ]
  },
  {
   "cell_type": "markdown",
   "id": "649c0dee-ee12-488f-be9e-fc07069e9328",
   "metadata": {},
   "source": [
    "Разница небольшая. Среди людей с высшим образованием и ученой степенью процент более обеспеченных чуть больше. Люди со средним образованием и без образования в основном представляют средний класс."
   ]
  },
  {
   "cell_type": "markdown",
   "id": "659c9d3d-0a45-4d65-b2ce-f5ebf77f5bc2",
   "metadata": {},
   "source": [
    "Рассмотрим теперь возврат кредита в срок."
   ]
  },
  {
   "cell_type": "code",
   "execution_count": 292,
   "id": "c8226fbf-2898-41cd-b3f7-6845ac1d2f06",
   "metadata": {},
   "outputs": [],
   "source": [
    "df_education_debt = df[['education', 'debt']].copy()\n",
    "df_education_debt['freq'] = 1\n",
    "df_education_debt = df_education_debt.pivot_table(index='education', columns='debt', values='freq', aggfunc='count')\n"
   ]
  },
  {
   "cell_type": "code",
   "execution_count": 293,
   "id": "012d8285-8268-476d-9a18-b2475d054041",
   "metadata": {},
   "outputs": [],
   "source": [
    "for i in df_education_debt.index:\n",
    "    for j in df_education_debt.columns:\n",
    "        df_education_debt.loc[i, j] = df_education_debt.loc[i, j] / df.groupby(by='education').size()[i]\n",
    "        df_education_debt.loc[i, j] *= 100\n",
    "df_education_debt = df_education_debt.fillna(0)\n",
    "df_education_debt = df_education_debt.round(2)"
   ]
  },
  {
   "cell_type": "code",
   "execution_count": 294,
   "id": "00154676-da2e-4820-9b75-4dda5db4507c",
   "metadata": {},
   "outputs": [
    {
     "data": {
      "text/html": [
       "<div>\n",
       "<style scoped>\n",
       "    .dataframe tbody tr th:only-of-type {\n",
       "        vertical-align: middle;\n",
       "    }\n",
       "\n",
       "    .dataframe tbody tr th {\n",
       "        vertical-align: top;\n",
       "    }\n",
       "\n",
       "    .dataframe thead th {\n",
       "        text-align: right;\n",
       "    }\n",
       "</style>\n",
       "<table border=\"1\" class=\"dataframe\">\n",
       "  <thead>\n",
       "    <tr style=\"text-align: right;\">\n",
       "      <th>debt</th>\n",
       "      <th>0</th>\n",
       "      <th>1</th>\n",
       "    </tr>\n",
       "    <tr>\n",
       "      <th>education</th>\n",
       "      <th></th>\n",
       "      <th></th>\n",
       "    </tr>\n",
       "  </thead>\n",
       "  <tbody>\n",
       "    <tr>\n",
       "      <th>высшее</th>\n",
       "      <td>94.66</td>\n",
       "      <td>5.34</td>\n",
       "    </tr>\n",
       "    <tr>\n",
       "      <th>неоконченное высшее</th>\n",
       "      <td>90.80</td>\n",
       "      <td>9.20</td>\n",
       "    </tr>\n",
       "    <tr>\n",
       "      <th>среднее</th>\n",
       "      <td>91.02</td>\n",
       "      <td>8.98</td>\n",
       "    </tr>\n",
       "    <tr>\n",
       "      <th>ученая степень</th>\n",
       "      <td>100.00</td>\n",
       "      <td>0.00</td>\n",
       "    </tr>\n",
       "  </tbody>\n",
       "</table>\n",
       "</div>"
      ],
      "text/plain": [
       "debt                      0     1\n",
       "education                        \n",
       "высшее                94.66  5.34\n",
       "неоконченное высшее   90.80  9.20\n",
       "среднее               91.02  8.98\n",
       "ученая степень       100.00  0.00"
      ]
     },
     "execution_count": 294,
     "metadata": {},
     "output_type": "execute_result"
    }
   ],
   "source": [
    "df_education_debt"
   ]
  },
  {
   "cell_type": "markdown",
   "id": "b5fc46ec-70f2-4fa6-ae69-9cb80ba578f4",
   "metadata": {},
   "source": [
    "Данные в таблице показывают, что среди людей с неоконченным высшим образованием и средним процент должников больше. Такие люди с большей вероятностью окажутся в долгу."
   ]
  },
  {
   "cell_type": "code",
   "execution_count": 295,
   "id": "e0ff7008-7024-4d9b-acef-25873d87a9cf",
   "metadata": {},
   "outputs": [
    {
     "data": {
      "text/plain": [
       "(array([0, 1, 2, 3]),\n",
       " [Text(0, 0, 'высшее'),\n",
       "  Text(1, 0, 'неоконченное высшее'),\n",
       "  Text(2, 0, 'среднее'),\n",
       "  Text(3, 0, 'ученая степень')])"
      ]
     },
     "execution_count": 295,
     "metadata": {},
     "output_type": "execute_result"
    },
    {
     "data": {
      "image/png": "[encoded data removed]",
      "text/plain": [
       "<Figure size 640x480 with 1 Axes>"
      ]
     },
     "metadata": {},
     "output_type": "display_data"
    }
   ],
   "source": [
    "df_education_debt[1].plot.bar(xlabel='Уровень образования', ylabel='Количество должников (%)')\n",
    "plt.xticks(rotation=0)"
   ]
  },
  {
   "cell_type": "markdown",
   "id": "e9a81f6e-b363-4398-aa47-f0852972fb4e",
   "metadata": {},
   "source": [
    "#### 6."
   ]
  },
  {
   "cell_type": "markdown",
   "id": "b8c730a1-7724-46af-b81f-db3c39523702",
   "metadata": {},
   "source": [
    "Оценим возвратность кредитов для разных целей по категориям."
   ]
  },
  {
   "cell_type": "code",
   "execution_count": 296,
   "id": "1bf825fc-946f-4655-a01c-737dba66a6de",
   "metadata": {
    "scrolled": true
   },
   "outputs": [
    {
     "data": {
      "text/html": [
       "<div>\n",
       "<style scoped>\n",
       "    .dataframe tbody tr th:only-of-type {\n",
       "        vertical-align: middle;\n",
       "    }\n",
       "\n",
       "    .dataframe tbody tr th {\n",
       "        vertical-align: top;\n",
       "    }\n",
       "\n",
       "    .dataframe thead th {\n",
       "        text-align: right;\n",
       "    }\n",
       "</style>\n",
       "<table border=\"1\" class=\"dataframe\">\n",
       "  <thead>\n",
       "    <tr style=\"text-align: right;\">\n",
       "      <th></th>\n",
       "      <th>children</th>\n",
       "      <th>days_employed</th>\n",
       "      <th>dob_years</th>\n",
       "      <th>education</th>\n",
       "      <th>education_id</th>\n",
       "      <th>family_status</th>\n",
       "      <th>family_status_id</th>\n",
       "      <th>gender</th>\n",
       "      <th>income_type</th>\n",
       "      <th>debt</th>\n",
       "      <th>total_income</th>\n",
       "      <th>purpose</th>\n",
       "      <th>total_income_category</th>\n",
       "      <th>purpose_category</th>\n",
       "    </tr>\n",
       "  </thead>\n",
       "  <tbody>\n",
       "    <tr>\n",
       "      <th>0</th>\n",
       "      <td>1</td>\n",
       "      <td>8437.673028</td>\n",
       "      <td>42</td>\n",
       "      <td>высшее</td>\n",
       "      <td>0</td>\n",
       "      <td>женат / замужем</td>\n",
       "      <td>0</td>\n",
       "      <td>F</td>\n",
       "      <td>сотрудник</td>\n",
       "      <td>0</td>\n",
       "      <td>253875.639453</td>\n",
       "      <td>покупка жилья</td>\n",
       "      <td>B</td>\n",
       "      <td>операции с недвижимостью</td>\n",
       "    </tr>\n",
       "    <tr>\n",
       "      <th>1</th>\n",
       "      <td>1</td>\n",
       "      <td>4024.803754</td>\n",
       "      <td>36</td>\n",
       "      <td>среднее</td>\n",
       "      <td>1</td>\n",
       "      <td>женат / замужем</td>\n",
       "      <td>0</td>\n",
       "      <td>F</td>\n",
       "      <td>сотрудник</td>\n",
       "      <td>0</td>\n",
       "      <td>112080.014102</td>\n",
       "      <td>приобретение автомобиля</td>\n",
       "      <td>C</td>\n",
       "      <td>операции с автомобилем</td>\n",
       "    </tr>\n",
       "    <tr>\n",
       "      <th>2</th>\n",
       "      <td>0</td>\n",
       "      <td>5623.422610</td>\n",
       "      <td>33</td>\n",
       "      <td>среднее</td>\n",
       "      <td>1</td>\n",
       "      <td>женат / замужем</td>\n",
       "      <td>0</td>\n",
       "      <td>M</td>\n",
       "      <td>сотрудник</td>\n",
       "      <td>0</td>\n",
       "      <td>145885.952297</td>\n",
       "      <td>покупка жилья</td>\n",
       "      <td>C</td>\n",
       "      <td>операции с недвижимостью</td>\n",
       "    </tr>\n",
       "    <tr>\n",
       "      <th>3</th>\n",
       "      <td>3</td>\n",
       "      <td>4124.747207</td>\n",
       "      <td>32</td>\n",
       "      <td>среднее</td>\n",
       "      <td>1</td>\n",
       "      <td>женат / замужем</td>\n",
       "      <td>0</td>\n",
       "      <td>M</td>\n",
       "      <td>сотрудник</td>\n",
       "      <td>0</td>\n",
       "      <td>267628.550329</td>\n",
       "      <td>дополнительное образование</td>\n",
       "      <td>B</td>\n",
       "      <td>получение образования</td>\n",
       "    </tr>\n",
       "    <tr>\n",
       "      <th>4</th>\n",
       "      <td>0</td>\n",
       "      <td>-1.000000</td>\n",
       "      <td>53</td>\n",
       "      <td>среднее</td>\n",
       "      <td>1</td>\n",
       "      <td>гражданский брак</td>\n",
       "      <td>1</td>\n",
       "      <td>F</td>\n",
       "      <td>пенсионер</td>\n",
       "      <td>0</td>\n",
       "      <td>158616.077870</td>\n",
       "      <td>сыграть свадьбу</td>\n",
       "      <td>C</td>\n",
       "      <td>проведение свадьбы</td>\n",
       "    </tr>\n",
       "  </tbody>\n",
       "</table>\n",
       "</div>"
      ],
      "text/plain": [
       "   children  days_employed  dob_years education  education_id  \\\n",
       "0         1    8437.673028         42    высшее             0   \n",
       "1         1    4024.803754         36   среднее             1   \n",
       "2         0    5623.422610         33   среднее             1   \n",
       "3         3    4124.747207         32   среднее             1   \n",
       "4         0      -1.000000         53   среднее             1   \n",
       "\n",
       "      family_status  family_status_id gender income_type  debt   total_income  \\\n",
       "0   женат / замужем                 0      F   сотрудник     0  253875.639453   \n",
       "1   женат / замужем                 0      F   сотрудник     0  112080.014102   \n",
       "2   женат / замужем                 0      M   сотрудник     0  145885.952297   \n",
       "3   женат / замужем                 0      M   сотрудник     0  267628.550329   \n",
       "4  гражданский брак                 1      F   пенсионер     0  158616.077870   \n",
       "\n",
       "                      purpose total_income_category          purpose_category  \n",
       "0               покупка жилья                     B  операции с недвижимостью  \n",
       "1     приобретение автомобиля                     C    операции с автомобилем  \n",
       "2               покупка жилья                     C  операции с недвижимостью  \n",
       "3  дополнительное образование                     B     получение образования  \n",
       "4             сыграть свадьбу                     C        проведение свадьбы  "
      ]
     },
     "execution_count": 296,
     "metadata": {},
     "output_type": "execute_result"
    }
   ],
   "source": [
    "df.head()"
   ]
  },
  {
   "cell_type": "code",
   "execution_count": 297,
   "id": "138e6790-9191-435d-a85b-98dbcca39c2a",
   "metadata": {},
   "outputs": [],
   "source": [
    "df_pur_debt = df[['purpose_category','debt']].copy()\n",
    "df_pur_debt['freq'] = 1\n",
    "df_pur_debt = df_pur_debt.pivot_table(index='purpose_category', columns='debt', values='freq', aggfunc='count')"
   ]
  },
  {
   "cell_type": "code",
   "execution_count": 298,
   "id": "d3c2fe5f-87df-40f5-8370-130ce0cc4d20",
   "metadata": {
    "scrolled": true
   },
   "outputs": [
    {
     "data": {
      "text/html": [
       "<div>\n",
       "<style scoped>\n",
       "    .dataframe tbody tr th:only-of-type {\n",
       "        vertical-align: middle;\n",
       "    }\n",
       "\n",
       "    .dataframe tbody tr th {\n",
       "        vertical-align: top;\n",
       "    }\n",
       "\n",
       "    .dataframe thead th {\n",
       "        text-align: right;\n",
       "    }\n",
       "</style>\n",
       "<table border=\"1\" class=\"dataframe\">\n",
       "  <thead>\n",
       "    <tr style=\"text-align: right;\">\n",
       "      <th>debt</th>\n",
       "      <th>0</th>\n",
       "      <th>1</th>\n",
       "    </tr>\n",
       "    <tr>\n",
       "      <th>purpose_category</th>\n",
       "      <th></th>\n",
       "      <th></th>\n",
       "    </tr>\n",
       "  </thead>\n",
       "  <tbody>\n",
       "    <tr>\n",
       "      <th>операции с автомобилем</th>\n",
       "      <td>3812</td>\n",
       "      <td>391</td>\n",
       "    </tr>\n",
       "    <tr>\n",
       "      <th>операции с недвижимостью</th>\n",
       "      <td>9799</td>\n",
       "      <td>761</td>\n",
       "    </tr>\n",
       "    <tr>\n",
       "      <th>получение образования</th>\n",
       "      <td>3551</td>\n",
       "      <td>364</td>\n",
       "    </tr>\n",
       "    <tr>\n",
       "      <th>проведение свадьбы</th>\n",
       "      <td>2094</td>\n",
       "      <td>177</td>\n",
       "    </tr>\n",
       "  </tbody>\n",
       "</table>\n",
       "</div>"
      ],
      "text/plain": [
       "debt                         0    1\n",
       "purpose_category                   \n",
       "операции с автомобилем    3812  391\n",
       "операции с недвижимостью  9799  761\n",
       "получение образования     3551  364\n",
       "проведение свадьбы        2094  177"
      ]
     },
     "execution_count": 298,
     "metadata": {},
     "output_type": "execute_result"
    }
   ],
   "source": [
    "df_pur_debt"
   ]
  },
  {
   "cell_type": "code",
   "execution_count": 299,
   "id": "47084046-9b9d-4824-9e55-bed8578bb178",
   "metadata": {},
   "outputs": [],
   "source": [
    "frame = {'purpose_category': df_pur_debt.index,\n",
    "        'debt':df_pur_debt[1]}"
   ]
  },
  {
   "cell_type": "code",
   "execution_count": 300,
   "id": "193e7d62-97d5-4f0c-81fd-d3b158eff923",
   "metadata": {},
   "outputs": [],
   "source": [
    "df_pur_debt = pd.DataFrame(frame)\n",
    "df_pur_debt = df_pur_debt.drop('purpose_category', axis=1)"
   ]
  },
  {
   "cell_type": "code",
   "execution_count": 301,
   "id": "32475a8a-cb45-4d26-b830-a2db0526d30d",
   "metadata": {},
   "outputs": [],
   "source": [
    "df_pur_debt = df_pur_debt.astype(float)"
   ]
  },
  {
   "cell_type": "code",
   "execution_count": 302,
   "id": "85032d61-5759-444d-8043-ee8e645aa70b",
   "metadata": {},
   "outputs": [
    {
     "data": {
      "text/html": [
       "<div>\n",
       "<style scoped>\n",
       "    .dataframe tbody tr th:only-of-type {\n",
       "        vertical-align: middle;\n",
       "    }\n",
       "\n",
       "    .dataframe tbody tr th {\n",
       "        vertical-align: top;\n",
       "    }\n",
       "\n",
       "    .dataframe thead th {\n",
       "        text-align: right;\n",
       "    }\n",
       "</style>\n",
       "<table border=\"1\" class=\"dataframe\">\n",
       "  <thead>\n",
       "    <tr style=\"text-align: right;\">\n",
       "      <th></th>\n",
       "      <th>debt</th>\n",
       "    </tr>\n",
       "    <tr>\n",
       "      <th>purpose_category</th>\n",
       "      <th></th>\n",
       "    </tr>\n",
       "  </thead>\n",
       "  <tbody>\n",
       "    <tr>\n",
       "      <th>операции с автомобилем</th>\n",
       "      <td>9.30</td>\n",
       "    </tr>\n",
       "    <tr>\n",
       "      <th>операции с недвижимостью</th>\n",
       "      <td>7.21</td>\n",
       "    </tr>\n",
       "    <tr>\n",
       "      <th>получение образования</th>\n",
       "      <td>9.30</td>\n",
       "    </tr>\n",
       "    <tr>\n",
       "      <th>проведение свадьбы</th>\n",
       "      <td>7.79</td>\n",
       "    </tr>\n",
       "  </tbody>\n",
       "</table>\n",
       "</div>"
      ],
      "text/plain": [
       "                          debt\n",
       "purpose_category              \n",
       "операции с автомобилем    9.30\n",
       "операции с недвижимостью  7.21\n",
       "получение образования     9.30\n",
       "проведение свадьбы        7.79"
      ]
     },
     "execution_count": 302,
     "metadata": {},
     "output_type": "execute_result"
    }
   ],
   "source": [
    "for i in df_pur_debt.index:\n",
    "    df_pur_debt.loc[i, 'debt'] = df_pur_debt.loc[i, 'debt'] * 100 / len(df.loc[df['purpose_category'] == i])\n",
    "df_pur_debt = df_pur_debt.round(2)\n",
    "df_pur_debt"
   ]
  },
  {
   "cell_type": "code",
   "execution_count": 303,
   "id": "af320ee7-d959-49bf-8f6a-c271e634f4b0",
   "metadata": {},
   "outputs": [
    {
     "data": {
      "text/plain": [
       "(array([0, 1, 2, 3]),\n",
       " [Text(0, 0, 'операции с автомобилем'),\n",
       "  Text(1, 0, 'операции с недвижимостью'),\n",
       "  Text(2, 0, 'получение образования'),\n",
       "  Text(3, 0, 'проведение свадьбы')])"
      ]
     },
     "execution_count": 303,
     "metadata": {},
     "output_type": "execute_result"
    },
    {
     "data": {
      "image/png": "[encoded data removed]",
      "text/plain": [
       "<Figure size 640x480 with 1 Axes>"
      ]
     },
     "metadata": {},
     "output_type": "display_data"
    }
   ],
   "source": [
    "df_pur_debt.plot.bar(xlabel='Категория кредита', ylabel='Процент должников (%)')\n",
    "plt.xticks(rotation=20)"
   ]
  },
  {
   "cell_type": "markdown",
   "id": "09a265d4-87a2-410b-bf7f-e7aadc2ef50d",
   "metadata": {},
   "source": [
    "Наибольший процент должников среди людей, берущих кредит на автомобиль и получение образования."
   ]
  },
  {
   "cell_type": "markdown",
   "id": "fbf95f2b-89e1-40f0-b744-d2e859f914ac",
   "metadata": {},
   "source": [
    "#### Extra "
   ]
  },
  {
   "cell_type": "markdown",
   "id": "abcbe7a4-8de4-43cf-b58e-410569af7a39",
   "metadata": {},
   "source": [
    "Проверим, есть ли зависимость между возрастом клиентов и возвратом долга:"
   ]
  },
  {
   "cell_type": "code",
   "execution_count": 304,
   "id": "6dbabd01-d4ba-4ca3-8d5d-e79104831c2b",
   "metadata": {},
   "outputs": [
    {
     "data": {
      "text/plain": [
       "count    20949.000000\n",
       "mean        43.425128\n",
       "std         12.221696\n",
       "min         19.000000\n",
       "25%         33.000000\n",
       "50%         43.000000\n",
       "75%         53.000000\n",
       "max         75.000000\n",
       "Name: dob_years, dtype: float64"
      ]
     },
     "execution_count": 304,
     "metadata": {},
     "output_type": "execute_result"
    }
   ],
   "source": [
    "df['dob_years'].describe()"
   ]
  },
  {
   "cell_type": "markdown",
   "id": "542c5bf5-f436-4da8-8d1d-e595d6497ef8",
   "metadata": {},
   "source": [
    "Введем категории возрастов:\n",
    "* \"A\" (<31);\n",
    "* \"B\" (30< и <46);\n",
    "* \"C\" (45< и <61);\n",
    "* \"D\" (>60);"
   ]
  },
  {
   "cell_type": "code",
   "execution_count": 305,
   "id": "63f0a25b-0dcb-4089-bc10-43f834326d94",
   "metadata": {},
   "outputs": [],
   "source": [
    "df['dob_years_category'] = 'A'"
   ]
  },
  {
   "cell_type": "code",
   "execution_count": 306,
   "id": "b7a994b2-2a38-41e8-9249-dd524d0194ad",
   "metadata": {},
   "outputs": [],
   "source": [
    "for i in range(df.shape[0]):\n",
    "    if (df.loc[i, 'dob_years'] > 30) & (df.loc[i, 'dob_years'] < 46):\n",
    "        df.loc[i, 'dob_years_category'] = 'B'\n",
    "    elif (df.loc[i, 'dob_years'] > 45) & (df.loc[i, 'dob_years'] < 61):\n",
    "        df.loc[i, 'dob_years_category'] = 'C'\n",
    "    elif df.loc[i, 'dob_years'] > 60:\n",
    "        df.loc[i, 'dob_years_category'] = 'D'"
   ]
  },
  {
   "cell_type": "code",
   "execution_count": 307,
   "id": "f05dcf55-a0c4-4d63-9497-9926c7f2b3d9",
   "metadata": {},
   "outputs": [
    {
     "data": {
      "text/html": [
       "<div>\n",
       "<style scoped>\n",
       "    .dataframe tbody tr th:only-of-type {\n",
       "        vertical-align: middle;\n",
       "    }\n",
       "\n",
       "    .dataframe tbody tr th {\n",
       "        vertical-align: top;\n",
       "    }\n",
       "\n",
       "    .dataframe thead th {\n",
       "        text-align: right;\n",
       "    }\n",
       "</style>\n",
       "<table border=\"1\" class=\"dataframe\">\n",
       "  <thead>\n",
       "    <tr style=\"text-align: right;\">\n",
       "      <th></th>\n",
       "      <th>children</th>\n",
       "      <th>days_employed</th>\n",
       "      <th>dob_years</th>\n",
       "      <th>education</th>\n",
       "      <th>education_id</th>\n",
       "      <th>family_status</th>\n",
       "      <th>family_status_id</th>\n",
       "      <th>gender</th>\n",
       "      <th>income_type</th>\n",
       "      <th>debt</th>\n",
       "      <th>total_income</th>\n",
       "      <th>purpose</th>\n",
       "      <th>total_income_category</th>\n",
       "      <th>purpose_category</th>\n",
       "      <th>dob_years_category</th>\n",
       "    </tr>\n",
       "  </thead>\n",
       "  <tbody>\n",
       "    <tr>\n",
       "      <th>2324</th>\n",
       "      <td>0</td>\n",
       "      <td>927.609926</td>\n",
       "      <td>50</td>\n",
       "      <td>среднее</td>\n",
       "      <td>1</td>\n",
       "      <td>вдовец / вдова</td>\n",
       "      <td>2</td>\n",
       "      <td>F</td>\n",
       "      <td>сотрудник</td>\n",
       "      <td>0</td>\n",
       "      <td>79227.004997</td>\n",
       "      <td>операции с коммерческой недвижимостью</td>\n",
       "      <td>C</td>\n",
       "      <td>операции с недвижимостью</td>\n",
       "      <td>C</td>\n",
       "    </tr>\n",
       "    <tr>\n",
       "      <th>9743</th>\n",
       "      <td>2</td>\n",
       "      <td>3961.983767</td>\n",
       "      <td>28</td>\n",
       "      <td>высшее</td>\n",
       "      <td>0</td>\n",
       "      <td>гражданский брак</td>\n",
       "      <td>1</td>\n",
       "      <td>F</td>\n",
       "      <td>компаньон</td>\n",
       "      <td>0</td>\n",
       "      <td>293616.668594</td>\n",
       "      <td>заняться образованием</td>\n",
       "      <td>B</td>\n",
       "      <td>получение образования</td>\n",
       "      <td>A</td>\n",
       "    </tr>\n",
       "    <tr>\n",
       "      <th>1304</th>\n",
       "      <td>0</td>\n",
       "      <td>-1.000000</td>\n",
       "      <td>59</td>\n",
       "      <td>среднее</td>\n",
       "      <td>1</td>\n",
       "      <td>вдовец / вдова</td>\n",
       "      <td>2</td>\n",
       "      <td>F</td>\n",
       "      <td>пенсионер</td>\n",
       "      <td>0</td>\n",
       "      <td>118514.486412</td>\n",
       "      <td>на покупку автомобиля</td>\n",
       "      <td>C</td>\n",
       "      <td>операции с автомобилем</td>\n",
       "      <td>C</td>\n",
       "    </tr>\n",
       "    <tr>\n",
       "      <th>9251</th>\n",
       "      <td>3</td>\n",
       "      <td>5931.626784</td>\n",
       "      <td>34</td>\n",
       "      <td>среднее</td>\n",
       "      <td>1</td>\n",
       "      <td>женат / замужем</td>\n",
       "      <td>0</td>\n",
       "      <td>F</td>\n",
       "      <td>сотрудник</td>\n",
       "      <td>0</td>\n",
       "      <td>175210.494517</td>\n",
       "      <td>дополнительное образование</td>\n",
       "      <td>C</td>\n",
       "      <td>получение образования</td>\n",
       "      <td>B</td>\n",
       "    </tr>\n",
       "    <tr>\n",
       "      <th>4782</th>\n",
       "      <td>0</td>\n",
       "      <td>1940.165853</td>\n",
       "      <td>62</td>\n",
       "      <td>среднее</td>\n",
       "      <td>1</td>\n",
       "      <td>гражданский брак</td>\n",
       "      <td>1</td>\n",
       "      <td>F</td>\n",
       "      <td>сотрудник</td>\n",
       "      <td>0</td>\n",
       "      <td>166343.028736</td>\n",
       "      <td>покупка недвижимости</td>\n",
       "      <td>C</td>\n",
       "      <td>операции с недвижимостью</td>\n",
       "      <td>D</td>\n",
       "    </tr>\n",
       "  </tbody>\n",
       "</table>\n",
       "</div>"
      ],
      "text/plain": [
       "      children  days_employed  dob_years education  education_id  \\\n",
       "2324         0     927.609926         50   среднее             1   \n",
       "9743         2    3961.983767         28    высшее             0   \n",
       "1304         0      -1.000000         59   среднее             1   \n",
       "9251         3    5931.626784         34   среднее             1   \n",
       "4782         0    1940.165853         62   среднее             1   \n",
       "\n",
       "         family_status  family_status_id gender income_type  debt  \\\n",
       "2324    вдовец / вдова                 2      F   сотрудник     0   \n",
       "9743  гражданский брак                 1      F   компаньон     0   \n",
       "1304    вдовец / вдова                 2      F   пенсионер     0   \n",
       "9251   женат / замужем                 0      F   сотрудник     0   \n",
       "4782  гражданский брак                 1      F   сотрудник     0   \n",
       "\n",
       "       total_income                                purpose  \\\n",
       "2324   79227.004997  операции с коммерческой недвижимостью   \n",
       "9743  293616.668594                  заняться образованием   \n",
       "1304  118514.486412                  на покупку автомобиля   \n",
       "9251  175210.494517             дополнительное образование   \n",
       "4782  166343.028736                   покупка недвижимости   \n",
       "\n",
       "     total_income_category          purpose_category dob_years_category  \n",
       "2324                     C  операции с недвижимостью                  C  \n",
       "9743                     B     получение образования                  A  \n",
       "1304                     C    операции с автомобилем                  C  \n",
       "9251                     C     получение образования                  B  \n",
       "4782                     C  операции с недвижимостью                  D  "
      ]
     },
     "execution_count": 307,
     "metadata": {},
     "output_type": "execute_result"
    }
   ],
   "source": [
    "df.sample(5)"
   ]
  },
  {
   "cell_type": "code",
   "execution_count": 308,
   "id": "4599c7e6-b711-40ff-af22-802246eb957a",
   "metadata": {},
   "outputs": [],
   "source": [
    "df_dob_years = df[['dob_years_category', 'debt']].copy()"
   ]
  },
  {
   "cell_type": "code",
   "execution_count": 309,
   "id": "5be569f3-dc4f-44e7-81e9-8295bdc021f4",
   "metadata": {},
   "outputs": [],
   "source": [
    "df_dob_years['freq'] = 1\n",
    "df_dob_years = df_dob_years.pivot_table(index='dob_years_category', columns='debt', values='freq', aggfunc='count')"
   ]
  },
  {
   "cell_type": "code",
   "execution_count": 310,
   "id": "3db7f9f0-87ff-441c-a9d3-c677424dfc47",
   "metadata": {
    "scrolled": true
   },
   "outputs": [],
   "source": [
    "df_dob_years[['debt_perc']] = 1.0"
   ]
  },
  {
   "cell_type": "code",
   "execution_count": 311,
   "id": "83f05b79-a87e-4d13-a9f5-69536cc79a6f",
   "metadata": {},
   "outputs": [],
   "source": [
    "for i in df_dob_years.index:\n",
    "    df_dob_years.loc[i, 'debt_perc'] = 100 * df_dob_years.loc[i, 1] / (df_dob_years.loc[i, 0] + df_dob_years.loc[i, 1])\n",
    "df_dob_years[['debt_perc']] = df_dob_years[['debt_perc']].round(2)"
   ]
  },
  {
   "cell_type": "code",
   "execution_count": 312,
   "id": "78195a2c-3860-4cf5-b3da-e33069b0e712",
   "metadata": {},
   "outputs": [
    {
     "data": {
      "text/html": [
       "<div>\n",
       "<style scoped>\n",
       "    .dataframe tbody tr th:only-of-type {\n",
       "        vertical-align: middle;\n",
       "    }\n",
       "\n",
       "    .dataframe tbody tr th {\n",
       "        vertical-align: top;\n",
       "    }\n",
       "\n",
       "    .dataframe thead th {\n",
       "        text-align: right;\n",
       "    }\n",
       "</style>\n",
       "<table border=\"1\" class=\"dataframe\">\n",
       "  <thead>\n",
       "    <tr style=\"text-align: right;\">\n",
       "      <th>debt</th>\n",
       "      <th>0</th>\n",
       "      <th>1</th>\n",
       "      <th>debt_perc</th>\n",
       "    </tr>\n",
       "    <tr>\n",
       "      <th>dob_years_category</th>\n",
       "      <th></th>\n",
       "      <th></th>\n",
       "      <th></th>\n",
       "    </tr>\n",
       "  </thead>\n",
       "  <tbody>\n",
       "    <tr>\n",
       "      <th>A</th>\n",
       "      <td>3271</td>\n",
       "      <td>398</td>\n",
       "      <td>10.85</td>\n",
       "    </tr>\n",
       "    <tr>\n",
       "      <th>B</th>\n",
       "      <td>7587</td>\n",
       "      <td>736</td>\n",
       "      <td>8.84</td>\n",
       "    </tr>\n",
       "    <tr>\n",
       "      <th>C</th>\n",
       "      <td>6442</td>\n",
       "      <td>461</td>\n",
       "      <td>6.68</td>\n",
       "    </tr>\n",
       "    <tr>\n",
       "      <th>D</th>\n",
       "      <td>1956</td>\n",
       "      <td>98</td>\n",
       "      <td>4.77</td>\n",
       "    </tr>\n",
       "  </tbody>\n",
       "</table>\n",
       "</div>"
      ],
      "text/plain": [
       "debt                   0    1  debt_perc\n",
       "dob_years_category                      \n",
       "A                   3271  398      10.85\n",
       "B                   7587  736       8.84\n",
       "C                   6442  461       6.68\n",
       "D                   1956   98       4.77"
      ]
     },
     "execution_count": 312,
     "metadata": {},
     "output_type": "execute_result"
    }
   ],
   "source": [
    "df_dob_years"
   ]
  },
  {
   "cell_type": "code",
   "execution_count": 313,
   "id": "3dde78e7-c543-4b63-9661-4a9488c814c1",
   "metadata": {},
   "outputs": [
    {
     "data": {
      "text/plain": [
       "(array([0, 1, 2, 3]),\n",
       " [Text(0, 0, 'A'), Text(1, 0, 'B'), Text(2, 0, 'C'), Text(3, 0, 'D')])"
      ]
     },
     "execution_count": 313,
     "metadata": {},
     "output_type": "execute_result"
    },
    {
     "data": {
      "image/png": "[encoded data removed]",
      "text/plain": [
       "<Figure size 640x480 with 1 Axes>"
      ]
     },
     "metadata": {},
     "output_type": "display_data"
    }
   ],
   "source": [
    "df_dob_years['debt_perc'].plot.bar(xlabel='Возрастная категория', ylabel='Процент людей, имевших задолженности (%)')\n",
    "plt.xticks(rotation=0)"
   ]
  },
  {
   "cell_type": "markdown",
   "id": "c6adb2b6-67ac-4b23-83c4-9e58f6384f67",
   "metadata": {},
   "source": [
    "Очевидно, что чем старше клиент, тем с большей вероятностью он вернет кредит. Это связано со стабильностью в работе и жизни в целом, молодые люди часто учатся, не имеют постоянного заработка и т. д."
   ]
  },
  {
   "cell_type": "markdown",
   "id": "e98af0a8-9895-41a2-9a78-0d25151070b0",
   "metadata": {},
   "source": [
    "#### 7. "
   ]
  },
  {
   "cell_type": "markdown",
   "id": "a17a5383-83dd-400f-9501-944b3dcf0797",
   "metadata": {},
   "source": [
    "Вывод по составу таблицы и данным:"
   ]
  },
  {
   "cell_type": "markdown",
   "id": "8d8ff1ca-aaba-4451-a8c3-f0e686f42654",
   "metadata": {},
   "source": [
    "В ходе проделанной работы были выявлены различные аномалии, а также пропуски в таблице. Среди них:\n",
    "* в столбце с общим доходом клиентов присутствовали пустые строки. Они были заполнены медианными значениями по каждой из категорий столбца income_type;\n",
    "* в столбце количество детей были замечены аномально большие и отрицательные значения. Эти данные были удалены, так как они составляли меньше 1% от общего количества;\n",
    "* информация о стаже клиентов для пенсионеров и безработных полностью состоит из аномальных значений. Сначала отрицательные значения были заменены положительными, однако позднее было замечено, что данные неадекватные - 1000 лет стажа. Так как количесвто строк большое, значения были заменены на -1, соответствующую ошибке;\n",
    "* в столбце с возрастом клиентов присутствовали значения 0, что невозможно. Эти данные были удалены, так как составляли менее 1% от общего объема;\n",
    "* в столбце со стажем присутствовали пропуски, которые были заполнены медианными значениями по категориям столбца income_type;\n",
    "* в столбце с уровнем образования данные были записаны с разным форматированием (регистром букв), они были приведены к общему виду. Также там присутствовало значение \"начальный\", этот уровень образования соответствует школьникам, а они не могут быть клиентами банка. Данные удалены;\n",
    "* после всех преобразований в таблице все еще имелись строки дубликаты (явные), они были удалены;\n",
    "* для удобства были введены категории для общего дохода и цели кредита."
   ]
  },
  {
   "cell_type": "markdown",
   "id": "3f62c2df-e1ab-4f64-8488-6d2a91fbde19",
   "metadata": {},
   "source": [
    "Следующие <b>рекомендации</b> предложены для избежания аномалий в будущем: \n",
    "* поля общий доход и стаж сделать обязательными для заполнения;\n",
    "* отрицательные и большие (20) значения количества детей могут быть связаны с опечатками во время ввода (поставили знак \"минус\", случайно нажали на ноль). Стоит реализовать проверку на отрицательные числа, а также аномально большие (например, больше 10, задавать уточняющий вопрос);\n",
    "* Аномальные значения для стажа безработных и пенсионеров могут быть обусловлены ошибкой в обработке данных. Стоит проверить часть кода, обрабатывающую именно эти категории клиентов;\n",
    "* Нулевые значения в возрасте, как и в случае с количеством детей, могут быть связаны с опечатками пользователей, следует реализовать проверку на ввод корректных значений (>18);\n",
    "* запись уровня образования можно реализовать через выбор доступных вариантов, тогда не будет проблемы с разным форматированием записей, и не будет аномальных значений типа \"начальное\";\n",
    "* следует делать проверку новых данных на наличие подобных в базе (на дубликаты), для корректности такой проверки необходимо задать каждому клиенту уникальный номер (ID), чтобы исключить ошибки в случае полного совпадения данных двух разных людей."
   ]
  },
  {
   "cell_type": "markdown",
   "id": "c6af9633-130f-4fe0-966f-db1ad97ab3a4",
   "metadata": {},
   "source": [
    "### <b>Выводы и рекомендации по выдаче кредитов:</b>"
   ]
  },
  {
   "cell_type": "markdown",
   "id": "15d03bd9-b9d9-49ea-9668-a20932b7efb3",
   "metadata": {},
   "source": [
    "В ходе ииследования были рассмотрены следующие зависимости:\n",
    "* количество детей и уровень дохода;\n",
    "* количество детей и возврат кредита в срок;\n",
    "* семейное положение и возврат кредита в срок;\n",
    "* уровень дохода и возврат кредита в срок;\n",
    "* уровень образования и уровень дохода;\n",
    "* уровень образования и возврат кредита в срок;\n",
    "* возвратность кредитов, взятых для разных целей по категориям;\n",
    "* возраст клиентов и возврат кредита в срок."
   ]
  },
  {
   "cell_type": "markdown",
   "id": "e414f49d-6706-4517-b1be-d55365099aab",
   "metadata": {},
   "source": [
    "<i>Количество детей:</i>\n",
    "<br/>Количество детей в семье практически не влияет на средний заработок семьи. Однако, чем меньше детей в семье, тем выше максимальный возможный заработок. Количество детей также не влияет на факт задолженности. Из этого следует, что вводить ограничения на выдачу кредита по количеству детей нет смысла, но большие суммы стоит доверять именно семьям, где не более 2 детей."
   ]
  },
  {
   "cell_type": "markdown",
   "id": "e6626453-82ff-4cd3-ad1a-e4e8da725095",
   "metadata": {},
   "source": [
    "<i>Семейное положение:</i>\n",
    "<br/>Стоит уделять внимание на людей, никогда не состоявших в браке, либо находящихся в статусе гражданского брака. Среди них процент задолженности долга <u>немного</u> выше. Возможно привлечение клиентов, находящихся в браке, для выдачи б<b>о</b>льшего количества кредитов путем маркетинговых компаний, призыва взять кредит на семью."
   ]
  },
  {
   "cell_type": "markdown",
   "id": "56251ef0-3491-4331-87a2-7ca39844e995",
   "metadata": {},
   "source": [
    "<i>Уровень дохода:</i>\n",
    "<br/>Люди с наименьшим уровнем дохода, чаще оказываются в ситуации задолженности банку, стоит внимательнее изучить их дела перед одобрением выдачи кредита. Не стоит выдавать им большие суммы."
   ]
  },
  {
   "cell_type": "markdown",
   "id": "89d325e1-f441-4a86-a8ce-38e63697bcab",
   "metadata": {},
   "source": [
    "<i>Уровень образования:</i>\n",
    "<br/>Люди со средним образованием обладают наименьшим средним доходом. При этом процент должников среди людей со средним или неоконченным высшим образованием почти в два раза выше, относительно остальных категорий. Следовательно, людям со средним образованием стоит внимательнее давать кредит и воздержаться от операций с крупными суммами. Также возможно привлечение людей с высшим образованием или степенью путем маркетинговых компаний/льготных периодов."
   ]
  },
  {
   "cell_type": "markdown",
   "id": "61e7a925-4b08-4954-9655-f543b245756a",
   "metadata": {},
   "source": [
    "<i>Категории кредита:</i>\n",
    "<br/>Люди, берущие кредит на операции с автомобилем или получение образования чаще всего оказываются в долгах. Возможно, следует понизить ставку, либо ввести льготные периоды на эти категории. В случае получения образования возраст клиентов, скорее всего, будет скорее молодым. Таким образом, молодым людям можно предлагать дополнительные льготы на получение образования, чтобы повысить вероятность возвращения кредита."
   ]
  },
  {
   "cell_type": "markdown",
   "id": "c8b6bc53-3251-401f-a0ca-faf618e8ee16",
   "metadata": {},
   "source": [
    "<i>Возраст клиентов:</i>\n",
    "<br/>Молодые клиенты чаще оказываются должниками. Как уже было указано ранее, стоит ввести льготные периоды/ставки для такой категории клиентов, чтобы повысить вероятность возврата кредита."
   ]
  },
  {
   "cell_type": "markdown",
   "id": "552fd39f-99a5-4bfd-bcad-4618e78b4fc2",
   "metadata": {},
   "source": [
    "скидывать через github либо google colab\n"
   ]
  }
 ],
 "metadata": {
  "kernelspec": {
   "display_name": "Python 3 (ipykernel)",
   "language": "python",
   "name": "python3"
  },
  "language_info": {
   "codemirror_mode": {
    "name": "ipython",
    "version": 3
   },
   "file_extension": ".py",
   "mimetype": "text/x-python",
   "name": "python",
   "nbconvert_exporter": "python",
   "pygments_lexer": "ipython3",
   "version": "3.10.4"
  }
 },
 "nbformat": 4,
 "nbformat_minor": 5
}
